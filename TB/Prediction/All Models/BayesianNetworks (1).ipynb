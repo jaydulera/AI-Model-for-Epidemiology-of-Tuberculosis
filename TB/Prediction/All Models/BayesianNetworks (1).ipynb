{
  "nbformat": 4,
  "nbformat_minor": 0,
  "metadata": {
    "colab": {
      "name": "BayesianNetworks.ipynb",
      "provenance": []
    },
    "kernelspec": {
      "name": "python3",
      "display_name": "Python 3"
    }
  },
  "cells": [
    {
      "cell_type": "code",
      "metadata": {
        "id": "UaEMb5eObARI"
      },
      "source": [
        "import pandas as pd\n",
        "import numpy as np\n",
        "import tensorflow as tf\n",
        "tfk = tf.keras\n",
        "tf.keras.backend.set_floatx(\"float64\")\n",
        "import tensorflow_probability as tfp\n",
        "tfd = tfp.distributions\n",
        "from sklearn.preprocessing import StandardScaler\n",
        "from sklearn.ensemble import IsolationForest"
      ],
      "execution_count": null,
      "outputs": []
    },
    {
      "cell_type": "code",
      "metadata": {
        "id": "y2LKM02IbLu5"
      },
      "source": [
        "train = pd.read_csv('Final_Train.csv')"
      ],
      "execution_count": null,
      "outputs": []
    },
    {
      "cell_type": "code",
      "metadata": {
        "id": "48Nn3uwKbdoI"
      },
      "source": [
        "test = pd.read_csv('Final_Test.csv')"
      ],
      "execution_count": null,
      "outputs": []
    },
    {
      "cell_type": "code",
      "metadata": {
        "id": "lCs7OUT6bhHI"
      },
      "source": [
        "scaler = StandardScaler()\n",
        "detector = IsolationForest(n_estimators=1000, behaviour=\"deprecated\", contamination=\"auto\", random_state=0)\n",
        "neg_log_likelihood = lambda x, rv_x: -rv_x.log_prob(x)"
      ],
      "execution_count": null,
      "outputs": []
    },
    {
      "cell_type": "code",
      "metadata": {
        "id": "je9XpZbVbjDi",
        "colab": {
          "base_uri": "https://localhost:8080/",
          "height": 278
        },
        "outputId": "ac52c8b4-d51d-4dee-ea4e-ed9cd106bd14"
      },
      "source": [
        "train.head()"
      ],
      "execution_count": null,
      "outputs": [
        {
          "output_type": "execute_result",
          "data": {
            "text/html": [
              "<div>\n",
              "<style scoped>\n",
              "    .dataframe tbody tr th:only-of-type {\n",
              "        vertical-align: middle;\n",
              "    }\n",
              "\n",
              "    .dataframe tbody tr th {\n",
              "        vertical-align: top;\n",
              "    }\n",
              "\n",
              "    .dataframe thead th {\n",
              "        text-align: right;\n",
              "    }\n",
              "</style>\n",
              "<table border=\"1\" class=\"dataframe\">\n",
              "  <thead>\n",
              "    <tr style=\"text-align: right;\">\n",
              "      <th></th>\n",
              "      <th>AGRA</th>\n",
              "      <th>AIZAWL</th>\n",
              "      <th>ALAPPUZHA</th>\n",
              "      <th>ALLAHABAD</th>\n",
              "      <th>ALWAR</th>\n",
              "      <th>AMRAVATI</th>\n",
              "      <th>AMRITSAR</th>\n",
              "      <th>BATHINDA</th>\n",
              "      <th>BHARUCH</th>\n",
              "      <th>BHOPAL</th>\n",
              "      <th>BULANDSHAHR</th>\n",
              "      <th>CACHAR</th>\n",
              "      <th>CHANDIGARH</th>\n",
              "      <th>CHENNAI</th>\n",
              "      <th>CHITTOOR</th>\n",
              "      <th>COIMBATORE</th>\n",
              "      <th>CUTTACK</th>\n",
              "      <th>DAKSHINAKANNADA</th>\n",
              "      <th>DEHRADUN</th>\n",
              "      <th>DHANBAD</th>\n",
              "      <th>DIBRUGARH</th>\n",
              "      <th>DURG</th>\n",
              "      <th>EASTKHASIHILLS</th>\n",
              "      <th>ERNAKULAM</th>\n",
              "      <th>FATEHGARHSAHIB</th>\n",
              "      <th>FIROZABAD</th>\n",
              "      <th>GANJAM</th>\n",
              "      <th>GHAZIABAD</th>\n",
              "      <th>GOLAGHAT</th>\n",
              "      <th>GUNTUR</th>\n",
              "      <th>GWALIOR</th>\n",
              "      <th>HASSAN</th>\n",
              "      <th>INDORE</th>\n",
              "      <th>JABALPUR</th>\n",
              "      <th>JAIPUR</th>\n",
              "      <th>JALANDHAR</th>\n",
              "      <th>JALGAON</th>\n",
              "      <th>JAMNAGAR</th>\n",
              "      <th>JHANSI</th>\n",
              "      <th>JODHPUR</th>\n",
              "      <th>...</th>\n",
              "      <th>PUNE</th>\n",
              "      <th>RAJKOT</th>\n",
              "      <th>RANCHI</th>\n",
              "      <th>RAYAGADA</th>\n",
              "      <th>SAGAR</th>\n",
              "      <th>SALEM</th>\n",
              "      <th>SANGLI</th>\n",
              "      <th>SIRMAUR</th>\n",
              "      <th>SOLAN</th>\n",
              "      <th>SOLAPUR</th>\n",
              "      <th>SONBHADRA</th>\n",
              "      <th>SONITPUR</th>\n",
              "      <th>SOUTHGOA</th>\n",
              "      <th>SURAT</th>\n",
              "      <th>THANE</th>\n",
              "      <th>THIRUVANANTHAPURAM</th>\n",
              "      <th>VADODARA</th>\n",
              "      <th>VALSAD</th>\n",
              "      <th>VARANASI</th>\n",
              "      <th>VISAKHAPATNAM</th>\n",
              "      <th>year</th>\n",
              "      <th>quarter</th>\n",
              "      <th>rainfall</th>\n",
              "      <th>relative_humidity</th>\n",
              "      <th>average_temperature</th>\n",
              "      <th>NSP Total/ NewMicConf Total</th>\n",
              "      <th>Relapse Total</th>\n",
              "      <th>NSN Total</th>\n",
              "      <th>so2</th>\n",
              "      <th>no2</th>\n",
              "      <th>rspm</th>\n",
              "      <th>Pediatric</th>\n",
              "      <th>Geriatric</th>\n",
              "      <th>15-24</th>\n",
              "      <th>25-34</th>\n",
              "      <th>35-44</th>\n",
              "      <th>45-54</th>\n",
              "      <th>55-64</th>\n",
              "      <th>NEP Total</th>\n",
              "      <th>SumOfHIV_infected</th>\n",
              "    </tr>\n",
              "  </thead>\n",
              "  <tbody>\n",
              "    <tr>\n",
              "      <th>0</th>\n",
              "      <td>1</td>\n",
              "      <td>0</td>\n",
              "      <td>0</td>\n",
              "      <td>0</td>\n",
              "      <td>0</td>\n",
              "      <td>0</td>\n",
              "      <td>0</td>\n",
              "      <td>0</td>\n",
              "      <td>0</td>\n",
              "      <td>0</td>\n",
              "      <td>0</td>\n",
              "      <td>0</td>\n",
              "      <td>0</td>\n",
              "      <td>0</td>\n",
              "      <td>0</td>\n",
              "      <td>0</td>\n",
              "      <td>0</td>\n",
              "      <td>0</td>\n",
              "      <td>0</td>\n",
              "      <td>0</td>\n",
              "      <td>0</td>\n",
              "      <td>0</td>\n",
              "      <td>0</td>\n",
              "      <td>0</td>\n",
              "      <td>0</td>\n",
              "      <td>0</td>\n",
              "      <td>0</td>\n",
              "      <td>0</td>\n",
              "      <td>0</td>\n",
              "      <td>0</td>\n",
              "      <td>0</td>\n",
              "      <td>0</td>\n",
              "      <td>0</td>\n",
              "      <td>0</td>\n",
              "      <td>0</td>\n",
              "      <td>0</td>\n",
              "      <td>0</td>\n",
              "      <td>0</td>\n",
              "      <td>0</td>\n",
              "      <td>0</td>\n",
              "      <td>...</td>\n",
              "      <td>0</td>\n",
              "      <td>0</td>\n",
              "      <td>0</td>\n",
              "      <td>0</td>\n",
              "      <td>0</td>\n",
              "      <td>0</td>\n",
              "      <td>0</td>\n",
              "      <td>0</td>\n",
              "      <td>0</td>\n",
              "      <td>0</td>\n",
              "      <td>0</td>\n",
              "      <td>0</td>\n",
              "      <td>0</td>\n",
              "      <td>0</td>\n",
              "      <td>0</td>\n",
              "      <td>0</td>\n",
              "      <td>0</td>\n",
              "      <td>0</td>\n",
              "      <td>0</td>\n",
              "      <td>0</td>\n",
              "      <td>2008</td>\n",
              "      <td>1</td>\n",
              "      <td>2.6</td>\n",
              "      <td>21.728250</td>\n",
              "      <td>18.952113</td>\n",
              "      <td>491</td>\n",
              "      <td>109</td>\n",
              "      <td>421</td>\n",
              "      <td>7.803030</td>\n",
              "      <td>23.744767</td>\n",
              "      <td>215.715909</td>\n",
              "      <td>24</td>\n",
              "      <td>26</td>\n",
              "      <td>111</td>\n",
              "      <td>102</td>\n",
              "      <td>101</td>\n",
              "      <td>73</td>\n",
              "      <td>54</td>\n",
              "      <td>275</td>\n",
              "      <td>0</td>\n",
              "    </tr>\n",
              "    <tr>\n",
              "      <th>1</th>\n",
              "      <td>1</td>\n",
              "      <td>0</td>\n",
              "      <td>0</td>\n",
              "      <td>0</td>\n",
              "      <td>0</td>\n",
              "      <td>0</td>\n",
              "      <td>0</td>\n",
              "      <td>0</td>\n",
              "      <td>0</td>\n",
              "      <td>0</td>\n",
              "      <td>0</td>\n",
              "      <td>0</td>\n",
              "      <td>0</td>\n",
              "      <td>0</td>\n",
              "      <td>0</td>\n",
              "      <td>0</td>\n",
              "      <td>0</td>\n",
              "      <td>0</td>\n",
              "      <td>0</td>\n",
              "      <td>0</td>\n",
              "      <td>0</td>\n",
              "      <td>0</td>\n",
              "      <td>0</td>\n",
              "      <td>0</td>\n",
              "      <td>0</td>\n",
              "      <td>0</td>\n",
              "      <td>0</td>\n",
              "      <td>0</td>\n",
              "      <td>0</td>\n",
              "      <td>0</td>\n",
              "      <td>0</td>\n",
              "      <td>0</td>\n",
              "      <td>0</td>\n",
              "      <td>0</td>\n",
              "      <td>0</td>\n",
              "      <td>0</td>\n",
              "      <td>0</td>\n",
              "      <td>0</td>\n",
              "      <td>0</td>\n",
              "      <td>0</td>\n",
              "      <td>...</td>\n",
              "      <td>0</td>\n",
              "      <td>0</td>\n",
              "      <td>0</td>\n",
              "      <td>0</td>\n",
              "      <td>0</td>\n",
              "      <td>0</td>\n",
              "      <td>0</td>\n",
              "      <td>0</td>\n",
              "      <td>0</td>\n",
              "      <td>0</td>\n",
              "      <td>0</td>\n",
              "      <td>0</td>\n",
              "      <td>0</td>\n",
              "      <td>0</td>\n",
              "      <td>0</td>\n",
              "      <td>0</td>\n",
              "      <td>0</td>\n",
              "      <td>0</td>\n",
              "      <td>0</td>\n",
              "      <td>0</td>\n",
              "      <td>2008</td>\n",
              "      <td>2</td>\n",
              "      <td>150.8</td>\n",
              "      <td>35.571308</td>\n",
              "      <td>30.605233</td>\n",
              "      <td>795</td>\n",
              "      <td>127</td>\n",
              "      <td>551</td>\n",
              "      <td>7.341732</td>\n",
              "      <td>22.504294</td>\n",
              "      <td>184.648809</td>\n",
              "      <td>31</td>\n",
              "      <td>37</td>\n",
              "      <td>218</td>\n",
              "      <td>186</td>\n",
              "      <td>150</td>\n",
              "      <td>98</td>\n",
              "      <td>75</td>\n",
              "      <td>391</td>\n",
              "      <td>0</td>\n",
              "    </tr>\n",
              "    <tr>\n",
              "      <th>2</th>\n",
              "      <td>1</td>\n",
              "      <td>0</td>\n",
              "      <td>0</td>\n",
              "      <td>0</td>\n",
              "      <td>0</td>\n",
              "      <td>0</td>\n",
              "      <td>0</td>\n",
              "      <td>0</td>\n",
              "      <td>0</td>\n",
              "      <td>0</td>\n",
              "      <td>0</td>\n",
              "      <td>0</td>\n",
              "      <td>0</td>\n",
              "      <td>0</td>\n",
              "      <td>0</td>\n",
              "      <td>0</td>\n",
              "      <td>0</td>\n",
              "      <td>0</td>\n",
              "      <td>0</td>\n",
              "      <td>0</td>\n",
              "      <td>0</td>\n",
              "      <td>0</td>\n",
              "      <td>0</td>\n",
              "      <td>0</td>\n",
              "      <td>0</td>\n",
              "      <td>0</td>\n",
              "      <td>0</td>\n",
              "      <td>0</td>\n",
              "      <td>0</td>\n",
              "      <td>0</td>\n",
              "      <td>0</td>\n",
              "      <td>0</td>\n",
              "      <td>0</td>\n",
              "      <td>0</td>\n",
              "      <td>0</td>\n",
              "      <td>0</td>\n",
              "      <td>0</td>\n",
              "      <td>0</td>\n",
              "      <td>0</td>\n",
              "      <td>0</td>\n",
              "      <td>...</td>\n",
              "      <td>0</td>\n",
              "      <td>0</td>\n",
              "      <td>0</td>\n",
              "      <td>0</td>\n",
              "      <td>0</td>\n",
              "      <td>0</td>\n",
              "      <td>0</td>\n",
              "      <td>0</td>\n",
              "      <td>0</td>\n",
              "      <td>0</td>\n",
              "      <td>0</td>\n",
              "      <td>0</td>\n",
              "      <td>0</td>\n",
              "      <td>0</td>\n",
              "      <td>0</td>\n",
              "      <td>0</td>\n",
              "      <td>0</td>\n",
              "      <td>0</td>\n",
              "      <td>0</td>\n",
              "      <td>0</td>\n",
              "      <td>2008</td>\n",
              "      <td>3</td>\n",
              "      <td>368.9</td>\n",
              "      <td>81.344806</td>\n",
              "      <td>28.749821</td>\n",
              "      <td>649</td>\n",
              "      <td>118</td>\n",
              "      <td>383</td>\n",
              "      <td>7.021000</td>\n",
              "      <td>17.422785</td>\n",
              "      <td>136.511628</td>\n",
              "      <td>30</td>\n",
              "      <td>30</td>\n",
              "      <td>190</td>\n",
              "      <td>132</td>\n",
              "      <td>131</td>\n",
              "      <td>84</td>\n",
              "      <td>52</td>\n",
              "      <td>363</td>\n",
              "      <td>0</td>\n",
              "    </tr>\n",
              "    <tr>\n",
              "      <th>3</th>\n",
              "      <td>1</td>\n",
              "      <td>0</td>\n",
              "      <td>0</td>\n",
              "      <td>0</td>\n",
              "      <td>0</td>\n",
              "      <td>0</td>\n",
              "      <td>0</td>\n",
              "      <td>0</td>\n",
              "      <td>0</td>\n",
              "      <td>0</td>\n",
              "      <td>0</td>\n",
              "      <td>0</td>\n",
              "      <td>0</td>\n",
              "      <td>0</td>\n",
              "      <td>0</td>\n",
              "      <td>0</td>\n",
              "      <td>0</td>\n",
              "      <td>0</td>\n",
              "      <td>0</td>\n",
              "      <td>0</td>\n",
              "      <td>0</td>\n",
              "      <td>0</td>\n",
              "      <td>0</td>\n",
              "      <td>0</td>\n",
              "      <td>0</td>\n",
              "      <td>0</td>\n",
              "      <td>0</td>\n",
              "      <td>0</td>\n",
              "      <td>0</td>\n",
              "      <td>0</td>\n",
              "      <td>0</td>\n",
              "      <td>0</td>\n",
              "      <td>0</td>\n",
              "      <td>0</td>\n",
              "      <td>0</td>\n",
              "      <td>0</td>\n",
              "      <td>0</td>\n",
              "      <td>0</td>\n",
              "      <td>0</td>\n",
              "      <td>0</td>\n",
              "      <td>...</td>\n",
              "      <td>0</td>\n",
              "      <td>0</td>\n",
              "      <td>0</td>\n",
              "      <td>0</td>\n",
              "      <td>0</td>\n",
              "      <td>0</td>\n",
              "      <td>0</td>\n",
              "      <td>0</td>\n",
              "      <td>0</td>\n",
              "      <td>0</td>\n",
              "      <td>0</td>\n",
              "      <td>0</td>\n",
              "      <td>0</td>\n",
              "      <td>0</td>\n",
              "      <td>0</td>\n",
              "      <td>0</td>\n",
              "      <td>0</td>\n",
              "      <td>0</td>\n",
              "      <td>0</td>\n",
              "      <td>0</td>\n",
              "      <td>2008</td>\n",
              "      <td>4</td>\n",
              "      <td>0.8</td>\n",
              "      <td>54.863122</td>\n",
              "      <td>22.181595</td>\n",
              "      <td>686</td>\n",
              "      <td>126</td>\n",
              "      <td>346</td>\n",
              "      <td>6.832886</td>\n",
              "      <td>27.542857</td>\n",
              "      <td>224.551219</td>\n",
              "      <td>32</td>\n",
              "      <td>36</td>\n",
              "      <td>176</td>\n",
              "      <td>137</td>\n",
              "      <td>147</td>\n",
              "      <td>101</td>\n",
              "      <td>57</td>\n",
              "      <td>291</td>\n",
              "      <td>0</td>\n",
              "    </tr>\n",
              "    <tr>\n",
              "      <th>4</th>\n",
              "      <td>1</td>\n",
              "      <td>0</td>\n",
              "      <td>0</td>\n",
              "      <td>0</td>\n",
              "      <td>0</td>\n",
              "      <td>0</td>\n",
              "      <td>0</td>\n",
              "      <td>0</td>\n",
              "      <td>0</td>\n",
              "      <td>0</td>\n",
              "      <td>0</td>\n",
              "      <td>0</td>\n",
              "      <td>0</td>\n",
              "      <td>0</td>\n",
              "      <td>0</td>\n",
              "      <td>0</td>\n",
              "      <td>0</td>\n",
              "      <td>0</td>\n",
              "      <td>0</td>\n",
              "      <td>0</td>\n",
              "      <td>0</td>\n",
              "      <td>0</td>\n",
              "      <td>0</td>\n",
              "      <td>0</td>\n",
              "      <td>0</td>\n",
              "      <td>0</td>\n",
              "      <td>0</td>\n",
              "      <td>0</td>\n",
              "      <td>0</td>\n",
              "      <td>0</td>\n",
              "      <td>0</td>\n",
              "      <td>0</td>\n",
              "      <td>0</td>\n",
              "      <td>0</td>\n",
              "      <td>0</td>\n",
              "      <td>0</td>\n",
              "      <td>0</td>\n",
              "      <td>0</td>\n",
              "      <td>0</td>\n",
              "      <td>0</td>\n",
              "      <td>...</td>\n",
              "      <td>0</td>\n",
              "      <td>0</td>\n",
              "      <td>0</td>\n",
              "      <td>0</td>\n",
              "      <td>0</td>\n",
              "      <td>0</td>\n",
              "      <td>0</td>\n",
              "      <td>0</td>\n",
              "      <td>0</td>\n",
              "      <td>0</td>\n",
              "      <td>0</td>\n",
              "      <td>0</td>\n",
              "      <td>0</td>\n",
              "      <td>0</td>\n",
              "      <td>0</td>\n",
              "      <td>0</td>\n",
              "      <td>0</td>\n",
              "      <td>0</td>\n",
              "      <td>0</td>\n",
              "      <td>0</td>\n",
              "      <td>2009</td>\n",
              "      <td>1</td>\n",
              "      <td>8.8</td>\n",
              "      <td>32.535027</td>\n",
              "      <td>20.001286</td>\n",
              "      <td>719</td>\n",
              "      <td>148</td>\n",
              "      <td>364</td>\n",
              "      <td>7.278723</td>\n",
              "      <td>21.356085</td>\n",
              "      <td>189.052632</td>\n",
              "      <td>38</td>\n",
              "      <td>33</td>\n",
              "      <td>165</td>\n",
              "      <td>137</td>\n",
              "      <td>165</td>\n",
              "      <td>101</td>\n",
              "      <td>80</td>\n",
              "      <td>378</td>\n",
              "      <td>0</td>\n",
              "    </tr>\n",
              "  </tbody>\n",
              "</table>\n",
              "<p>5 rows × 97 columns</p>\n",
              "</div>"
            ],
            "text/plain": [
              "   AGRA  AIZAWL  ALAPPUZHA  ...  55-64  NEP Total  SumOfHIV_infected\n",
              "0     1       0          0  ...     54        275                  0\n",
              "1     1       0          0  ...     75        391                  0\n",
              "2     1       0          0  ...     52        363                  0\n",
              "3     1       0          0  ...     57        291                  0\n",
              "4     1       0          0  ...     80        378                  0\n",
              "\n",
              "[5 rows x 97 columns]"
            ]
          },
          "metadata": {
            "tags": []
          },
          "execution_count": 5
        }
      ]
    },
    {
      "cell_type": "code",
      "metadata": {
        "id": "KsC25Mp2boAM"
      },
      "source": [
        "final = train.drop(['Pediatric' , 'Geriatric' , '15-24' , '25-34' , '35-44' , '45-54' , '55-64' , 'SumOfHIV_infected'] , axis = 1)"
      ],
      "execution_count": null,
      "outputs": []
    },
    {
      "cell_type": "code",
      "metadata": {
        "id": "vZz3Nd3KcAfo"
      },
      "source": [
        "final = final.fillna(method ='bfill') "
      ],
      "execution_count": null,
      "outputs": []
    },
    {
      "cell_type": "code",
      "metadata": {
        "id": "Npb0Emp_c_-U"
      },
      "source": [
        "data = final"
      ],
      "execution_count": null,
      "outputs": []
    },
    {
      "cell_type": "code",
      "metadata": {
        "id": "3fSrUq_ZdaO_"
      },
      "source": [
        "columns = data.columns"
      ],
      "execution_count": null,
      "outputs": []
    },
    {
      "cell_type": "code",
      "metadata": {
        "id": "hH2fUxVbdchv"
      },
      "source": [
        "X_t = scaler.fit_transform(data)"
      ],
      "execution_count": null,
      "outputs": []
    },
    {
      "cell_type": "code",
      "metadata": {
        "id": "0LoOfefaddu3"
      },
      "source": [
        "is_inlier = detector.fit_predict(X_t)\n",
        "X_t = X_t[(is_inlier > 0),:]"
      ],
      "execution_count": null,
      "outputs": []
    },
    {
      "cell_type": "code",
      "metadata": {
        "id": "0X1QGJ37dgIC"
      },
      "source": [
        "dataset = pd.DataFrame(X_t, columns=columns)"
      ],
      "execution_count": null,
      "outputs": []
    },
    {
      "cell_type": "code",
      "metadata": {
        "id": "V9ht-o1tdiSU"
      },
      "source": [
        "n_epochs = 50\n",
        "n_samples = dataset.shape[0]\n",
        "n_batches = 10\n",
        "batch_size = np.floor(n_samples/n_batches)\n",
        "buffer_size = n_samples"
      ],
      "execution_count": null,
      "outputs": []
    },
    {
      "cell_type": "code",
      "metadata": {
        "id": "Zd5BiyNWdoXH"
      },
      "source": [
        "inputs = ['AGRA', 'AIZAWL', 'ALAPPUZHA', 'ALLAHABAD', 'ALWAR', 'AMRAVATI',\n",
        "       'AMRITSAR', 'BATHINDA', 'BHARUCH', 'BHOPAL', 'BULANDSHAHR', 'CACHAR',\n",
        "       'CHANDIGARH', 'CHENNAI', 'CHITTOOR', 'COIMBATORE', 'CUTTACK',\n",
        "       'DAKSHINAKANNADA', 'DEHRADUN', 'DHANBAD', 'DIBRUGARH', 'DURG',\n",
        "       'EASTKHASIHILLS', 'ERNAKULAM', 'FATEHGARHSAHIB', 'FIROZABAD', 'GANJAM',\n",
        "       'GHAZIABAD', 'GOLAGHAT', 'GUNTUR', 'GWALIOR', 'HASSAN', 'INDORE',\n",
        "       'JABALPUR', 'JAIPUR', 'JALANDHAR', 'JALGAON', 'JAMNAGAR', 'JHANSI',\n",
        "       'JODHPUR', 'KANPURNAGAR', 'KOLHAPUR', 'KOLLAM', 'KORBA', 'KOTTAYAM',\n",
        "       'KOZHIKODE', 'KURNOOL', 'LATUR', 'LUCKNOW', 'LUDHIANA', 'MADURAI',\n",
        "       'MORADABAD', 'NAGPUR', 'NASHIK', 'NORTHGOA', 'PALAKKAD', 'PATIALA',\n",
        "       'PUNE', 'RAJKOT', 'RANCHI', 'RAYAGADA', 'SAGAR', 'SALEM', 'SANGLI',\n",
        "       'SIRMAUR', 'SOLAN', 'SOLAPUR', 'SONBHADRA', 'SONITPUR', 'SOUTHGOA',\n",
        "       'SURAT', 'THANE', 'THIRUVANANTHAPURAM', 'VADODARA', 'VALSAD',\n",
        "       'VARANASI', 'VISAKHAPATNAM', 'year', 'quarter', 'rainfall',\n",
        "       'relative_humidity', 'average_temperature',\n",
        "       'NSP Total/ NewMicConf Total', 'Relapse Total', 'NSN Total', 'so2',\n",
        "       'no2', 'rspm']"
      ],
      "execution_count": null,
      "outputs": []
    },
    {
      "cell_type": "code",
      "metadata": {
        "id": "JjoAmzL6dt4K"
      },
      "source": [
        "outputs = ['NEP Total']"
      ],
      "execution_count": null,
      "outputs": []
    },
    {
      "cell_type": "code",
      "metadata": {
        "id": "pcR3P6wHfIoo"
      },
      "source": [
        "n_train = int(0.7*dataset.shape[0])"
      ],
      "execution_count": null,
      "outputs": []
    },
    {
      "cell_type": "code",
      "metadata": {
        "id": "4hDRqZuPfPdW"
      },
      "source": [
        "data = tf.data.Dataset.from_tensor_slices((dataset[inputs].values, dataset[outputs].values))\n",
        "data = data.shuffle(n_samples, reshuffle_each_iteration=True)"
      ],
      "execution_count": null,
      "outputs": []
    },
    {
      "cell_type": "code",
      "metadata": {
        "id": "j5YOF546fS7F"
      },
      "source": [
        "data_train = data.take(n_train).batch(batch_size).repeat(n_epochs)\n",
        "data_test = data.skip(n_train).batch(1).repeat(n_epochs)"
      ],
      "execution_count": null,
      "outputs": []
    },
    {
      "cell_type": "code",
      "metadata": {
        "id": "4mXpzsrSfV_P"
      },
      "source": [
        "prior = tfd.Independent(tfd.Normal(loc=tf.zeros(len(outputs), dtype=tf.float64), scale=1.0), reinterpreted_batch_ndims=1)"
      ],
      "execution_count": null,
      "outputs": []
    },
    {
      "cell_type": "code",
      "metadata": {
        "id": "9savY4nTfdvt",
        "colab": {
          "base_uri": "https://localhost:8080/"
        },
        "outputId": "e985a527-0f6f-44dd-ac91-45fcd7765904"
      },
      "source": [
        "model = tfk.Sequential([\n",
        "tfk.layers.InputLayer(input_shape=(len(inputs),), name=\"input\"),\n",
        "tfk.layers.Dense(10, activation=\"relu\", name=\"dense_1\"),\n",
        "tfk.layers.Dense(tfp.layers.MultivariateNormalTriL.params_size(\n",
        "len(outputs)), activation=None, name=\"distribution_weights\"),\n",
        "tfp.layers.MultivariateNormalTriL(len(outputs), activity_regularizer=tfp.layers.KLDivergenceRegularizer(prior, weight=1/n_batches), name=\"output\")\n",
        "], name=\"model\")"
      ],
      "execution_count": null,
      "outputs": [
        {
          "output_type": "stream",
          "text": [
            "WARNING:tensorflow:From /usr/local/lib/python3.6/dist-packages/tensorflow/python/ops/linalg/linear_operator_lower_triangular.py:158: calling LinearOperator.__init__ (from tensorflow.python.ops.linalg.linear_operator) with graph_parents is deprecated and will be removed in a future version.\n",
            "Instructions for updating:\n",
            "Do not pass `graph_parents`.  They will  no longer be used.\n"
          ],
          "name": "stdout"
        }
      ]
    },
    {
      "cell_type": "code",
      "metadata": {
        "id": "oFgFyAqffhjZ"
      },
      "source": [
        "model.compile(optimizer=\"adam\", loss=neg_log_likelihood)"
      ],
      "execution_count": null,
      "outputs": []
    },
    {
      "cell_type": "code",
      "metadata": {
        "id": "jap6xq6Jfmiu",
        "colab": {
          "base_uri": "https://localhost:8080/"
        },
        "outputId": "96e66963-3385-448e-c542-ced50fc55954"
      },
      "source": [
        "model.fit(data_train, epochs=n_epochs, validation_data=data_test, verbose=False)"
      ],
      "execution_count": null,
      "outputs": [
        {
          "output_type": "execute_result",
          "data": {
            "text/plain": [
              "<tensorflow.python.keras.callbacks.History at 0x7f46dda415f8>"
            ]
          },
          "metadata": {
            "tags": []
          },
          "execution_count": 37
        }
      ]
    },
    {
      "cell_type": "code",
      "metadata": {
        "id": "7sA00BT3mG7q",
        "colab": {
          "base_uri": "https://localhost:8080/"
        },
        "outputId": "1c088a05-526e-4300-e2b0-fe0b21345126"
      },
      "source": [
        "model.summary()"
      ],
      "execution_count": null,
      "outputs": [
        {
          "output_type": "stream",
          "text": [
            "Model: \"model\"\n",
            "_________________________________________________________________\n",
            "Layer (type)                 Output Shape              Param #   \n",
            "=================================================================\n",
            "dense_1 (Dense)              (None, 10)                890       \n",
            "_________________________________________________________________\n",
            "distribution_weights (Dense) (None, 2)                 22        \n",
            "_________________________________________________________________\n",
            "output (MultivariateNormalTr ((None, 1), (None, 1))    0         \n",
            "=================================================================\n",
            "Total params: 912\n",
            "Trainable params: 912\n",
            "Non-trainable params: 0\n",
            "_________________________________________________________________\n"
          ],
          "name": "stdout"
        }
      ]
    },
    {
      "cell_type": "code",
      "metadata": {
        "id": "0inRvZDVmQ3h",
        "colab": {
          "base_uri": "https://localhost:8080/"
        },
        "outputId": "10d9e53c-48a5-441e-e04c-28cfbe94ac89"
      },
      "source": [
        "tfp.layers.DenseFlipout(10, activation=\"relu\", name=\"dense_1\")"
      ],
      "execution_count": null,
      "outputs": [
        {
          "output_type": "execute_result",
          "data": {
            "text/plain": [
              "<tensorflow_probability.python.layers.dense_variational.DenseFlipout at 0x7f46e4152278>"
            ]
          },
          "metadata": {
            "tags": []
          },
          "execution_count": 40
        }
      ]
    },
    {
      "cell_type": "code",
      "metadata": {
        "id": "cjpBkbDdmXKI"
      },
      "source": [
        "samples = 500\n",
        "iterations = 10\n",
        "test_iterator = tf.compat.v1.data.make_one_shot_iterator(data_test)\n",
        "X_true, Y_true, Y_pred = np.empty(shape=(samples, len(inputs))), np.empty(shape=(samples, len(outputs))), np.empty(shape=(samples, len(outputs), iterations))\n",
        "for i in range(samples):\n",
        "    features, labels = test_iterator.get_next()\n",
        "    X_true[i,:] = features\n",
        "    Y_true[i,:] = labels.numpy()\n",
        "    for k in range(iterations):\n",
        "        Y_pred[i,:,k] = model.predict(features)"
      ],
      "execution_count": null,
      "outputs": []
    },
    {
      "cell_type": "code",
      "metadata": {
        "id": "qvOFIcC3mil0",
        "colab": {
          "base_uri": "https://localhost:8080/"
        },
        "outputId": "1bed842e-8b48-415d-a8fa-1fcdf8e831c0"
      },
      "source": [
        " Y_pred.shape"
      ],
      "execution_count": null,
      "outputs": [
        {
          "output_type": "execute_result",
          "data": {
            "text/plain": [
              "(500, 1, 10)"
            ]
          },
          "metadata": {
            "tags": []
          },
          "execution_count": 42
        }
      ]
    },
    {
      "cell_type": "code",
      "metadata": {
        "id": "d0aEpaVanURz",
        "colab": {
          "base_uri": "https://localhost:8080/"
        },
        "outputId": "c64c045c-cb39-44db-e747-8edadcc7a07a"
      },
      "source": [
        "Y_true.shape"
      ],
      "execution_count": null,
      "outputs": [
        {
          "output_type": "execute_result",
          "data": {
            "text/plain": [
              "(500, 1)"
            ]
          },
          "metadata": {
            "tags": []
          },
          "execution_count": 43
        }
      ]
    },
    {
      "cell_type": "code",
      "metadata": {
        "id": "YKGWNGtenWAr"
      },
      "source": [
        "pred = []"
      ],
      "execution_count": null,
      "outputs": []
    },
    {
      "cell_type": "code",
      "metadata": {
        "id": "8EPhIQcQnae3"
      },
      "source": [
        "for i in Y_pred:\n",
        "  pred.append(i.mean())"
      ],
      "execution_count": null,
      "outputs": []
    },
    {
      "cell_type": "code",
      "metadata": {
        "id": "9xfY4dOHngj2"
      },
      "source": [
        "from sklearn.metrics import r2_score"
      ],
      "execution_count": null,
      "outputs": []
    },
    {
      "cell_type": "code",
      "metadata": {
        "id": "yX2sIGvXnlJG",
        "colab": {
          "base_uri": "https://localhost:8080/"
        },
        "outputId": "c7807a82-ba9c-4a1a-fc3f-2407d655b845"
      },
      "source": [
        "r2_score(Y_true , pred)"
      ],
      "execution_count": null,
      "outputs": [
        {
          "output_type": "execute_result",
          "data": {
            "text/plain": [
              "0.8838404244115738"
            ]
          },
          "metadata": {
            "tags": []
          },
          "execution_count": 49
        }
      ]
    },
    {
      "cell_type": "code",
      "metadata": {
        "id": "ZUBjNF0gnvmH"
      },
      "source": [
        ""
      ],
      "execution_count": null,
      "outputs": []
    }
  ]
}