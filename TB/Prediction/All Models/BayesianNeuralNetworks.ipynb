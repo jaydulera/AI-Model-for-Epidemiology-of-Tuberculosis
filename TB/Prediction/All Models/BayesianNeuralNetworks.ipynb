{
  "nbformat": 4,
  "nbformat_minor": 0,
  "metadata": {
    "colab": {
      "name": "BayesianNeuralNetworks.ipynb",
      "provenance": []
    },
    "kernelspec": {
      "name": "python3",
      "display_name": "Python 3"
    }
  },
  "cells": [
    {
      "cell_type": "code",
      "metadata": {
        "id": "jVEa1mAcR40g"
      },
      "source": [
        "import pandas as pd\n",
        "import numpy as np\n",
        "import tensorflow as tf\n",
        "tfk = tf.keras\n",
        "tf.keras.backend.set_floatx(\"float64\")\n",
        "import tensorflow_probability as tfp\n",
        "tfd = tfp.distributions\n",
        "from sklearn.preprocessing import StandardScaler\n",
        "from sklearn.ensemble import IsolationForest"
      ],
      "execution_count": null,
      "outputs": []
    },
    {
      "cell_type": "code",
      "metadata": {
        "id": "pBl5HlW2SFwH"
      },
      "source": [
        "scaler = StandardScaler()\n",
        "detector = IsolationForest(n_estimators=1000, behaviour=\"deprecated\", contamination=\"auto\", random_state=0)\n",
        "neg_log_likelihood = lambda x, rv_x: -rv_x.log_prob(x)"
      ],
      "execution_count": null,
      "outputs": []
    },
    {
      "cell_type": "code",
      "metadata": {
        "id": "OYBjmxOsSS0_"
      },
      "source": [
        "df1 = pd.read_csv('FinalTraining.csv')"
      ],
      "execution_count": null,
      "outputs": []
    },
    {
      "cell_type": "code",
      "metadata": {
        "id": "2IDq92ZESlcT"
      },
      "source": [
        "df2 = pd.read_csv('KURNOOL.csv')"
      ],
      "execution_count": null,
      "outputs": []
    },
    {
      "cell_type": "code",
      "metadata": {
        "id": "ZhnrUHzASsY2"
      },
      "source": [
        "df3 = pd.read_csv('Training_Dataset.csv')"
      ],
      "execution_count": null,
      "outputs": []
    },
    {
      "cell_type": "code",
      "metadata": {
        "id": "5YwZSvZxSxcJ",
        "colab": {
          "base_uri": "https://localhost:8080/",
          "height": 266
        },
        "outputId": "0bc958f9-05e6-48ff-9182-2c49311fa320"
      },
      "source": [
        "df2.head()"
      ],
      "execution_count": null,
      "outputs": [
        {
          "output_type": "execute_result",
          "data": {
            "text/html": [
              "<div>\n",
              "<style scoped>\n",
              "    .dataframe tbody tr th:only-of-type {\n",
              "        vertical-align: middle;\n",
              "    }\n",
              "\n",
              "    .dataframe tbody tr th {\n",
              "        vertical-align: top;\n",
              "    }\n",
              "\n",
              "    .dataframe thead th {\n",
              "        text-align: right;\n",
              "    }\n",
              "</style>\n",
              "<table border=\"1\" class=\"dataframe\">\n",
              "  <thead>\n",
              "    <tr style=\"text-align: right;\">\n",
              "      <th></th>\n",
              "      <th>Unnamed: 0</th>\n",
              "      <th>State</th>\n",
              "      <th>District</th>\n",
              "      <th>year</th>\n",
              "      <th>quarter</th>\n",
              "      <th>rainfall</th>\n",
              "      <th>relative_humidity</th>\n",
              "      <th>average_temperature</th>\n",
              "      <th>NSP Male/ NewMicConfMale</th>\n",
              "      <th>NSP Female/ NewMicConf Female</th>\n",
              "      <th>NSP Total/ NewMicConf Total</th>\n",
              "      <th>Relapse Male</th>\n",
              "      <th>Relapse Female</th>\n",
              "      <th>NSN Male/NewClinDiag Male</th>\n",
              "      <th>NSN Female/NewClinDiag Female</th>\n",
              "      <th>NEP Male</th>\n",
              "      <th>NEP Female</th>\n",
              "      <th>0-14 yrs NSP(NewAll207+) Male</th>\n",
              "      <th>0-14 yrs NSP(NewAll207+) Female</th>\n",
              "      <th>15-24 yrs NSP(NewAll207+) Male</th>\n",
              "      <th>15-24 yrs NSP(NewAll207+) Female</th>\n",
              "      <th>25-34 yrs NSP(NewAll207+) Male</th>\n",
              "      <th>25-34 yrs NSP(NewAll207+) Female</th>\n",
              "      <th>35-44 yrs NSP(NewAll207+) Male</th>\n",
              "      <th>35-44 yrs NSP(NewAll207+) Female</th>\n",
              "      <th>45-54 yrs NSP(NewAll207+) Male</th>\n",
              "      <th>45-54 yrs NSP(NewAll207+) Female</th>\n",
              "      <th>55-64 yrs NSP(NewAll207+) Male</th>\n",
              "      <th>55-64 yrs NSP(NewAll207+) Female</th>\n",
              "      <th>65 &amp; above yrs NSP(NewAll207+) Male</th>\n",
              "      <th>65 &amp; above yrs NSP(NewAll207+) Female</th>\n",
              "      <th>SumOfHIV_Tested</th>\n",
              "      <th>SumOfHIV_infected</th>\n",
              "      <th>so2</th>\n",
              "      <th>no2</th>\n",
              "      <th>rspm</th>\n",
              "    </tr>\n",
              "  </thead>\n",
              "  <tbody>\n",
              "    <tr>\n",
              "      <th>0</th>\n",
              "      <td>0</td>\n",
              "      <td>ANDHRAPRADESH</td>\n",
              "      <td>KURNOOL</td>\n",
              "      <td>2008</td>\n",
              "      <td>1</td>\n",
              "      <td>157.3</td>\n",
              "      <td>54.810337</td>\n",
              "      <td>26.115425</td>\n",
              "      <td>374</td>\n",
              "      <td>146</td>\n",
              "      <td>520</td>\n",
              "      <td>74</td>\n",
              "      <td>23</td>\n",
              "      <td>408</td>\n",
              "      <td>246</td>\n",
              "      <td>50</td>\n",
              "      <td>52</td>\n",
              "      <td>3</td>\n",
              "      <td>4</td>\n",
              "      <td>52</td>\n",
              "      <td>33</td>\n",
              "      <td>76</td>\n",
              "      <td>46</td>\n",
              "      <td>85</td>\n",
              "      <td>29</td>\n",
              "      <td>82</td>\n",
              "      <td>20</td>\n",
              "      <td>52</td>\n",
              "      <td>10</td>\n",
              "      <td>24</td>\n",
              "      <td>4</td>\n",
              "      <td>0</td>\n",
              "      <td>0</td>\n",
              "      <td>4.0</td>\n",
              "      <td>11.644444</td>\n",
              "      <td>73.074074</td>\n",
              "    </tr>\n",
              "    <tr>\n",
              "      <th>1</th>\n",
              "      <td>1</td>\n",
              "      <td>ANDHRAPRADESH</td>\n",
              "      <td>KURNOOL</td>\n",
              "      <td>2008</td>\n",
              "      <td>2</td>\n",
              "      <td>103.7</td>\n",
              "      <td>51.573703</td>\n",
              "      <td>30.960950</td>\n",
              "      <td>403</td>\n",
              "      <td>159</td>\n",
              "      <td>562</td>\n",
              "      <td>79</td>\n",
              "      <td>23</td>\n",
              "      <td>352</td>\n",
              "      <td>204</td>\n",
              "      <td>50</td>\n",
              "      <td>87</td>\n",
              "      <td>1</td>\n",
              "      <td>5</td>\n",
              "      <td>47</td>\n",
              "      <td>38</td>\n",
              "      <td>82</td>\n",
              "      <td>40</td>\n",
              "      <td>85</td>\n",
              "      <td>33</td>\n",
              "      <td>86</td>\n",
              "      <td>17</td>\n",
              "      <td>55</td>\n",
              "      <td>12</td>\n",
              "      <td>47</td>\n",
              "      <td>14</td>\n",
              "      <td>141</td>\n",
              "      <td>29</td>\n",
              "      <td>4.0</td>\n",
              "      <td>11.148276</td>\n",
              "      <td>69.482759</td>\n",
              "    </tr>\n",
              "    <tr>\n",
              "      <th>2</th>\n",
              "      <td>2</td>\n",
              "      <td>ANDHRAPRADESH</td>\n",
              "      <td>KURNOOL</td>\n",
              "      <td>2008</td>\n",
              "      <td>3</td>\n",
              "      <td>551.1</td>\n",
              "      <td>76.170427</td>\n",
              "      <td>27.490968</td>\n",
              "      <td>360</td>\n",
              "      <td>158</td>\n",
              "      <td>518</td>\n",
              "      <td>86</td>\n",
              "      <td>25</td>\n",
              "      <td>340</td>\n",
              "      <td>182</td>\n",
              "      <td>68</td>\n",
              "      <td>68</td>\n",
              "      <td>1</td>\n",
              "      <td>2</td>\n",
              "      <td>45</td>\n",
              "      <td>37</td>\n",
              "      <td>59</td>\n",
              "      <td>41</td>\n",
              "      <td>86</td>\n",
              "      <td>27</td>\n",
              "      <td>85</td>\n",
              "      <td>22</td>\n",
              "      <td>51</td>\n",
              "      <td>16</td>\n",
              "      <td>33</td>\n",
              "      <td>13</td>\n",
              "      <td>91</td>\n",
              "      <td>26</td>\n",
              "      <td>4.0</td>\n",
              "      <td>9.683333</td>\n",
              "      <td>68.458333</td>\n",
              "    </tr>\n",
              "    <tr>\n",
              "      <th>3</th>\n",
              "      <td>3</td>\n",
              "      <td>ANDHRAPRADESH</td>\n",
              "      <td>KURNOOL</td>\n",
              "      <td>2008</td>\n",
              "      <td>4</td>\n",
              "      <td>136.4</td>\n",
              "      <td>72.451817</td>\n",
              "      <td>25.137025</td>\n",
              "      <td>376</td>\n",
              "      <td>141</td>\n",
              "      <td>517</td>\n",
              "      <td>73</td>\n",
              "      <td>13</td>\n",
              "      <td>373</td>\n",
              "      <td>219</td>\n",
              "      <td>74</td>\n",
              "      <td>73</td>\n",
              "      <td>1</td>\n",
              "      <td>5</td>\n",
              "      <td>51</td>\n",
              "      <td>31</td>\n",
              "      <td>56</td>\n",
              "      <td>37</td>\n",
              "      <td>73</td>\n",
              "      <td>28</td>\n",
              "      <td>79</td>\n",
              "      <td>19</td>\n",
              "      <td>77</td>\n",
              "      <td>14</td>\n",
              "      <td>39</td>\n",
              "      <td>7</td>\n",
              "      <td>79</td>\n",
              "      <td>33</td>\n",
              "      <td>4.0</td>\n",
              "      <td>9.692308</td>\n",
              "      <td>73.615385</td>\n",
              "    </tr>\n",
              "    <tr>\n",
              "      <th>4</th>\n",
              "      <td>4</td>\n",
              "      <td>ANDHRAPRADESH</td>\n",
              "      <td>KURNOOL</td>\n",
              "      <td>2009</td>\n",
              "      <td>1</td>\n",
              "      <td>4.0</td>\n",
              "      <td>45.412247</td>\n",
              "      <td>26.929551</td>\n",
              "      <td>376</td>\n",
              "      <td>125</td>\n",
              "      <td>501</td>\n",
              "      <td>89</td>\n",
              "      <td>12</td>\n",
              "      <td>377</td>\n",
              "      <td>221</td>\n",
              "      <td>55</td>\n",
              "      <td>76</td>\n",
              "      <td>5</td>\n",
              "      <td>3</td>\n",
              "      <td>54</td>\n",
              "      <td>35</td>\n",
              "      <td>63</td>\n",
              "      <td>43</td>\n",
              "      <td>78</td>\n",
              "      <td>13</td>\n",
              "      <td>82</td>\n",
              "      <td>12</td>\n",
              "      <td>67</td>\n",
              "      <td>14</td>\n",
              "      <td>27</td>\n",
              "      <td>5</td>\n",
              "      <td>244</td>\n",
              "      <td>54</td>\n",
              "      <td>4.0</td>\n",
              "      <td>9.000000</td>\n",
              "      <td>76.230769</td>\n",
              "    </tr>\n",
              "  </tbody>\n",
              "</table>\n",
              "</div>"
            ],
            "text/plain": [
              "   Unnamed: 0          State District  ...  so2        no2       rspm\n",
              "0           0  ANDHRAPRADESH  KURNOOL  ...  4.0  11.644444  73.074074\n",
              "1           1  ANDHRAPRADESH  KURNOOL  ...  4.0  11.148276  69.482759\n",
              "2           2  ANDHRAPRADESH  KURNOOL  ...  4.0   9.683333  68.458333\n",
              "3           3  ANDHRAPRADESH  KURNOOL  ...  4.0   9.692308  73.615385\n",
              "4           4  ANDHRAPRADESH  KURNOOL  ...  4.0   9.000000  76.230769\n",
              "\n",
              "[5 rows x 36 columns]"
            ]
          },
          "metadata": {
            "tags": []
          },
          "execution_count": 86
        }
      ]
    },
    {
      "cell_type": "code",
      "metadata": {
        "id": "WjxGKopOSzUY"
      },
      "source": [
        "data = df1"
      ],
      "execution_count": null,
      "outputs": []
    },
    {
      "cell_type": "code",
      "metadata": {
        "id": "xrlelQmIS57_"
      },
      "source": [
        "columns = df1.columns"
      ],
      "execution_count": null,
      "outputs": []
    },
    {
      "cell_type": "code",
      "metadata": {
        "id": "VUf1pTDnTMHt"
      },
      "source": [
        "X_t = scaler.fit_transform(data)"
      ],
      "execution_count": null,
      "outputs": []
    },
    {
      "cell_type": "code",
      "metadata": {
        "id": "vslHjXb1TO60"
      },
      "source": [
        "is_inlier = detector.fit_predict(X_t)\n",
        "X_t = X_t[(is_inlier > 0),:]"
      ],
      "execution_count": null,
      "outputs": []
    },
    {
      "cell_type": "code",
      "metadata": {
        "id": "1rou0lIGTSxr"
      },
      "source": [
        "dataset = pd.DataFrame(X_t, columns=columns)"
      ],
      "execution_count": null,
      "outputs": []
    },
    {
      "cell_type": "code",
      "metadata": {
        "id": "tutG6EkHTX7N"
      },
      "source": [
        "n_epochs = 50\n",
        "n_samples = dataset.shape[0]\n",
        "n_batches = 10\n",
        "batch_size = np.floor(n_samples/n_batches)\n",
        "buffer_size = n_samples"
      ],
      "execution_count": null,
      "outputs": []
    },
    {
      "cell_type": "code",
      "metadata": {
        "id": "6lEeHKxHTsun"
      },
      "source": [
        "data = tf.data.Dataset.from_tensor_slices((dataset[inputs].values, dataset[outputs].values))\n",
        "data = data.shuffle(n_samples, reshuffle_each_iteration=True)"
      ],
      "execution_count": null,
      "outputs": []
    },
    {
      "cell_type": "code",
      "metadata": {
        "id": "MfxnlcABT0Xz"
      },
      "source": [
        "inputs = ['Assam', 'Kerala', 'Punjab', 'ALAPPUZHA', 'AMRITSAR', 'BARNALA',\n",
        "       'BARPETA', 'BATHINDA', 'BONGAIGAON', 'CACHAR', 'DARRANG', 'DHEMAJI',\n",
        "       'DHUBRI', 'DIBRUGARH', 'ERNAKULAM', 'FARIDKOT', 'FIROZPUR', 'GOALPARA',\n",
        "       'GOLAGHAT', 'GURDASPUR', 'HAILAKANDI', 'HOSHIARPUR', 'IDUKKI',\n",
        "       'JALANDHAR', 'JORHAT', 'KAMRUP', 'KANNUR', 'KAPURTHALA',\n",
        "       'KARBI ANGLONG', 'KARBI_ANGLONG', 'KARIMGANJ', 'KASARAGOD', 'KOKRAJHAR',\n",
        "       'KOLLAM', 'KOTTAYAM', 'KOZHIKODE', 'LAKHIMPUR', 'LUDHIANA',\n",
        "       'MALAPPURAM', 'MANSA', 'MANSA-PN', 'MANSA-PU', 'MARIGAON', 'MOGA',\n",
        "       'MOHALI', 'MUKTSAR', 'NAGAON', 'NALBARI', 'NAWANSHAHR',\n",
        "       'NORTH CACHAR HILLS', 'NORTH_CACHAR_HILLS', 'PALAKKAD',\n",
        "       'PATHANAMTHITTA', 'PATIALA', 'RUPNAGAR', 'SANGRUR', 'SIBSAGAR',\n",
        "       'SONITPUR', 'THIRUVANANTHAPURAM', 'THRISSUR', 'TINSUKIA', 'WAYANAD',\n",
        "       'QTR', 'YR',  'NEP Male', 'NEP Female',\n",
        "       '0-14 yrs NSP(NewAll207+) Male', '0-14 yrs NSP(NewAll207+) Female',\n",
        "       '15-24 yrs NSP(NewAll207+) Male', '15-24 yrs NSP(NewAll207+) Female',\n",
        "       '25-34 yrs NSP(NewAll207+) Male', '25-34 yrs NSP(NewAll207+) Female',\n",
        "       '35-44 yrs NSP(NewAll207+) Male', '35-44 yrs NSP(NewAll207+) Female',\n",
        "       '45-54 yrs NSP(NewAll207+) Male', '45-54 yrs NSP(NewAll207+) Female',\n",
        "       '55-64 yrs NSP(NewAll207+) Male', '55-64 yrs NSP(NewAll207+) Female',\n",
        "       '65 & above yrs NSP(NewAll207+) Male',\n",
        "       '65 & above yrs NSP(NewAll207+) Female', 'Total Failure',\n",
        "       'SumOfHIV_Tested', 'SumOfHIV_infected']"
      ],
      "execution_count": null,
      "outputs": []
    },
    {
      "cell_type": "code",
      "metadata": {
        "id": "OhZlH456T4HL"
      },
      "source": [
        "outputs = ['NSP Total/ NewMicConf Total']"
      ],
      "execution_count": null,
      "outputs": []
    },
    {
      "cell_type": "code",
      "metadata": {
        "id": "-ih2VksEUFlP"
      },
      "source": [
        "data_train = data.take(n_train).batch(batch_size).repeat(n_epochs)"
      ],
      "execution_count": null,
      "outputs": []
    },
    {
      "cell_type": "code",
      "metadata": {
        "id": "1MkA8rshUSN2"
      },
      "source": [
        "n_train = int(0.7*dataset.shape[0])"
      ],
      "execution_count": null,
      "outputs": []
    },
    {
      "cell_type": "code",
      "metadata": {
        "id": "oVz-erF5UW0h"
      },
      "source": [
        "data_test = data.skip(n_train).batch(1).repeat(n_epochs)"
      ],
      "execution_count": null,
      "outputs": []
    },
    {
      "cell_type": "code",
      "metadata": {
        "id": "CtcP7Gf6UeFX"
      },
      "source": [
        "prior = tfd.Independent(tfd.Normal(loc=tf.zeros(len(outputs), dtype=tf.float64), scale=1.0), reinterpreted_batch_ndims=1)"
      ],
      "execution_count": null,
      "outputs": []
    },
    {
      "cell_type": "code",
      "metadata": {
        "id": "3OmU4vf2UiQe",
        "colab": {
          "base_uri": "https://localhost:8080/"
        },
        "outputId": "8bb17570-c554-4966-deba-6ce6ddb195f6"
      },
      "source": [
        "model = tfk.Sequential([\n",
        "tfk.layers.InputLayer(input_shape=(len(inputs),), name=\"input\"),\n",
        "tfk.layers.Dense(10, activation=\"relu\", name=\"dense_1\"),\n",
        "tfk.layers.Dense(tfp.layers.MultivariateNormalTriL.params_size(\n",
        "len(outputs)), activation=None, name=\"distribution_weights\"),\n",
        "tfp.layers.MultivariateNormalTriL(len(outputs), activity_regularizer=tfp.layers.KLDivergenceRegularizer(prior, weight=1/n_batches), name=\"output\")\n",
        "], name=\"model\")"
      ],
      "execution_count": null,
      "outputs": [
        {
          "output_type": "stream",
          "text": [
            "WARNING:tensorflow:From /usr/local/lib/python3.6/dist-packages/tensorflow/python/ops/linalg/linear_operator_lower_triangular.py:158: calling LinearOperator.__init__ (from tensorflow.python.ops.linalg.linear_operator) with graph_parents is deprecated and will be removed in a future version.\n",
            "Instructions for updating:\n",
            "Do not pass `graph_parents`.  They will  no longer be used.\n"
          ],
          "name": "stdout"
        }
      ]
    },
    {
      "cell_type": "code",
      "metadata": {
        "id": "S72dr9NIUlcX"
      },
      "source": [
        "model.compile(optimizer=\"adam\", loss=neg_log_likelihood)"
      ],
      "execution_count": null,
      "outputs": []
    },
    {
      "cell_type": "code",
      "metadata": {
        "id": "AGJB4kxVUpVw",
        "colab": {
          "base_uri": "https://localhost:8080/"
        },
        "outputId": "75f8bb2b-80c5-46b1-df82-ee3217b41265"
      },
      "source": [
        "model.fit(data_train, epochs=n_epochs, validation_data=data_test, verbose=True)"
      ],
      "execution_count": null,
      "outputs": [
        {
          "output_type": "stream",
          "text": [
            "Epoch 1/50\n",
            "400/400 [==============================] - 24s 61ms/step - loss: -1.3083 - val_loss: -1.4025\n",
            "Epoch 2/50\n",
            "400/400 [==============================] - 24s 60ms/step - loss: -1.3399 - val_loss: -1.4274\n",
            "Epoch 3/50\n",
            "400/400 [==============================] - 24s 60ms/step - loss: -1.3607 - val_loss: -1.4675\n",
            "Epoch 4/50\n",
            "400/400 [==============================] - 24s 61ms/step - loss: -1.4314 - val_loss: -1.5554\n",
            "Epoch 5/50\n",
            "400/400 [==============================] - 24s 60ms/step - loss: -1.4471 - val_loss: -1.4179\n",
            "Epoch 6/50\n",
            "400/400 [==============================] - 24s 61ms/step - loss: -1.4918 - val_loss: -1.6024\n",
            "Epoch 7/50\n",
            "400/400 [==============================] - 24s 61ms/step - loss: -1.5079 - val_loss: -1.6560\n",
            "Epoch 8/50\n",
            "400/400 [==============================] - 24s 60ms/step - loss: -1.5197 - val_loss: -1.5637\n",
            "Epoch 9/50\n",
            "400/400 [==============================] - 24s 60ms/step - loss: -1.5546 - val_loss: -1.6460\n",
            "Epoch 10/50\n",
            "400/400 [==============================] - 24s 60ms/step - loss: -1.5537 - val_loss: -1.6194\n",
            "Epoch 11/50\n",
            "400/400 [==============================] - 26s 66ms/step - loss: -1.6084 - val_loss: -1.6963\n",
            "Epoch 12/50\n",
            "400/400 [==============================] - 24s 60ms/step - loss: -1.6414 - val_loss: -1.6967\n",
            "Epoch 13/50\n",
            "400/400 [==============================] - 24s 60ms/step - loss: -1.5710 - val_loss: -1.6459\n",
            "Epoch 14/50\n",
            "400/400 [==============================] - 24s 60ms/step - loss: -1.7097 - val_loss: -1.8127\n",
            "Epoch 15/50\n",
            "400/400 [==============================] - 24s 61ms/step - loss: -1.7119 - val_loss: -1.6840\n",
            "Epoch 16/50\n",
            "400/400 [==============================] - 24s 61ms/step - loss: -1.7577 - val_loss: -1.7292\n",
            "Epoch 17/50\n",
            "400/400 [==============================] - 24s 61ms/step - loss: -1.7724 - val_loss: -1.8060\n",
            "Epoch 18/50\n",
            "400/400 [==============================] - 24s 60ms/step - loss: -1.7467 - val_loss: -1.8325\n",
            "Epoch 19/50\n",
            "400/400 [==============================] - 24s 60ms/step - loss: -1.7957 - val_loss: -1.9125\n",
            "Epoch 20/50\n",
            "400/400 [==============================] - 24s 60ms/step - loss: -1.6890 - val_loss: -1.8407\n",
            "Epoch 21/50\n",
            "400/400 [==============================] - 24s 60ms/step - loss: -1.8369 - val_loss: -1.8389\n",
            "Epoch 22/50\n",
            "400/400 [==============================] - 24s 60ms/step - loss: -1.8076 - val_loss: -2.0569\n",
            "Epoch 23/50\n",
            "400/400 [==============================] - 24s 61ms/step - loss: -1.9460 - val_loss: -2.0581\n",
            "Epoch 24/50\n",
            "400/400 [==============================] - 26s 64ms/step - loss: -1.8796 - val_loss: -1.8311\n",
            "Epoch 25/50\n",
            "400/400 [==============================] - 24s 60ms/step - loss: -1.9512 - val_loss: -1.5274\n",
            "Epoch 26/50\n",
            "400/400 [==============================] - 24s 60ms/step - loss: -1.8493 - val_loss: -1.3220\n",
            "Epoch 27/50\n",
            "400/400 [==============================] - 24s 60ms/step - loss: -1.9419 - val_loss: -2.1017\n",
            "Epoch 28/50\n",
            "400/400 [==============================] - 24s 60ms/step - loss: -1.9072 - val_loss: -2.0182\n",
            "Epoch 29/50\n",
            "400/400 [==============================] - 24s 60ms/step - loss: -1.9683 - val_loss: -2.1758\n",
            "Epoch 30/50\n",
            "400/400 [==============================] - 24s 61ms/step - loss: -2.0182 - val_loss: -1.3553\n",
            "Epoch 31/50\n",
            "400/400 [==============================] - 24s 61ms/step - loss: -2.0132 - val_loss: -1.8974\n",
            "Epoch 32/50\n",
            "400/400 [==============================] - 24s 60ms/step - loss: -2.0851 - val_loss: -2.2130\n",
            "Epoch 33/50\n",
            "400/400 [==============================] - 24s 60ms/step - loss: -1.8699 - val_loss: -2.1746\n",
            "Epoch 34/50\n",
            "400/400 [==============================] - 24s 61ms/step - loss: -1.9537 - val_loss: -1.6937\n",
            "Epoch 35/50\n",
            "400/400 [==============================] - 24s 61ms/step - loss: -2.0897 - val_loss: -2.2743\n",
            "Epoch 36/50\n",
            "400/400 [==============================] - 26s 65ms/step - loss: -2.0960 - val_loss: -2.1635\n",
            "Epoch 37/50\n",
            "400/400 [==============================] - 25s 61ms/step - loss: -2.0086 - val_loss: -1.6638\n",
            "Epoch 38/50\n",
            "400/400 [==============================] - 24s 61ms/step - loss: -2.1339 - val_loss: -2.1867\n",
            "Epoch 39/50\n",
            "400/400 [==============================] - 24s 60ms/step - loss: -1.7513 - val_loss: -2.2022\n",
            "Epoch 40/50\n",
            "400/400 [==============================] - 24s 61ms/step - loss: -2.1563 - val_loss: -2.3176\n",
            "Epoch 41/50\n",
            "400/400 [==============================] - 24s 60ms/step - loss: -1.8996 - val_loss: -0.6968\n",
            "Epoch 42/50\n",
            "400/400 [==============================] - 24s 60ms/step - loss: -1.9716 - val_loss: -2.2775\n",
            "Epoch 43/50\n",
            "400/400 [==============================] - 24s 61ms/step - loss: -2.1384 - val_loss: -2.2910\n",
            "Epoch 44/50\n",
            "400/400 [==============================] - 24s 60ms/step - loss: -2.1332 - val_loss: -2.2973\n",
            "Epoch 45/50\n",
            "400/400 [==============================] - 24s 60ms/step - loss: -2.0758 - val_loss: -2.2871\n",
            "Epoch 46/50\n",
            "400/400 [==============================] - 24s 60ms/step - loss: -1.7839 - val_loss: -1.9981\n",
            "Epoch 47/50\n",
            "400/400 [==============================] - 24s 60ms/step - loss: -2.1068 - val_loss: -2.1136\n",
            "Epoch 48/50\n",
            "400/400 [==============================] - 24s 60ms/step - loss: -2.2232 - val_loss: -2.2646\n",
            "Epoch 49/50\n",
            "400/400 [==============================] - 26s 65ms/step - loss: -2.1044 - val_loss: -2.3390\n",
            "Epoch 50/50\n",
            "400/400 [==============================] - 24s 60ms/step - loss: -2.1791 - val_loss: -2.2151\n"
          ],
          "name": "stdout"
        },
        {
          "output_type": "execute_result",
          "data": {
            "text/plain": [
              "<tensorflow.python.keras.callbacks.History at 0x7ffaf17a3320>"
            ]
          },
          "metadata": {
            "tags": []
          },
          "execution_count": 28
        }
      ]
    },
    {
      "cell_type": "code",
      "metadata": {
        "id": "jqpLAuKVUsB_",
        "colab": {
          "base_uri": "https://localhost:8080/"
        },
        "outputId": "deafee60-8c87-4ced-c94e-907b045f71a5"
      },
      "source": [
        "model.summary()"
      ],
      "execution_count": null,
      "outputs": [
        {
          "output_type": "stream",
          "text": [
            "Model: \"model\"\n",
            "_________________________________________________________________\n",
            "Layer (type)                 Output Shape              Param #   \n",
            "=================================================================\n",
            "dense_1 (Dense)              (None, 10)                840       \n",
            "_________________________________________________________________\n",
            "distribution_weights (Dense) (None, 2)                 22        \n",
            "_________________________________________________________________\n",
            "output (MultivariateNormalTr ((None, 1), (None, 1))    0         \n",
            "=================================================================\n",
            "Total params: 862\n",
            "Trainable params: 862\n",
            "Non-trainable params: 0\n",
            "_________________________________________________________________\n"
          ],
          "name": "stdout"
        }
      ]
    },
    {
      "cell_type": "code",
      "metadata": {
        "id": "m2PxIzu2aTFj",
        "colab": {
          "base_uri": "https://localhost:8080/"
        },
        "outputId": "c935bec2-c9bd-4dbb-fab7-862d6d135ca2"
      },
      "source": [
        "tfp.layers.DenseFlipout(10, activation=\"relu\", name=\"dense_1\")"
      ],
      "execution_count": null,
      "outputs": [
        {
          "output_type": "execute_result",
          "data": {
            "text/plain": [
              "<tensorflow_probability.python.layers.dense_variational.DenseFlipout at 0x7ffaf1825b00>"
            ]
          },
          "metadata": {
            "tags": []
          },
          "execution_count": 30
        }
      ]
    },
    {
      "cell_type": "code",
      "metadata": {
        "id": "dO6LDJ89aj-i"
      },
      "source": [
        "samples = 500\n",
        "iterations = 10\n",
        "test_iterator = tf.compat.v1.data.make_one_shot_iterator(data_test)\n",
        "X_true, Y_true, Y_pred = np.empty(shape=(samples, len(inputs))), np.empty(shape=(samples, len(outputs))), np.empty(shape=(samples, len(outputs), iterations))\n",
        "for i in range(samples):\n",
        "    features, labels = test_iterator.get_next()\n",
        "    X_true[i,:] = features\n",
        "    Y_true[i,:] = labels.numpy()\n",
        "    for k in range(iterations):\n",
        "        Y_pred[i,:,k] = model.predict(features)"
      ],
      "execution_count": null,
      "outputs": []
    },
    {
      "cell_type": "code",
      "metadata": {
        "id": "RA-4pcQYasqM"
      },
      "source": [
        "Y_pred_m = np.mean(Y_pred, axis=-1)\n",
        "Y_pred_s = np.std(Y_pred, axis=-1)"
      ],
      "execution_count": null,
      "outputs": []
    },
    {
      "cell_type": "code",
      "metadata": {
        "id": "k6gj5uXjbi5n"
      },
      "source": [
        "import matplotlib.pyplot as plt"
      ],
      "execution_count": null,
      "outputs": []
    },
    {
      "cell_type": "code",
      "metadata": {
        "id": "AE66Yo36bxHv",
        "colab": {
          "base_uri": "https://localhost:8080/"
        },
        "outputId": "b636dfbe-9a49-4c12-ed48-1ab15a899fe2"
      },
      "source": [
        "Y_pred"
      ],
      "execution_count": null,
      "outputs": [
        {
          "output_type": "execute_result",
          "data": {
            "text/plain": [
              "array([[[-0.81499884, -1.1084699 , -0.9894187 , ..., -0.83834182,\n",
              "         -0.58568695, -0.8002734 ]],\n",
              "\n",
              "       [[-0.34232815, -0.34451815, -0.35464663, ..., -0.33588638,\n",
              "         -0.34725149, -0.34759492]],\n",
              "\n",
              "       [[-0.35292212, -0.358026  , -0.341563  , ..., -0.32573135,\n",
              "         -0.35031369, -0.34259272]],\n",
              "\n",
              "       ...,\n",
              "\n",
              "       [[ 1.51853263,  1.5211636 ,  1.53501292, ...,  1.5262244 ,\n",
              "          1.51632519,  1.5162568 ]],\n",
              "\n",
              "       [[ 0.0988949 ,  0.1015916 ,  0.10487161, ...,  0.09662427,\n",
              "          0.0937954 ,  0.09697843]],\n",
              "\n",
              "       [[-1.14988805, -1.13534992, -1.11088267, ..., -1.12565582,\n",
              "         -1.13559075, -1.13167187]]])"
            ]
          },
          "metadata": {
            "tags": []
          },
          "execution_count": 38
        }
      ]
    },
    {
      "cell_type": "code",
      "metadata": {
        "id": "PCWKEp8ShttN"
      },
      "source": [
        "import seaborn as sns\n",
        "sns.set_theme(color_codes=True)"
      ],
      "execution_count": null,
      "outputs": []
    },
    {
      "cell_type": "code",
      "metadata": {
        "id": "U91wRcJkiXBu",
        "colab": {
          "base_uri": "https://localhost:8080/"
        },
        "outputId": "7e769cb3-42fa-4e6f-adbd-40b618ee400d"
      },
      "source": [
        "Y_pred[0]"
      ],
      "execution_count": null,
      "outputs": [
        {
          "output_type": "execute_result",
          "data": {
            "text/plain": [
              "array([[-0.84326348, -0.85543561, -0.84355244, -0.8521146 , -0.83381743,\n",
              "        -0.85906922, -0.85464145, -0.83734008, -0.84818428, -0.84933914]])"
            ]
          },
          "metadata": {
            "tags": []
          },
          "execution_count": 71
        }
      ]
    },
    {
      "cell_type": "code",
      "metadata": {
        "id": "uhlwCOy4iimy",
        "colab": {
          "base_uri": "https://localhost:8080/"
        },
        "outputId": "9f01f55a-8624-4c22-ff67-ec4ec6b79016"
      },
      "source": [
        "Y_true[0]"
      ],
      "execution_count": null,
      "outputs": [
        {
          "output_type": "execute_result",
          "data": {
            "text/plain": [
              "array([-0.84287597])"
            ]
          },
          "metadata": {
            "tags": []
          },
          "execution_count": 72
        }
      ]
    },
    {
      "cell_type": "code",
      "metadata": {
        "id": "dsussymEijv2"
      },
      "source": [
        "for x in Y_pred:\n",
        "  y_pred.append(x.mean())"
      ],
      "execution_count": null,
      "outputs": []
    },
    {
      "cell_type": "code",
      "metadata": {
        "id": "dloIzUdIjFVa"
      },
      "source": [
        "y_pred = []"
      ],
      "execution_count": null,
      "outputs": []
    },
    {
      "cell_type": "code",
      "metadata": {
        "id": "GpuQZM27ny4b",
        "colab": {
          "base_uri": "https://localhost:8080/"
        },
        "outputId": "ca45b5b8-4b01-4da2-a1c1-f3beb799b6ad"
      },
      "source": [
        "len(y_pred)"
      ],
      "execution_count": null,
      "outputs": [
        {
          "output_type": "execute_result",
          "data": {
            "text/plain": [
              "500"
            ]
          },
          "metadata": {
            "tags": []
          },
          "execution_count": 80
        }
      ]
    },
    {
      "cell_type": "code",
      "metadata": {
        "id": "iEGl5hrAn-z6",
        "colab": {
          "base_uri": "https://localhost:8080/",
          "height": 268
        },
        "outputId": "933a44cb-5163-4a22-85cb-c0e6472d5b9e"
      },
      "source": [
        "sns.regplot(x=Y_true, y=np.array(y_pred));"
      ],
      "execution_count": null,
      "outputs": [
        {
          "output_type": "display_data",
          "data": {
            "image/png": "[encoded data removed]",
            "text/plain": [
              "<Figure size 432x288 with 1 Axes>"
            ]
          },
          "metadata": {
            "tags": []
          }
        }
      ]
    },
    {
      "cell_type": "code",
      "metadata": {
        "id": "oduJDLh9onBx"
      },
      "source": [
        ""
      ],
      "execution_count": null,
      "outputs": []
    }
  ]
}