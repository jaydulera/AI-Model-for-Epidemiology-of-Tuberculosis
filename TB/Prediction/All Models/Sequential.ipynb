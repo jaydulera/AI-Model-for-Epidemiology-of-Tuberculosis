{
  "nbformat": 4,
  "nbformat_minor": 0,
  "metadata": {
    "colab": {
      "name": "Sequential.ipynb",
      "provenance": []
    },
    "kernelspec": {
      "name": "python3",
      "display_name": "Python 3"
    }
  },
  "cells": [
    {
      "cell_type": "code",
      "metadata": {
        "id": "WQcgXb6T94F0"
      },
      "source": [
        "import pandas as pd"
      ],
      "execution_count": null,
      "outputs": []
    },
    {
      "cell_type": "code",
      "metadata": {
        "id": "_6LO5Uvg98JE"
      },
      "source": [
        "df = pd.read_csv('Final_Test.csv')"
      ],
      "execution_count": null,
      "outputs": []
    },
    {
      "cell_type": "code",
      "metadata": {
        "colab": {
          "base_uri": "https://localhost:8080/"
        },
        "id": "jXE95Yg7_XGj",
        "outputId": "bc24a55f-b1d0-4a8b-c3f7-ba2b3cfba2c2"
      },
      "source": [
        "min(df['NSN Total'])"
      ],
      "execution_count": null,
      "outputs": [
        {
          "output_type": "execute_result",
          "data": {
            "text/plain": [
              "-55.08447"
            ]
          },
          "metadata": {
            "tags": []
          },
          "execution_count": 10
        }
      ]
    },
    {
      "cell_type": "code",
      "metadata": {
        "id": "jVgtPfkm_uly"
      },
      "source": [
        "df[df < 0] = 0"
      ],
      "execution_count": null,
      "outputs": []
    },
    {
      "cell_type": "code",
      "metadata": {
        "colab": {
          "base_uri": "https://localhost:8080/"
        },
        "id": "K9VH--EzACwe",
        "outputId": "a7fe49f0-61c0-47f4-9fc4-a8eb23b03928"
      },
      "source": [
        "min(df['NSN Total'])"
      ],
      "execution_count": null,
      "outputs": [
        {
          "output_type": "execute_result",
          "data": {
            "text/plain": [
              "0.0"
            ]
          },
          "metadata": {
            "tags": []
          },
          "execution_count": 18
        }
      ]
    },
    {
      "cell_type": "code",
      "metadata": {
        "colab": {
          "base_uri": "https://localhost:8080/",
          "height": 167
        },
        "id": "ruZa8sa8BiW-",
        "outputId": "3f7829bb-ca1e-4e87-ff9b-99032ee16eb2"
      },
      "source": [
        "new.astype(int)"
      ],
      "execution_count": null,
      "outputs": [
        {
          "output_type": "error",
          "ename": "AttributeError",
          "evalue": "ignored",
          "traceback": [
            "\u001b[0;31m---------------------------------------------------------------------------\u001b[0m",
            "\u001b[0;31mAttributeError\u001b[0m                            Traceback (most recent call last)",
            "\u001b[0;32m<ipython-input-14-088d394469a5>\u001b[0m in \u001b[0;36m<module>\u001b[0;34m()\u001b[0m\n\u001b[0;32m----> 1\u001b[0;31m \u001b[0mnew\u001b[0m\u001b[0;34m.\u001b[0m\u001b[0mastype\u001b[0m\u001b[0;34m(\u001b[0m\u001b[0mint\u001b[0m\u001b[0;34m)\u001b[0m\u001b[0;34m\u001b[0m\u001b[0;34m\u001b[0m\u001b[0m\n\u001b[0m",
            "\u001b[0;31mAttributeError\u001b[0m: 'int' object has no attribute 'astype'"
          ]
        }
      ]
    },
    {
      "cell_type": "code",
      "metadata": {
        "id": "OooUfvqsBp9t"
      },
      "source": [
        "train = pd.read_csv('Final_Train.csv')"
      ],
      "execution_count": null,
      "outputs": []
    },
    {
      "cell_type": "code",
      "metadata": {
        "colab": {
          "base_uri": "https://localhost:8080/"
        },
        "id": "Jpm9rsF7BtQy",
        "outputId": "d8ebb0d7-c081-4fb1-9a25-c2c1543f2b59"
      },
      "source": [
        "train.columns"
      ],
      "execution_count": null,
      "outputs": [
        {
          "output_type": "execute_result",
          "data": {
            "text/plain": [
              "Index(['AGRA', 'AIZAWL', 'ALAPPUZHA', 'ALLAHABAD', 'ALWAR', 'AMRAVATI',\n",
              "       'AMRITSAR', 'BATHINDA', 'BHARUCH', 'BHOPAL', 'BULANDSHAHR', 'CACHAR',\n",
              "       'CHANDIGARH', 'CHENNAI', 'CHITTOOR', 'COIMBATORE', 'CUTTACK',\n",
              "       'DAKSHINAKANNADA', 'DEHRADUN', 'DHANBAD', 'DIBRUGARH', 'DURG',\n",
              "       'EASTKHASIHILLS', 'ERNAKULAM', 'FATEHGARHSAHIB', 'FIROZABAD', 'GANJAM',\n",
              "       'GHAZIABAD', 'GOLAGHAT', 'GUNTUR', 'GWALIOR', 'HASSAN', 'INDORE',\n",
              "       'JABALPUR', 'JAIPUR', 'JALANDHAR', 'JALGAON', 'JAMNAGAR', 'JHANSI',\n",
              "       'JODHPUR', 'KANPURNAGAR', 'KOLHAPUR', 'KOLLAM', 'KORBA', 'KOTTAYAM',\n",
              "       'KOZHIKODE', 'KURNOOL', 'LATUR', 'LUCKNOW', 'LUDHIANA', 'MADURAI',\n",
              "       'MORADABAD', 'NAGPUR', 'NASHIK', 'NORTHGOA', 'PALAKKAD', 'PATIALA',\n",
              "       'PUNE', 'RAJKOT', 'RANCHI', 'RAYAGADA', 'SAGAR', 'SALEM', 'SANGLI',\n",
              "       'SIRMAUR', 'SOLAN', 'SOLAPUR', 'SONBHADRA', 'SONITPUR', 'SOUTHGOA',\n",
              "       'SURAT', 'THANE', 'THIRUVANANTHAPURAM', 'VADODARA', 'VALSAD',\n",
              "       'VARANASI', 'VISAKHAPATNAM', 'year', 'quarter', 'rainfall',\n",
              "       'relative_humidity', 'average_temperature',\n",
              "       'NSP Total/ NewMicConf Total', 'Relapse Total', 'NSN Total', 'so2',\n",
              "       'no2', 'rspm', 'Pediatric', 'Geriatric', '15-24', '25-34', '35-44',\n",
              "       '45-54', '55-64', 'NEP Total', 'SumOfHIV_infected'],\n",
              "      dtype='object')"
            ]
          },
          "metadata": {
            "tags": []
          },
          "execution_count": 21
        }
      ]
    },
    {
      "cell_type": "code",
      "metadata": {
        "id": "Q_ng7spuCgDq"
      },
      "source": [
        "final = train[['AGRA', 'AIZAWL', 'ALAPPUZHA', 'ALLAHABAD', 'ALWAR', 'AMRAVATI',\n",
        "       'AMRITSAR', 'BATHINDA', 'BHARUCH', 'BHOPAL', 'BULANDSHAHR', 'CACHAR',\n",
        "       'CHANDIGARH', 'CHENNAI', 'CHITTOOR', 'COIMBATORE', 'CUTTACK',\n",
        "       'DAKSHINAKANNADA', 'DEHRADUN', 'DHANBAD', 'DIBRUGARH', 'DURG',\n",
        "       'EASTKHASIHILLS', 'ERNAKULAM', 'FATEHGARHSAHIB', 'FIROZABAD', 'GANJAM',\n",
        "       'GHAZIABAD', 'GOLAGHAT', 'GUNTUR', 'GWALIOR', 'HASSAN', 'INDORE',\n",
        "       'JABALPUR', 'JAIPUR', 'JALANDHAR', 'JALGAON', 'JAMNAGAR', 'JHANSI',\n",
        "       'JODHPUR', 'KANPURNAGAR', 'KOLHAPUR', 'KOLLAM', 'KORBA', 'KOTTAYAM',\n",
        "       'KOZHIKODE', 'KURNOOL', 'LATUR', 'LUCKNOW', 'LUDHIANA', 'MADURAI',\n",
        "       'MORADABAD', 'NAGPUR', 'NASHIK', 'NORTHGOA', 'PALAKKAD', 'PATIALA',\n",
        "       'PUNE', 'RAJKOT', 'RANCHI', 'RAYAGADA', 'SAGAR', 'SALEM', 'SANGLI',\n",
        "       'SIRMAUR', 'SOLAN', 'SOLAPUR', 'SONBHADRA', 'SONITPUR', 'SOUTHGOA',\n",
        "       'SURAT', 'THANE', 'THIRUVANANTHAPURAM', 'VADODARA', 'VALSAD',\n",
        "       'VARANASI', 'VISAKHAPATNAM', 'year', 'quarter', 'rainfall',\n",
        "       'relative_humidity', 'average_temperature',\n",
        "       'NSP Total/ NewMicConf Total', 'Relapse Total', 'NSN Total', 'so2',\n",
        "       'no2', 'rspm', 'Pediatric']]"
      ],
      "execution_count": null,
      "outputs": []
    },
    {
      "cell_type": "code",
      "metadata": {
        "id": "XTGxMBQVEf9N"
      },
      "source": [
        "final = final.fillna(method ='bfill') "
      ],
      "execution_count": null,
      "outputs": []
    },
    {
      "cell_type": "code",
      "metadata": {
        "id": "U0fHUlnRCwTl"
      },
      "source": [
        "from sklearn.preprocessing import MinMaxScaler"
      ],
      "execution_count": null,
      "outputs": []
    },
    {
      "cell_type": "code",
      "metadata": {
        "id": "CPDo9w1xC4ef"
      },
      "source": [
        "scaler = MinMaxScaler()"
      ],
      "execution_count": null,
      "outputs": []
    },
    {
      "cell_type": "code",
      "metadata": {
        "id": "FJFgSGUfDB0M"
      },
      "source": [
        "scaled_fit =  scaler.fit(final.values)"
      ],
      "execution_count": null,
      "outputs": []
    },
    {
      "cell_type": "code",
      "metadata": {
        "id": "TmlfsL27DN83"
      },
      "source": [
        "scaled = scaled_fit.transform(final)"
      ],
      "execution_count": null,
      "outputs": []
    },
    {
      "cell_type": "code",
      "metadata": {
        "id": "oy3Djd9yDTMX"
      },
      "source": [
        "scaled_df = pd.DataFrame(scaled , columns = final.columns)"
      ],
      "execution_count": null,
      "outputs": []
    },
    {
      "cell_type": "code",
      "metadata": {
        "id": "1vQmemgkDbA_"
      },
      "source": [
        "X = scaled_df.drop('Pediatric' , axis =  1)"
      ],
      "execution_count": null,
      "outputs": []
    },
    {
      "cell_type": "code",
      "metadata": {
        "id": "Kg6joiYfDcSO"
      },
      "source": [
        "y = scaled_df['Pediatric']"
      ],
      "execution_count": null,
      "outputs": []
    },
    {
      "cell_type": "code",
      "metadata": {
        "id": "mbtDpileDmqK"
      },
      "source": [
        "from sklearn.model_selection import train_test_split"
      ],
      "execution_count": null,
      "outputs": []
    },
    {
      "cell_type": "code",
      "metadata": {
        "id": "1VgWx5czDqS8"
      },
      "source": [
        "X_train, X_test, y_train, y_test = train_test_split(X, y, test_size=0.17, random_state=42)"
      ],
      "execution_count": null,
      "outputs": []
    },
    {
      "cell_type": "code",
      "metadata": {
        "id": "h9G-PRwcDxjE"
      },
      "source": [
        "from keras.models import Sequential\n",
        "from keras.layers import Dense, Conv1D, Flatten"
      ],
      "execution_count": null,
      "outputs": []
    },
    {
      "cell_type": "code",
      "metadata": {
        "id": "Xd-V6jKdEYoL"
      },
      "source": [
        "model = Sequential()\n",
        "model.add(Conv1D(32, 2, activation=\"relu\", input_shape=(88, 1)))\n",
        "model.add(Flatten())\n",
        "model.add(Dense(64, activation=\"relu\"))\n",
        "model.add(Dense(1))\n",
        "model.compile(loss=\"mse\", optimizer=\"adam\")"
      ],
      "execution_count": null,
      "outputs": []
    },
    {
      "cell_type": "code",
      "metadata": {
        "colab": {
          "base_uri": "https://localhost:8080/"
        },
        "id": "85BhIyzVE1uB",
        "outputId": "f20a35c7-05d0-45e2-df4d-2583fe6b39ea"
      },
      "source": [
        "X_train.shape"
      ],
      "execution_count": null,
      "outputs": [
        {
          "output_type": "execute_result",
          "data": {
            "text/plain": [
              "(2798, 88)"
            ]
          },
          "metadata": {
            "tags": []
          },
          "execution_count": 51
        }
      ]
    },
    {
      "cell_type": "code",
      "metadata": {
        "id": "-tHqAk82FDvH"
      },
      "source": [
        "x = X_train.values.reshape(2798 , 88 , 1)"
      ],
      "execution_count": null,
      "outputs": []
    },
    {
      "cell_type": "code",
      "metadata": {
        "colab": {
          "base_uri": "https://localhost:8080/"
        },
        "id": "Kj3sjozSFIsb",
        "outputId": "9b3e6caf-c8af-4a2e-b591-b502b470b255"
      },
      "source": [
        "model.fit(x, y_train, batch_size=12,epochs=50, verbose=1)"
      ],
      "execution_count": null,
      "outputs": [
        {
          "output_type": "stream",
          "text": [
            "Epoch 1/50\n",
            "234/234 [==============================] - 1s 3ms/step - loss: 0.0051\n",
            "Epoch 2/50\n",
            "234/234 [==============================] - 1s 3ms/step - loss: 0.0033\n",
            "Epoch 3/50\n",
            "234/234 [==============================] - 1s 2ms/step - loss: 0.0031\n",
            "Epoch 4/50\n",
            "234/234 [==============================] - 1s 2ms/step - loss: 0.0028\n",
            "Epoch 5/50\n",
            "234/234 [==============================] - 1s 3ms/step - loss: 0.0027\n",
            "Epoch 6/50\n",
            "234/234 [==============================] - 1s 3ms/step - loss: 0.0026\n",
            "Epoch 7/50\n",
            "234/234 [==============================] - 1s 2ms/step - loss: 0.0026\n",
            "Epoch 8/50\n",
            "234/234 [==============================] - 1s 2ms/step - loss: 0.0025\n",
            "Epoch 9/50\n",
            "234/234 [==============================] - 1s 2ms/step - loss: 0.0024\n",
            "Epoch 10/50\n",
            "234/234 [==============================] - 1s 2ms/step - loss: 0.0023\n",
            "Epoch 11/50\n",
            "234/234 [==============================] - 1s 2ms/step - loss: 0.0023\n",
            "Epoch 12/50\n",
            "234/234 [==============================] - 1s 2ms/step - loss: 0.0023\n",
            "Epoch 13/50\n",
            "234/234 [==============================] - 1s 2ms/step - loss: 0.0022\n",
            "Epoch 14/50\n",
            "234/234 [==============================] - 1s 2ms/step - loss: 0.0022\n",
            "Epoch 15/50\n",
            "234/234 [==============================] - 1s 3ms/step - loss: 0.0022\n",
            "Epoch 16/50\n",
            "234/234 [==============================] - 1s 2ms/step - loss: 0.0021\n",
            "Epoch 17/50\n",
            "234/234 [==============================] - 1s 2ms/step - loss: 0.0021\n",
            "Epoch 18/50\n",
            "234/234 [==============================] - 1s 2ms/step - loss: 0.0020\n",
            "Epoch 19/50\n",
            "234/234 [==============================] - 1s 2ms/step - loss: 0.0021\n",
            "Epoch 20/50\n",
            "234/234 [==============================] - 1s 2ms/step - loss: 0.0020\n",
            "Epoch 21/50\n",
            "234/234 [==============================] - 1s 3ms/step - loss: 0.0020\n",
            "Epoch 22/50\n",
            "234/234 [==============================] - 1s 3ms/step - loss: 0.0020\n",
            "Epoch 23/50\n",
            "234/234 [==============================] - 1s 2ms/step - loss: 0.0020\n",
            "Epoch 24/50\n",
            "234/234 [==============================] - 1s 3ms/step - loss: 0.0020\n",
            "Epoch 25/50\n",
            "234/234 [==============================] - 1s 2ms/step - loss: 0.0020\n",
            "Epoch 26/50\n",
            "234/234 [==============================] - 1s 2ms/step - loss: 0.0019\n",
            "Epoch 27/50\n",
            "234/234 [==============================] - 1s 2ms/step - loss: 0.0018\n",
            "Epoch 28/50\n",
            "234/234 [==============================] - 1s 3ms/step - loss: 0.0018\n",
            "Epoch 29/50\n",
            "234/234 [==============================] - 1s 3ms/step - loss: 0.0018\n",
            "Epoch 30/50\n",
            "234/234 [==============================] - 1s 2ms/step - loss: 0.0018\n",
            "Epoch 31/50\n",
            "234/234 [==============================] - 1s 2ms/step - loss: 0.0017\n",
            "Epoch 32/50\n",
            "234/234 [==============================] - 1s 2ms/step - loss: 0.0018\n",
            "Epoch 33/50\n",
            "234/234 [==============================] - 1s 2ms/step - loss: 0.0017\n",
            "Epoch 34/50\n",
            "234/234 [==============================] - 1s 2ms/step - loss: 0.0018\n",
            "Epoch 35/50\n",
            "234/234 [==============================] - 1s 2ms/step - loss: 0.0017\n",
            "Epoch 36/50\n",
            "234/234 [==============================] - 1s 2ms/step - loss: 0.0017\n",
            "Epoch 37/50\n",
            "234/234 [==============================] - 1s 2ms/step - loss: 0.0017\n",
            "Epoch 38/50\n",
            "234/234 [==============================] - 1s 3ms/step - loss: 0.0016\n",
            "Epoch 39/50\n",
            "234/234 [==============================] - 1s 2ms/step - loss: 0.0017\n",
            "Epoch 40/50\n",
            "234/234 [==============================] - 1s 3ms/step - loss: 0.0017\n",
            "Epoch 41/50\n",
            "234/234 [==============================] - 1s 2ms/step - loss: 0.0016\n",
            "Epoch 42/50\n",
            "234/234 [==============================] - 1s 2ms/step - loss: 0.0016\n",
            "Epoch 43/50\n",
            "234/234 [==============================] - 1s 2ms/step - loss: 0.0016\n",
            "Epoch 44/50\n",
            "234/234 [==============================] - 1s 2ms/step - loss: 0.0016\n",
            "Epoch 45/50\n",
            "234/234 [==============================] - 1s 2ms/step - loss: 0.0016\n",
            "Epoch 46/50\n",
            "234/234 [==============================] - 1s 2ms/step - loss: 0.0016\n",
            "Epoch 47/50\n",
            "234/234 [==============================] - 1s 3ms/step - loss: 0.0016\n",
            "Epoch 48/50\n",
            "234/234 [==============================] - 1s 2ms/step - loss: 0.0016\n",
            "Epoch 49/50\n",
            "234/234 [==============================] - 1s 3ms/step - loss: 0.0016\n",
            "Epoch 50/50\n",
            "234/234 [==============================] - 1s 2ms/step - loss: 0.0015\n"
          ],
          "name": "stdout"
        },
        {
          "output_type": "execute_result",
          "data": {
            "text/plain": [
              "<tensorflow.python.keras.callbacks.History at 0x7fe91789bb70>"
            ]
          },
          "metadata": {
            "tags": []
          },
          "execution_count": 53
        }
      ]
    },
    {
      "cell_type": "code",
      "metadata": {
        "colab": {
          "base_uri": "https://localhost:8080/"
        },
        "id": "uEQvN2mRFOtm",
        "outputId": "cc068ee2-733a-4fa6-864e-f454a9945ba0"
      },
      "source": [
        "X_test.shape"
      ],
      "execution_count": null,
      "outputs": [
        {
          "output_type": "execute_result",
          "data": {
            "text/plain": [
              "(574, 88)"
            ]
          },
          "metadata": {
            "tags": []
          },
          "execution_count": 54
        }
      ]
    },
    {
      "cell_type": "code",
      "metadata": {
        "id": "9QITgy7WFeY3"
      },
      "source": [
        "x_test = X_test.values.reshape(574 , 88 , 1)"
      ],
      "execution_count": null,
      "outputs": []
    },
    {
      "cell_type": "code",
      "metadata": {
        "id": "zysmJ49jFk9q"
      },
      "source": [
        "y_pred = model.predict(x_test)"
      ],
      "execution_count": null,
      "outputs": []
    },
    {
      "cell_type": "code",
      "metadata": {
        "id": "-wFpGVMRFpYG"
      },
      "source": [
        "from sklearn.metrics import r2_score"
      ],
      "execution_count": null,
      "outputs": []
    },
    {
      "cell_type": "code",
      "metadata": {
        "colab": {
          "base_uri": "https://localhost:8080/"
        },
        "id": "ujXi_ySgFuVQ",
        "outputId": "cc2ff43e-5abb-4134-fe58-19d8b418e046"
      },
      "source": [
        "r2_score(y_test , y_pred)"
      ],
      "execution_count": null,
      "outputs": [
        {
          "output_type": "execute_result",
          "data": {
            "text/plain": [
              "0.8000884744404329"
            ]
          },
          "metadata": {
            "tags": []
          },
          "execution_count": 58
        }
      ]
    },
    {
      "cell_type": "code",
      "metadata": {
        "id": "0-5p54BzFw8_"
      },
      "source": [
        "from sklearn.model_selection import GridSearchCV"
      ],
      "execution_count": null,
      "outputs": []
    },
    {
      "cell_type": "code",
      "metadata": {
        "id": "VJfI7GKyIDPj"
      },
      "source": [
        "param_grid = {\n",
        "    'batch_size': [16, 32, 64],\n",
        "    'epochs': [50 , 100 , 150 , 200],\n",
        "    'dropout_rate': [0.0, 0.10, 0.20, 0.30],\n",
        "}"
      ],
      "execution_count": null,
      "outputs": []
    },
    {
      "cell_type": "code",
      "metadata": {
        "id": "Guim4cJvIK6p"
      },
      "source": [
        "def create_model(dropout_rate):\n",
        "  model = Sequential()\n",
        "  model.add(Conv1D(32, 2, activation=\"relu\", input_shape=(88, 1)))\n",
        "  if dropout_rate != 0:\n",
        "      model.add(Dropout(rate=dropout_rate)) \n",
        "  model.add(Flatten())\n",
        "  model.add(Dense(64, activation=\"relu\"))\n",
        "  if dropout_rate != 0:\n",
        "      model.add(Dropout(rate=dropout_rate)) \n",
        "  model.add(Dense(1))\n",
        "  model.compile(loss=\"mse\", optimizer=\"adam\")\n",
        "  return model"
      ],
      "execution_count": null,
      "outputs": []
    },
    {
      "cell_type": "code",
      "metadata": {
        "id": "0BZfdHXMI0aa"
      },
      "source": [
        "from tensorflow import  keras\n",
        "import tensorflow as tf"
      ],
      "execution_count": null,
      "outputs": []
    },
    {
      "cell_type": "code",
      "metadata": {
        "id": "hmyKPwSFJdny"
      },
      "source": [
        "model = tf.keras.wrappers.scikit_learn.KerasRegressor(build_fn=create_model, verbose=1)"
      ],
      "execution_count": null,
      "outputs": []
    },
    {
      "cell_type": "code",
      "metadata": {
        "id": "_K5oz1TsJ0ld"
      },
      "source": [
        "grid = GridSearchCV(estimator=model, param_grid=param_grid, n_jobs=-1)"
      ],
      "execution_count": null,
      "outputs": []
    },
    {
      "cell_type": "code",
      "metadata": {
        "colab": {
          "base_uri": "https://localhost:8080/"
        },
        "id": "XNZ37OV1KQZV",
        "outputId": "858de097-1cf2-4a04-bee3-93251482073a"
      },
      "source": [
        "grid_result = grid.fit(x , y_train)"
      ],
      "execution_count": null,
      "outputs": [
        {
          "output_type": "stream",
          "text": [
            "Epoch 1/50\n",
            "88/88 [==============================] - 0s 4ms/step - loss: 0.0060\n",
            "Epoch 2/50\n",
            "88/88 [==============================] - 0s 4ms/step - loss: 0.0033\n",
            "Epoch 3/50\n",
            "88/88 [==============================] - 0s 4ms/step - loss: 0.0030\n",
            "Epoch 4/50\n",
            "88/88 [==============================] - 0s 4ms/step - loss: 0.0028\n",
            "Epoch 5/50\n",
            "88/88 [==============================] - 0s 4ms/step - loss: 0.0026\n",
            "Epoch 6/50\n",
            "88/88 [==============================] - 0s 4ms/step - loss: 0.0025\n",
            "Epoch 7/50\n",
            "88/88 [==============================] - 0s 4ms/step - loss: 0.0024\n",
            "Epoch 8/50\n",
            "88/88 [==============================] - 0s 4ms/step - loss: 0.0025\n",
            "Epoch 9/50\n",
            "88/88 [==============================] - 0s 4ms/step - loss: 0.0023\n",
            "Epoch 10/50\n",
            "88/88 [==============================] - 0s 4ms/step - loss: 0.0022\n",
            "Epoch 11/50\n",
            "88/88 [==============================] - 0s 3ms/step - loss: 0.0022\n",
            "Epoch 12/50\n",
            "88/88 [==============================] - 0s 4ms/step - loss: 0.0022\n",
            "Epoch 13/50\n",
            "88/88 [==============================] - 0s 4ms/step - loss: 0.0022\n",
            "Epoch 14/50\n",
            "88/88 [==============================] - 0s 3ms/step - loss: 0.0022\n",
            "Epoch 15/50\n",
            "88/88 [==============================] - 0s 4ms/step - loss: 0.0021\n",
            "Epoch 16/50\n",
            "88/88 [==============================] - 0s 3ms/step - loss: 0.0020\n",
            "Epoch 17/50\n",
            "88/88 [==============================] - 0s 3ms/step - loss: 0.0021\n",
            "Epoch 18/50\n",
            "88/88 [==============================] - 0s 4ms/step - loss: 0.0020\n",
            "Epoch 19/50\n",
            "88/88 [==============================] - 0s 3ms/step - loss: 0.0020\n",
            "Epoch 20/50\n",
            "88/88 [==============================] - 0s 4ms/step - loss: 0.0020\n",
            "Epoch 21/50\n",
            "88/88 [==============================] - 0s 4ms/step - loss: 0.0019\n",
            "Epoch 22/50\n",
            "88/88 [==============================] - 0s 4ms/step - loss: 0.0020\n",
            "Epoch 23/50\n",
            "88/88 [==============================] - 0s 3ms/step - loss: 0.0019\n",
            "Epoch 24/50\n",
            "88/88 [==============================] - 0s 3ms/step - loss: 0.0019\n",
            "Epoch 25/50\n",
            "88/88 [==============================] - 0s 4ms/step - loss: 0.0018\n",
            "Epoch 26/50\n",
            "88/88 [==============================] - 0s 4ms/step - loss: 0.0018\n",
            "Epoch 27/50\n",
            "88/88 [==============================] - 0s 4ms/step - loss: 0.0018\n",
            "Epoch 28/50\n",
            "88/88 [==============================] - 0s 4ms/step - loss: 0.0018\n",
            "Epoch 29/50\n",
            "88/88 [==============================] - 0s 4ms/step - loss: 0.0018\n",
            "Epoch 30/50\n",
            "88/88 [==============================] - 0s 4ms/step - loss: 0.0018\n",
            "Epoch 31/50\n",
            "88/88 [==============================] - 0s 4ms/step - loss: 0.0018\n",
            "Epoch 32/50\n",
            "88/88 [==============================] - 0s 4ms/step - loss: 0.0018\n",
            "Epoch 33/50\n",
            "88/88 [==============================] - 0s 3ms/step - loss: 0.0017\n",
            "Epoch 34/50\n",
            "88/88 [==============================] - 0s 4ms/step - loss: 0.0017\n",
            "Epoch 35/50\n",
            "88/88 [==============================] - 0s 3ms/step - loss: 0.0017\n",
            "Epoch 36/50\n",
            "88/88 [==============================] - 0s 3ms/step - loss: 0.0017\n",
            "Epoch 37/50\n",
            "88/88 [==============================] - 0s 4ms/step - loss: 0.0016\n",
            "Epoch 38/50\n",
            "88/88 [==============================] - 0s 4ms/step - loss: 0.0017\n",
            "Epoch 39/50\n",
            "88/88 [==============================] - 0s 4ms/step - loss: 0.0017\n",
            "Epoch 40/50\n",
            "88/88 [==============================] - 0s 4ms/step - loss: 0.0016\n",
            "Epoch 41/50\n",
            "88/88 [==============================] - 0s 3ms/step - loss: 0.0017\n",
            "Epoch 42/50\n",
            "88/88 [==============================] - 0s 4ms/step - loss: 0.0016\n",
            "Epoch 43/50\n",
            "88/88 [==============================] - 0s 4ms/step - loss: 0.0016\n",
            "Epoch 44/50\n",
            "88/88 [==============================] - 0s 4ms/step - loss: 0.0016\n",
            "Epoch 45/50\n",
            "88/88 [==============================] - 0s 4ms/step - loss: 0.0016\n",
            "Epoch 46/50\n",
            "88/88 [==============================] - 0s 4ms/step - loss: 0.0016\n",
            "Epoch 47/50\n",
            "88/88 [==============================] - 0s 4ms/step - loss: 0.0016\n",
            "Epoch 48/50\n",
            "88/88 [==============================] - 0s 4ms/step - loss: 0.0015\n",
            "Epoch 49/50\n",
            "88/88 [==============================] - 0s 3ms/step - loss: 0.0015\n",
            "Epoch 50/50\n",
            "88/88 [==============================] - 0s 4ms/step - loss: 0.0015\n"
          ],
          "name": "stdout"
        }
      ]
    },
    {
      "cell_type": "code",
      "metadata": {
        "colab": {
          "base_uri": "https://localhost:8080/"
        },
        "id": "MgWki1L9KdtR",
        "outputId": "3b6fd840-fdf4-4511-bec3-8ae36f6878b0"
      },
      "source": [
        "print(\"Best: %f using %s\" % (grid_result.best_score_, grid_result.best_params_))"
      ],
      "execution_count": null,
      "outputs": [
        {
          "output_type": "stream",
          "text": [
            "Best: -0.002791 using {'batch_size': 32, 'dropout_rate': 0.0, 'epochs': 50}\n"
          ],
          "name": "stdout"
        }
      ]
    },
    {
      "cell_type": "code",
      "metadata": {
        "id": "_5ha5rzmRiLQ"
      },
      "source": [
        "cnn = grid_result.best_estimator_ "
      ],
      "execution_count": null,
      "outputs": []
    },
    {
      "cell_type": "code",
      "metadata": {
        "colab": {
          "base_uri": "https://localhost:8080/"
        },
        "id": "SgluebWUSE14",
        "outputId": "e79a533c-edf2-423f-e3a6-cb5b4812de4e"
      },
      "source": [
        "cnn.fit(x , y_train , verbose = 1)"
      ],
      "execution_count": null,
      "outputs": [
        {
          "output_type": "stream",
          "text": [
            "Epoch 1/50\n",
            "88/88 [==============================] - 0s 3ms/step - loss: 0.0064\n",
            "Epoch 2/50\n",
            "88/88 [==============================] - 0s 3ms/step - loss: 0.0032\n",
            "Epoch 3/50\n",
            "88/88 [==============================] - 0s 4ms/step - loss: 0.0032\n",
            "Epoch 4/50\n",
            "88/88 [==============================] - 0s 4ms/step - loss: 0.0028\n",
            "Epoch 5/50\n",
            "88/88 [==============================] - 0s 3ms/step - loss: 0.0027\n",
            "Epoch 6/50\n",
            "88/88 [==============================] - 0s 4ms/step - loss: 0.0026\n",
            "Epoch 7/50\n",
            "88/88 [==============================] - 0s 4ms/step - loss: 0.0025\n",
            "Epoch 8/50\n",
            "88/88 [==============================] - 0s 4ms/step - loss: 0.0024\n",
            "Epoch 9/50\n",
            "88/88 [==============================] - 0s 4ms/step - loss: 0.0024\n",
            "Epoch 10/50\n",
            "88/88 [==============================] - 0s 4ms/step - loss: 0.0023\n",
            "Epoch 11/50\n",
            "88/88 [==============================] - 0s 4ms/step - loss: 0.0023\n",
            "Epoch 12/50\n",
            "88/88 [==============================] - 0s 4ms/step - loss: 0.0022\n",
            "Epoch 13/50\n",
            "88/88 [==============================] - 0s 4ms/step - loss: 0.0022\n",
            "Epoch 14/50\n",
            "88/88 [==============================] - 0s 3ms/step - loss: 0.0022\n",
            "Epoch 15/50\n",
            "88/88 [==============================] - 0s 4ms/step - loss: 0.0021\n",
            "Epoch 16/50\n",
            "88/88 [==============================] - 0s 4ms/step - loss: 0.0023\n",
            "Epoch 17/50\n",
            "88/88 [==============================] - 0s 4ms/step - loss: 0.0021\n",
            "Epoch 18/50\n",
            "88/88 [==============================] - 0s 4ms/step - loss: 0.0021\n",
            "Epoch 19/50\n",
            "88/88 [==============================] - 0s 4ms/step - loss: 0.0021\n",
            "Epoch 20/50\n",
            "88/88 [==============================] - 0s 4ms/step - loss: 0.0020\n",
            "Epoch 21/50\n",
            "88/88 [==============================] - 0s 4ms/step - loss: 0.0019\n",
            "Epoch 22/50\n",
            "88/88 [==============================] - 0s 4ms/step - loss: 0.0019\n",
            "Epoch 23/50\n",
            "88/88 [==============================] - 0s 4ms/step - loss: 0.0020\n",
            "Epoch 24/50\n",
            "88/88 [==============================] - 0s 4ms/step - loss: 0.0020\n",
            "Epoch 25/50\n",
            "88/88 [==============================] - 0s 4ms/step - loss: 0.0020\n",
            "Epoch 26/50\n",
            "88/88 [==============================] - 0s 4ms/step - loss: 0.0019\n",
            "Epoch 27/50\n",
            "88/88 [==============================] - 0s 4ms/step - loss: 0.0019\n",
            "Epoch 28/50\n",
            "88/88 [==============================] - 0s 4ms/step - loss: 0.0018\n",
            "Epoch 29/50\n",
            "88/88 [==============================] - 0s 3ms/step - loss: 0.0018\n",
            "Epoch 30/50\n",
            "88/88 [==============================] - 0s 4ms/step - loss: 0.0018\n",
            "Epoch 31/50\n",
            "88/88 [==============================] - 0s 4ms/step - loss: 0.0019\n",
            "Epoch 32/50\n",
            "88/88 [==============================] - 0s 4ms/step - loss: 0.0018\n",
            "Epoch 33/50\n",
            "88/88 [==============================] - 0s 4ms/step - loss: 0.0017\n",
            "Epoch 34/50\n",
            "88/88 [==============================] - 0s 3ms/step - loss: 0.0018\n",
            "Epoch 35/50\n",
            "88/88 [==============================] - 0s 3ms/step - loss: 0.0017\n",
            "Epoch 36/50\n",
            "88/88 [==============================] - 0s 4ms/step - loss: 0.0017\n",
            "Epoch 37/50\n",
            "88/88 [==============================] - 0s 4ms/step - loss: 0.0017\n",
            "Epoch 38/50\n",
            "88/88 [==============================] - 0s 4ms/step - loss: 0.0017\n",
            "Epoch 39/50\n",
            "88/88 [==============================] - 0s 4ms/step - loss: 0.0017\n",
            "Epoch 40/50\n",
            "88/88 [==============================] - 0s 4ms/step - loss: 0.0017\n",
            "Epoch 41/50\n",
            "88/88 [==============================] - 0s 4ms/step - loss: 0.0017\n",
            "Epoch 42/50\n",
            "88/88 [==============================] - 0s 4ms/step - loss: 0.0017\n",
            "Epoch 43/50\n",
            "88/88 [==============================] - 0s 4ms/step - loss: 0.0017\n",
            "Epoch 44/50\n",
            "88/88 [==============================] - 0s 4ms/step - loss: 0.0016\n",
            "Epoch 45/50\n",
            "88/88 [==============================] - 0s 4ms/step - loss: 0.0016\n",
            "Epoch 46/50\n",
            "88/88 [==============================] - 0s 4ms/step - loss: 0.0016\n",
            "Epoch 47/50\n",
            "88/88 [==============================] - 0s 4ms/step - loss: 0.0016\n",
            "Epoch 48/50\n",
            "88/88 [==============================] - 0s 4ms/step - loss: 0.0015\n",
            "Epoch 49/50\n",
            "88/88 [==============================] - 0s 4ms/step - loss: 0.0016\n",
            "Epoch 50/50\n",
            "88/88 [==============================] - 0s 4ms/step - loss: 0.0015\n"
          ],
          "name": "stdout"
        },
        {
          "output_type": "execute_result",
          "data": {
            "text/plain": [
              "<tensorflow.python.keras.callbacks.History at 0x7fe9148f6208>"
            ]
          },
          "metadata": {
            "tags": []
          },
          "execution_count": 71
        }
      ]
    },
    {
      "cell_type": "code",
      "metadata": {
        "colab": {
          "base_uri": "https://localhost:8080/"
        },
        "id": "I68eQ98ySITP",
        "outputId": "40d2e857-8ad8-42ed-e4c7-41c0669e526f"
      },
      "source": [
        "y_pred = cnn.predict(x_test)"
      ],
      "execution_count": null,
      "outputs": [
        {
          "output_type": "stream",
          "text": [
            "18/18 [==============================] - 0s 2ms/step\n"
          ],
          "name": "stdout"
        }
      ]
    },
    {
      "cell_type": "code",
      "metadata": {
        "colab": {
          "base_uri": "https://localhost:8080/"
        },
        "id": "SPOCjZ79SS0G",
        "outputId": "40173a03-e0ca-43d6-c4e2-df52bf390af9"
      },
      "source": [
        "r2_score(y_test , y_pred)"
      ],
      "execution_count": null,
      "outputs": [
        {
          "output_type": "execute_result",
          "data": {
            "text/plain": [
              "0.8095199823591501"
            ]
          },
          "metadata": {
            "tags": []
          },
          "execution_count": 73
        }
      ]
    },
    {
      "cell_type": "code",
      "metadata": {
        "id": "BHASA7V7SaBf"
      },
      "source": [
        "output = df"
      ],
      "execution_count": null,
      "outputs": []
    },
    {
      "cell_type": "code",
      "metadata": {
        "id": "jQlCtqXZSrLw"
      },
      "source": [
        "scaler_test = MinMaxScaler()"
      ],
      "execution_count": null,
      "outputs": []
    },
    {
      "cell_type": "code",
      "metadata": {
        "id": "NW4bsPEgTERS"
      },
      "source": [
        "scaled_test = scaler_test.fit(df)"
      ],
      "execution_count": null,
      "outputs": []
    },
    {
      "cell_type": "code",
      "metadata": {
        "id": "7wnkxjMfTJos"
      },
      "source": [
        "scaled_testt = scaled_test.transform(df)"
      ],
      "execution_count": null,
      "outputs": []
    },
    {
      "cell_type": "code",
      "metadata": {
        "id": "kN4p6nVkTPwG"
      },
      "source": [
        "scaled_test_df = pd.DataFrame(scaled_testt , columns = df.columns)"
      ],
      "execution_count": null,
      "outputs": []
    },
    {
      "cell_type": "code",
      "metadata": {
        "colab": {
          "base_uri": "https://localhost:8080/"
        },
        "id": "5juV6-tzTZw_",
        "outputId": "63cf05df-b25a-438f-ae3a-81cbfa250e92"
      },
      "source": [
        "scaled_test_df.shape"
      ],
      "execution_count": null,
      "outputs": [
        {
          "output_type": "execute_result",
          "data": {
            "text/plain": [
              "(1848, 88)"
            ]
          },
          "metadata": {
            "tags": []
          },
          "execution_count": 81
        }
      ]
    },
    {
      "cell_type": "code",
      "metadata": {
        "id": "WDV1VywATckn"
      },
      "source": [
        "X_TEST = scaled_test_df.values.reshape(1848 , 88 , 1)"
      ],
      "execution_count": null,
      "outputs": []
    },
    {
      "cell_type": "code",
      "metadata": {
        "colab": {
          "base_uri": "https://localhost:8080/"
        },
        "id": "SsjMFhgmTj-J",
        "outputId": "329c18b0-5123-4dc3-fbd5-cf4f8c792e20"
      },
      "source": [
        "Y_PRED = cnn.predict(X_TEST)"
      ],
      "execution_count": null,
      "outputs": [
        {
          "output_type": "stream",
          "text": [
            "58/58 [==============================] - 0s 1ms/step\n"
          ],
          "name": "stdout"
        }
      ]
    },
    {
      "cell_type": "code",
      "metadata": {
        "colab": {
          "base_uri": "https://localhost:8080/",
          "height": 290
        },
        "id": "IYqB3cHZTpbh",
        "outputId": "3342e67f-91a8-462f-ddf3-237cea08da70"
      },
      "source": [
        "Y_PRED_OG = scaled_test.inverse_transform(Y_PRED.reshape(1 , -1))"
      ],
      "execution_count": null,
      "outputs": [
        {
          "output_type": "error",
          "ename": "ValueError",
          "evalue": "ignored",
          "traceback": [
            "\u001b[0;31m---------------------------------------------------------------------------\u001b[0m",
            "\u001b[0;31mValueError\u001b[0m                                Traceback (most recent call last)",
            "\u001b[0;32m<ipython-input-85-a5c3572b4bd0>\u001b[0m in \u001b[0;36m<module>\u001b[0;34m()\u001b[0m\n\u001b[0;32m----> 1\u001b[0;31m \u001b[0mY_PRED_OG\u001b[0m \u001b[0;34m=\u001b[0m \u001b[0mscaled_test\u001b[0m\u001b[0;34m.\u001b[0m\u001b[0minverse_transform\u001b[0m\u001b[0;34m(\u001b[0m\u001b[0mY_PRED\u001b[0m\u001b[0;34m.\u001b[0m\u001b[0mreshape\u001b[0m\u001b[0;34m(\u001b[0m\u001b[0;36m1\u001b[0m \u001b[0;34m,\u001b[0m \u001b[0;34m-\u001b[0m\u001b[0;36m1\u001b[0m\u001b[0;34m)\u001b[0m\u001b[0;34m)\u001b[0m\u001b[0;34m\u001b[0m\u001b[0;34m\u001b[0m\u001b[0m\n\u001b[0m",
            "\u001b[0;32m/usr/local/lib/python3.6/dist-packages/sklearn/preprocessing/_data.py\u001b[0m in \u001b[0;36minverse_transform\u001b[0;34m(self, X)\u001b[0m\n\u001b[1;32m    434\u001b[0m                         force_all_finite=\"allow-nan\")\n\u001b[1;32m    435\u001b[0m \u001b[0;34m\u001b[0m\u001b[0m\n\u001b[0;32m--> 436\u001b[0;31m         \u001b[0mX\u001b[0m \u001b[0;34m-=\u001b[0m \u001b[0mself\u001b[0m\u001b[0;34m.\u001b[0m\u001b[0mmin_\u001b[0m\u001b[0;34m\u001b[0m\u001b[0;34m\u001b[0m\u001b[0m\n\u001b[0m\u001b[1;32m    437\u001b[0m         \u001b[0mX\u001b[0m \u001b[0;34m/=\u001b[0m \u001b[0mself\u001b[0m\u001b[0;34m.\u001b[0m\u001b[0mscale_\u001b[0m\u001b[0;34m\u001b[0m\u001b[0;34m\u001b[0m\u001b[0m\n\u001b[1;32m    438\u001b[0m         \u001b[0;32mreturn\u001b[0m \u001b[0mX\u001b[0m\u001b[0;34m\u001b[0m\u001b[0;34m\u001b[0m\u001b[0m\n",
            "\u001b[0;31mValueError\u001b[0m: operands could not be broadcast together with shapes (1,1848) (88,) (1,1848) "
          ]
        }
      ]
    },
    {
      "cell_type": "code",
      "metadata": {
        "id": "Wxzpj7-xTx4W"
      },
      "source": [
        "yyy = train['Pediatric'].head(1848)"
      ],
      "execution_count": null,
      "outputs": []
    },
    {
      "cell_type": "code",
      "metadata": {
        "id": "gwUJEqMAVEV7"
      },
      "source": [
        "import numpy as np"
      ],
      "execution_count": null,
      "outputs": []
    },
    {
      "cell_type": "code",
      "metadata": {
        "id": "PrSCNKY_VQyI"
      },
      "source": [
        "tp = MinMaxScaler().fit(yyyy.reshape(1 , -1))"
      ],
      "execution_count": null,
      "outputs": []
    },
    {
      "cell_type": "code",
      "metadata": {
        "id": "wtQAap69WXGa"
      },
      "source": [
        "yyyy = np.array(yyy)"
      ],
      "execution_count": null,
      "outputs": []
    },
    {
      "cell_type": "code",
      "metadata": {
        "id": "u9ZMuEXHWhMu"
      },
      "source": [
        "nothing = tp.transform(yyyy.reshape(1 , -1))"
      ],
      "execution_count": null,
      "outputs": []
    },
    {
      "cell_type": "code",
      "metadata": {
        "id": "RvNoM7lPWw_a"
      },
      "source": [
        "ped = tp.inverse_transform(np.array(Y_PRED).reshape(1 , -1))"
      ],
      "execution_count": null,
      "outputs": []
    },
    {
      "cell_type": "code",
      "metadata": {
        "colab": {
          "base_uri": "https://localhost:8080/"
        },
        "id": "LsmQCBYSXBuH",
        "outputId": "1fb470fe-dd48-4559-aaaf-676427197253"
      },
      "source": [
        "ped"
      ],
      "execution_count": null,
      "outputs": [
        {
          "output_type": "execute_result",
          "data": {
            "text/plain": [
              "array([[ 2.4315018e+01,  3.1359394e+01,  3.0385887e+01, ...,\n",
              "         9.7630167e-01, -3.0813713e-02, -6.0021766e-03]], dtype=float32)"
            ]
          },
          "metadata": {
            "tags": []
          },
          "execution_count": 104
        }
      ]
    },
    {
      "cell_type": "code",
      "metadata": {
        "id": "mmtIRlvQXKzk"
      },
      "source": [
        ""
      ],
      "execution_count": null,
      "outputs": []
    }
  ]
}