{
  "nbformat": 4,
  "nbformat_minor": 0,
  "metadata": {
    "colab": {
      "name": "resnet50.ipynb",
      "provenance": []
    },
    "kernelspec": {
      "name": "python3",
      "display_name": "Python 3"
    }
  },
  "cells": [
    {
      "cell_type": "code",
      "metadata": {
        "id": "_7suRNEHMcls"
      },
      "source": [
        "import pandas as pd\n",
        "from keras.models import Sequential\n",
        "from keras.layers import Dense, Conv1D, Flatten"
      ],
      "execution_count": null,
      "outputs": []
    },
    {
      "cell_type": "code",
      "metadata": {
        "id": "JxrcyB5RMnDo"
      },
      "source": [
        "train = pd.read_csv(\"finaltrain1.csv\")"
      ],
      "execution_count": null,
      "outputs": []
    },
    {
      "cell_type": "code",
      "metadata": {
        "id": "Uq6O0sAgM33o"
      },
      "source": [
        "test = pd.read_csv(\"Final_Test1.csv\")"
      ],
      "execution_count": null,
      "outputs": []
    },
    {
      "cell_type": "code",
      "metadata": {
        "id": "8hYxISq2M7HD",
        "colab": {
          "base_uri": "https://localhost:8080/",
          "height": 249
        },
        "outputId": "381ab47a-4986-4ed4-e76a-85456733622e"
      },
      "source": [
        "train.head()"
      ],
      "execution_count": null,
      "outputs": [
        {
          "output_type": "execute_result",
          "data": {
            "text/html": [
              "<div>\n",
              "<style scoped>\n",
              "    .dataframe tbody tr th:only-of-type {\n",
              "        vertical-align: middle;\n",
              "    }\n",
              "\n",
              "    .dataframe tbody tr th {\n",
              "        vertical-align: top;\n",
              "    }\n",
              "\n",
              "    .dataframe thead th {\n",
              "        text-align: right;\n",
              "    }\n",
              "</style>\n",
              "<table border=\"1\" class=\"dataframe\">\n",
              "  <thead>\n",
              "    <tr style=\"text-align: right;\">\n",
              "      <th></th>\n",
              "      <th>Assam</th>\n",
              "      <th>Kerala</th>\n",
              "      <th>Punjab</th>\n",
              "      <th>ALAPPUZHA</th>\n",
              "      <th>AMRITSAR</th>\n",
              "      <th>BARNALA</th>\n",
              "      <th>BARPETA</th>\n",
              "      <th>BATHINDA</th>\n",
              "      <th>BONGAIGAON</th>\n",
              "      <th>CACHAR</th>\n",
              "      <th>DARRANG</th>\n",
              "      <th>DHEMAJI</th>\n",
              "      <th>DHUBRI</th>\n",
              "      <th>DIBRUGARH</th>\n",
              "      <th>ERNAKULAM</th>\n",
              "      <th>FARIDKOT</th>\n",
              "      <th>FIROZPUR</th>\n",
              "      <th>GOALPARA</th>\n",
              "      <th>GOLAGHAT</th>\n",
              "      <th>GURDASPUR</th>\n",
              "      <th>HAILAKANDI</th>\n",
              "      <th>HOSHIARPUR</th>\n",
              "      <th>IDUKKI</th>\n",
              "      <th>JALANDHAR</th>\n",
              "      <th>JORHAT</th>\n",
              "      <th>KAMRUP</th>\n",
              "      <th>KANNUR</th>\n",
              "      <th>KAPURTHALA</th>\n",
              "      <th>KARBI_ANGLONG</th>\n",
              "      <th>KARIMGANJ</th>\n",
              "      <th>KASARAGOD</th>\n",
              "      <th>KOKRAJHAR</th>\n",
              "      <th>KOLLAM</th>\n",
              "      <th>KOTTAYAM</th>\n",
              "      <th>KOZHIKODE</th>\n",
              "      <th>LUDHIANA</th>\n",
              "      <th>MALAPPURAM</th>\n",
              "      <th>MANSA</th>\n",
              "      <th>MARIGAON</th>\n",
              "      <th>MOGA</th>\n",
              "      <th>MUKTSAR</th>\n",
              "      <th>NAGAON</th>\n",
              "      <th>NALBARI</th>\n",
              "      <th>NAWANSHAHR</th>\n",
              "      <th>NORTH_CACHAR_HILLS</th>\n",
              "      <th>PALAKKAD</th>\n",
              "      <th>PATHANAMTHITTA</th>\n",
              "      <th>PATIALA</th>\n",
              "      <th>RUPNAGAR</th>\n",
              "      <th>SANGRUR</th>\n",
              "      <th>SIBSAGAR</th>\n",
              "      <th>SONITPUR</th>\n",
              "      <th>THIRUVANANTHAPURAM</th>\n",
              "      <th>THRISSUR</th>\n",
              "      <th>TINSUKIA</th>\n",
              "      <th>WAYANAD</th>\n",
              "      <th>QTR</th>\n",
              "      <th>YR</th>\n",
              "      <th>NSP Total/ NewMicConf Total</th>\n",
              "      <th>NEP Male</th>\n",
              "      <th>NEP Female</th>\n",
              "      <th>0-14 yrs NSP(NewAll207+) Male</th>\n",
              "      <th>0-14 yrs NSP(NewAll207+) Female</th>\n",
              "      <th>15-24 yrs NSP(NewAll207+) Male</th>\n",
              "      <th>15-24 yrs NSP(NewAll207+) Female</th>\n",
              "      <th>25-34 yrs NSP(NewAll207+) Male</th>\n",
              "      <th>25-34 yrs NSP(NewAll207+) Female</th>\n",
              "      <th>35-44 yrs NSP(NewAll207+) Male</th>\n",
              "      <th>35-44 yrs NSP(NewAll207+) Female</th>\n",
              "      <th>45-54 yrs NSP(NewAll207+) Male</th>\n",
              "      <th>45-54 yrs NSP(NewAll207+) Female</th>\n",
              "      <th>65 &amp; above yrs NSP(NewAll207+) Male</th>\n",
              "      <th>65 &amp; above yrs NSP(NewAll207+) Female</th>\n",
              "      <th>Total Failure</th>\n",
              "      <th>SumOfHIV_Tested</th>\n",
              "      <th>SumOfHIV_infected</th>\n",
              "    </tr>\n",
              "  </thead>\n",
              "  <tbody>\n",
              "    <tr>\n",
              "      <th>0</th>\n",
              "      <td>1</td>\n",
              "      <td>0</td>\n",
              "      <td>0</td>\n",
              "      <td>0</td>\n",
              "      <td>0</td>\n",
              "      <td>0</td>\n",
              "      <td>1</td>\n",
              "      <td>0</td>\n",
              "      <td>0</td>\n",
              "      <td>0</td>\n",
              "      <td>0</td>\n",
              "      <td>0</td>\n",
              "      <td>0</td>\n",
              "      <td>0</td>\n",
              "      <td>0</td>\n",
              "      <td>0</td>\n",
              "      <td>0</td>\n",
              "      <td>0</td>\n",
              "      <td>0</td>\n",
              "      <td>0</td>\n",
              "      <td>0</td>\n",
              "      <td>0</td>\n",
              "      <td>0</td>\n",
              "      <td>0</td>\n",
              "      <td>0</td>\n",
              "      <td>0</td>\n",
              "      <td>0</td>\n",
              "      <td>0</td>\n",
              "      <td>0</td>\n",
              "      <td>0</td>\n",
              "      <td>0</td>\n",
              "      <td>0</td>\n",
              "      <td>0</td>\n",
              "      <td>0</td>\n",
              "      <td>0</td>\n",
              "      <td>0</td>\n",
              "      <td>0</td>\n",
              "      <td>0</td>\n",
              "      <td>0</td>\n",
              "      <td>0</td>\n",
              "      <td>0</td>\n",
              "      <td>0</td>\n",
              "      <td>0</td>\n",
              "      <td>0</td>\n",
              "      <td>0</td>\n",
              "      <td>0</td>\n",
              "      <td>0</td>\n",
              "      <td>0</td>\n",
              "      <td>0</td>\n",
              "      <td>0</td>\n",
              "      <td>0</td>\n",
              "      <td>0</td>\n",
              "      <td>0</td>\n",
              "      <td>0</td>\n",
              "      <td>0</td>\n",
              "      <td>0</td>\n",
              "      <td>1</td>\n",
              "      <td>2008</td>\n",
              "      <td>184</td>\n",
              "      <td>20</td>\n",
              "      <td>20</td>\n",
              "      <td>3</td>\n",
              "      <td>5</td>\n",
              "      <td>26</td>\n",
              "      <td>12</td>\n",
              "      <td>29</td>\n",
              "      <td>17</td>\n",
              "      <td>24</td>\n",
              "      <td>10</td>\n",
              "      <td>19</td>\n",
              "      <td>5</td>\n",
              "      <td>12</td>\n",
              "      <td>2</td>\n",
              "      <td>2</td>\n",
              "      <td>0</td>\n",
              "      <td>0</td>\n",
              "    </tr>\n",
              "    <tr>\n",
              "      <th>1</th>\n",
              "      <td>1</td>\n",
              "      <td>0</td>\n",
              "      <td>0</td>\n",
              "      <td>0</td>\n",
              "      <td>0</td>\n",
              "      <td>0</td>\n",
              "      <td>1</td>\n",
              "      <td>0</td>\n",
              "      <td>0</td>\n",
              "      <td>0</td>\n",
              "      <td>0</td>\n",
              "      <td>0</td>\n",
              "      <td>0</td>\n",
              "      <td>0</td>\n",
              "      <td>0</td>\n",
              "      <td>0</td>\n",
              "      <td>0</td>\n",
              "      <td>0</td>\n",
              "      <td>0</td>\n",
              "      <td>0</td>\n",
              "      <td>0</td>\n",
              "      <td>0</td>\n",
              "      <td>0</td>\n",
              "      <td>0</td>\n",
              "      <td>0</td>\n",
              "      <td>0</td>\n",
              "      <td>0</td>\n",
              "      <td>0</td>\n",
              "      <td>0</td>\n",
              "      <td>0</td>\n",
              "      <td>0</td>\n",
              "      <td>0</td>\n",
              "      <td>0</td>\n",
              "      <td>0</td>\n",
              "      <td>0</td>\n",
              "      <td>0</td>\n",
              "      <td>0</td>\n",
              "      <td>0</td>\n",
              "      <td>0</td>\n",
              "      <td>0</td>\n",
              "      <td>0</td>\n",
              "      <td>0</td>\n",
              "      <td>0</td>\n",
              "      <td>0</td>\n",
              "      <td>0</td>\n",
              "      <td>0</td>\n",
              "      <td>0</td>\n",
              "      <td>0</td>\n",
              "      <td>0</td>\n",
              "      <td>0</td>\n",
              "      <td>0</td>\n",
              "      <td>0</td>\n",
              "      <td>0</td>\n",
              "      <td>0</td>\n",
              "      <td>0</td>\n",
              "      <td>0</td>\n",
              "      <td>2</td>\n",
              "      <td>2008</td>\n",
              "      <td>216</td>\n",
              "      <td>36</td>\n",
              "      <td>25</td>\n",
              "      <td>0</td>\n",
              "      <td>4</td>\n",
              "      <td>26</td>\n",
              "      <td>5</td>\n",
              "      <td>32</td>\n",
              "      <td>16</td>\n",
              "      <td>32</td>\n",
              "      <td>10</td>\n",
              "      <td>30</td>\n",
              "      <td>5</td>\n",
              "      <td>24</td>\n",
              "      <td>2</td>\n",
              "      <td>9</td>\n",
              "      <td>0</td>\n",
              "      <td>0</td>\n",
              "    </tr>\n",
              "    <tr>\n",
              "      <th>2</th>\n",
              "      <td>1</td>\n",
              "      <td>0</td>\n",
              "      <td>0</td>\n",
              "      <td>0</td>\n",
              "      <td>0</td>\n",
              "      <td>0</td>\n",
              "      <td>1</td>\n",
              "      <td>0</td>\n",
              "      <td>0</td>\n",
              "      <td>0</td>\n",
              "      <td>0</td>\n",
              "      <td>0</td>\n",
              "      <td>0</td>\n",
              "      <td>0</td>\n",
              "      <td>0</td>\n",
              "      <td>0</td>\n",
              "      <td>0</td>\n",
              "      <td>0</td>\n",
              "      <td>0</td>\n",
              "      <td>0</td>\n",
              "      <td>0</td>\n",
              "      <td>0</td>\n",
              "      <td>0</td>\n",
              "      <td>0</td>\n",
              "      <td>0</td>\n",
              "      <td>0</td>\n",
              "      <td>0</td>\n",
              "      <td>0</td>\n",
              "      <td>0</td>\n",
              "      <td>0</td>\n",
              "      <td>0</td>\n",
              "      <td>0</td>\n",
              "      <td>0</td>\n",
              "      <td>0</td>\n",
              "      <td>0</td>\n",
              "      <td>0</td>\n",
              "      <td>0</td>\n",
              "      <td>0</td>\n",
              "      <td>0</td>\n",
              "      <td>0</td>\n",
              "      <td>0</td>\n",
              "      <td>0</td>\n",
              "      <td>0</td>\n",
              "      <td>0</td>\n",
              "      <td>0</td>\n",
              "      <td>0</td>\n",
              "      <td>0</td>\n",
              "      <td>0</td>\n",
              "      <td>0</td>\n",
              "      <td>0</td>\n",
              "      <td>0</td>\n",
              "      <td>0</td>\n",
              "      <td>0</td>\n",
              "      <td>0</td>\n",
              "      <td>0</td>\n",
              "      <td>0</td>\n",
              "      <td>3</td>\n",
              "      <td>2008</td>\n",
              "      <td>172</td>\n",
              "      <td>32</td>\n",
              "      <td>18</td>\n",
              "      <td>0</td>\n",
              "      <td>4</td>\n",
              "      <td>22</td>\n",
              "      <td>12</td>\n",
              "      <td>33</td>\n",
              "      <td>9</td>\n",
              "      <td>20</td>\n",
              "      <td>10</td>\n",
              "      <td>28</td>\n",
              "      <td>2</td>\n",
              "      <td>16</td>\n",
              "      <td>2</td>\n",
              "      <td>8</td>\n",
              "      <td>0</td>\n",
              "      <td>0</td>\n",
              "    </tr>\n",
              "    <tr>\n",
              "      <th>3</th>\n",
              "      <td>1</td>\n",
              "      <td>0</td>\n",
              "      <td>0</td>\n",
              "      <td>0</td>\n",
              "      <td>0</td>\n",
              "      <td>0</td>\n",
              "      <td>1</td>\n",
              "      <td>0</td>\n",
              "      <td>0</td>\n",
              "      <td>0</td>\n",
              "      <td>0</td>\n",
              "      <td>0</td>\n",
              "      <td>0</td>\n",
              "      <td>0</td>\n",
              "      <td>0</td>\n",
              "      <td>0</td>\n",
              "      <td>0</td>\n",
              "      <td>0</td>\n",
              "      <td>0</td>\n",
              "      <td>0</td>\n",
              "      <td>0</td>\n",
              "      <td>0</td>\n",
              "      <td>0</td>\n",
              "      <td>0</td>\n",
              "      <td>0</td>\n",
              "      <td>0</td>\n",
              "      <td>0</td>\n",
              "      <td>0</td>\n",
              "      <td>0</td>\n",
              "      <td>0</td>\n",
              "      <td>0</td>\n",
              "      <td>0</td>\n",
              "      <td>0</td>\n",
              "      <td>0</td>\n",
              "      <td>0</td>\n",
              "      <td>0</td>\n",
              "      <td>0</td>\n",
              "      <td>0</td>\n",
              "      <td>0</td>\n",
              "      <td>0</td>\n",
              "      <td>0</td>\n",
              "      <td>0</td>\n",
              "      <td>0</td>\n",
              "      <td>0</td>\n",
              "      <td>0</td>\n",
              "      <td>0</td>\n",
              "      <td>0</td>\n",
              "      <td>0</td>\n",
              "      <td>0</td>\n",
              "      <td>0</td>\n",
              "      <td>0</td>\n",
              "      <td>0</td>\n",
              "      <td>0</td>\n",
              "      <td>0</td>\n",
              "      <td>0</td>\n",
              "      <td>0</td>\n",
              "      <td>4</td>\n",
              "      <td>2008</td>\n",
              "      <td>172</td>\n",
              "      <td>19</td>\n",
              "      <td>12</td>\n",
              "      <td>0</td>\n",
              "      <td>1</td>\n",
              "      <td>29</td>\n",
              "      <td>13</td>\n",
              "      <td>29</td>\n",
              "      <td>8</td>\n",
              "      <td>30</td>\n",
              "      <td>7</td>\n",
              "      <td>22</td>\n",
              "      <td>3</td>\n",
              "      <td>6</td>\n",
              "      <td>1</td>\n",
              "      <td>8</td>\n",
              "      <td>0</td>\n",
              "      <td>0</td>\n",
              "    </tr>\n",
              "    <tr>\n",
              "      <th>4</th>\n",
              "      <td>1</td>\n",
              "      <td>0</td>\n",
              "      <td>0</td>\n",
              "      <td>0</td>\n",
              "      <td>0</td>\n",
              "      <td>0</td>\n",
              "      <td>1</td>\n",
              "      <td>0</td>\n",
              "      <td>0</td>\n",
              "      <td>0</td>\n",
              "      <td>0</td>\n",
              "      <td>0</td>\n",
              "      <td>0</td>\n",
              "      <td>0</td>\n",
              "      <td>0</td>\n",
              "      <td>0</td>\n",
              "      <td>0</td>\n",
              "      <td>0</td>\n",
              "      <td>0</td>\n",
              "      <td>0</td>\n",
              "      <td>0</td>\n",
              "      <td>0</td>\n",
              "      <td>0</td>\n",
              "      <td>0</td>\n",
              "      <td>0</td>\n",
              "      <td>0</td>\n",
              "      <td>0</td>\n",
              "      <td>0</td>\n",
              "      <td>0</td>\n",
              "      <td>0</td>\n",
              "      <td>0</td>\n",
              "      <td>0</td>\n",
              "      <td>0</td>\n",
              "      <td>0</td>\n",
              "      <td>0</td>\n",
              "      <td>0</td>\n",
              "      <td>0</td>\n",
              "      <td>0</td>\n",
              "      <td>0</td>\n",
              "      <td>0</td>\n",
              "      <td>0</td>\n",
              "      <td>0</td>\n",
              "      <td>0</td>\n",
              "      <td>0</td>\n",
              "      <td>0</td>\n",
              "      <td>0</td>\n",
              "      <td>0</td>\n",
              "      <td>0</td>\n",
              "      <td>0</td>\n",
              "      <td>0</td>\n",
              "      <td>0</td>\n",
              "      <td>0</td>\n",
              "      <td>0</td>\n",
              "      <td>0</td>\n",
              "      <td>0</td>\n",
              "      <td>0</td>\n",
              "      <td>1</td>\n",
              "      <td>2009</td>\n",
              "      <td>184</td>\n",
              "      <td>27</td>\n",
              "      <td>22</td>\n",
              "      <td>2</td>\n",
              "      <td>0</td>\n",
              "      <td>24</td>\n",
              "      <td>13</td>\n",
              "      <td>28</td>\n",
              "      <td>11</td>\n",
              "      <td>26</td>\n",
              "      <td>5</td>\n",
              "      <td>23</td>\n",
              "      <td>7</td>\n",
              "      <td>23</td>\n",
              "      <td>1</td>\n",
              "      <td>5</td>\n",
              "      <td>20</td>\n",
              "      <td>0</td>\n",
              "    </tr>\n",
              "  </tbody>\n",
              "</table>\n",
              "</div>"
            ],
            "text/plain": [
              "   Assam  Kerala  Punjab  ...  Total Failure  SumOfHIV_Tested  SumOfHIV_infected\n",
              "0      1       0       0  ...              2                0                  0\n",
              "1      1       0       0  ...              9                0                  0\n",
              "2      1       0       0  ...              8                0                  0\n",
              "3      1       0       0  ...              8                0                  0\n",
              "4      1       0       0  ...              5               20                  0\n",
              "\n",
              "[5 rows x 76 columns]"
            ]
          },
          "metadata": {
            "tags": []
          },
          "execution_count": 4
        }
      ]
    },
    {
      "cell_type": "code",
      "metadata": {
        "id": "2hx5XeEvM_jY"
      },
      "source": [
        "X = train.drop(\"NSP Total/ NewMicConf Total\" , axis = 1)"
      ],
      "execution_count": null,
      "outputs": []
    },
    {
      "cell_type": "code",
      "metadata": {
        "id": "kw7LzuLDNHm-"
      },
      "source": [
        "y = train[\"NSP Total/ NewMicConf Total\"]"
      ],
      "execution_count": null,
      "outputs": []
    },
    {
      "cell_type": "code",
      "metadata": {
        "id": "G7OcnMshNJsR"
      },
      "source": [
        "test.columns = X.columns"
      ],
      "execution_count": null,
      "outputs": []
    },
    {
      "cell_type": "code",
      "metadata": {
        "id": "Ib7Ymae7NNjS",
        "colab": {
          "base_uri": "https://localhost:8080/",
          "height": 34
        },
        "outputId": "ff8c083b-f6e8-483c-da27-2e686738767a"
      },
      "source": [
        "X.shape"
      ],
      "execution_count": null,
      "outputs": [
        {
          "output_type": "execute_result",
          "data": {
            "text/plain": [
              "(2332, 75)"
            ]
          },
          "metadata": {
            "tags": []
          },
          "execution_count": 8
        }
      ]
    },
    {
      "cell_type": "code",
      "metadata": {
        "id": "0mzKlB_lNUsd"
      },
      "source": [
        "model = Sequential()\n",
        "model.add(Conv1D(32, 2, activation=\"relu\", input_shape=(75, 1)))\n",
        "model.add(Flatten())\n",
        "model.add(Dense(64, activation=\"relu\"))\n",
        "model.add(Dense(1))\n",
        "model.compile(loss=\"mse\", optimizer=\"adam\")"
      ],
      "execution_count": null,
      "outputs": []
    },
    {
      "cell_type": "code",
      "metadata": {
        "id": "Kw55vj9vNinQ"
      },
      "source": [
        "x = X.values"
      ],
      "execution_count": null,
      "outputs": []
    },
    {
      "cell_type": "code",
      "metadata": {
        "id": "Dh1WaVdSNqp3"
      },
      "source": [
        "x = x.reshape(2332 , 75 , 1)"
      ],
      "execution_count": null,
      "outputs": []
    },
    {
      "cell_type": "code",
      "metadata": {
        "id": "kkl0YbTZN2Hr",
        "colab": {
          "base_uri": "https://localhost:8080/",
          "height": 34
        },
        "outputId": "f32f0aaa-fba1-4759-f581-14c9ea914564"
      },
      "source": [
        "model.fit(x, y, batch_size=12,epochs=200, verbose=0)\n"
      ],
      "execution_count": null,
      "outputs": [
        {
          "output_type": "execute_result",
          "data": {
            "text/plain": [
              "<tensorflow.python.keras.callbacks.History at 0x7ff50c8e9470>"
            ]
          },
          "metadata": {
            "tags": []
          },
          "execution_count": 14
        }
      ]
    },
    {
      "cell_type": "code",
      "metadata": {
        "id": "g-v7ucJ1OPyY"
      },
      "source": [
        "Y = test.values"
      ],
      "execution_count": null,
      "outputs": []
    },
    {
      "cell_type": "code",
      "metadata": {
        "id": "OwJDyB6YOvYD",
        "colab": {
          "base_uri": "https://localhost:8080/",
          "height": 34
        },
        "outputId": "66eadb49-9500-4028-d924-a7a52cc61883"
      },
      "source": [
        "test.shape"
      ],
      "execution_count": null,
      "outputs": [
        {
          "output_type": "execute_result",
          "data": {
            "text/plain": [
              "(1484, 75)"
            ]
          },
          "metadata": {
            "tags": []
          },
          "execution_count": 18
        }
      ]
    },
    {
      "cell_type": "code",
      "metadata": {
        "id": "2UQ7JrbhOx_E"
      },
      "source": [
        "Y = Y.reshape(1484 , 75 , 1)"
      ],
      "execution_count": null,
      "outputs": []
    },
    {
      "cell_type": "code",
      "metadata": {
        "id": "vp-inFkWO3Qf"
      },
      "source": [
        "pred = model.predict(Y)"
      ],
      "execution_count": null,
      "outputs": []
    },
    {
      "cell_type": "code",
      "metadata": {
        "id": "CL0mt4AzPJ69"
      },
      "source": [
        "df = pd.read_csv(\"PredictionDataFrame.csv\")"
      ],
      "execution_count": null,
      "outputs": []
    },
    {
      "cell_type": "code",
      "metadata": {
        "id": "4BdUQlTcPZKu"
      },
      "source": [
        "CNN_Output = pd.concat([df , prediction] ,  axis = 1)"
      ],
      "execution_count": null,
      "outputs": []
    },
    {
      "cell_type": "code",
      "metadata": {
        "id": "Xc7F4uRjPcl_"
      },
      "source": [
        "prediction = pd.DataFrame(pred , columns = [\"Total No of TB Cases\"])"
      ],
      "execution_count": null,
      "outputs": []
    },
    {
      "cell_type": "code",
      "metadata": {
        "id": "N0uQWvhLPk-V"
      },
      "source": [
        "CNN_Output.to_csv(\"CNN_Output.csv\" , index = False)"
      ],
      "execution_count": null,
      "outputs": []
    },
    {
      "cell_type": "code",
      "metadata": {
        "id": "9N3isN0QPzfB"
      },
      "source": [
        "from keras.applications import ResNet50"
      ],
      "execution_count": null,
      "outputs": []
    },
    {
      "cell_type": "code",
      "metadata": {
        "id": "ezrqxQJ_QdcS"
      },
      "source": [
        "resnet = ResNet50(include_top=False , input_shape=x.shape , weights=None)"
      ],
      "execution_count": null,
      "outputs": []
    },
    {
      "cell_type": "code",
      "metadata": {
        "id": "6I2EXH4GQs_Y"
      },
      "source": [
        "model2 = Sequential()"
      ],
      "execution_count": null,
      "outputs": []
    },
    {
      "cell_type": "code",
      "metadata": {
        "id": "AaxnkvRjQ38K"
      },
      "source": [
        "from keras.layers import Dropout"
      ],
      "execution_count": null,
      "outputs": []
    },
    {
      "cell_type": "code",
      "metadata": {
        "id": "ZMuAG96kRIjy"
      },
      "source": [
        "model2.add(resnet)"
      ],
      "execution_count": null,
      "outputs": []
    },
    {
      "cell_type": "code",
      "metadata": {
        "id": "uD1FN0DBRd_3"
      },
      "source": [
        "model2.add(Dropout(0.2))\n",
        "model2.add(GlobalAveragePooling2D())\n",
        "model2.add(Dropout(0.5))\n",
        "model2.add(BatchNormalization())\n",
        "#model.add(Dense(5, activation=elu))\n",
        "model2.add(Dense(1, activation=\"linear\"))\n"
      ],
      "execution_count": null,
      "outputs": []
    },
    {
      "cell_type": "code",
      "metadata": {
        "id": "EWxRRmFGRj2g"
      },
      "source": [
        "model2.add(Flatten())\n",
        "model2.add(Dense(1))"
      ],
      "execution_count": null,
      "outputs": []
    },
    {
      "cell_type": "code",
      "metadata": {
        "id": "kuncqw7xRq4k"
      },
      "source": [
        "model2.compile(loss= \"mean_squared_error\" , optimizer=\"adam\", metrics=[\"mean_squared_error\"])"
      ],
      "execution_count": null,
      "outputs": []
    },
    {
      "cell_type": "code",
      "metadata": {
        "id": "ssjpz6ouR7pI"
      },
      "source": [
        "x = x.astype(float)"
      ],
      "execution_count": null,
      "outputs": []
    },
    {
      "cell_type": "code",
      "metadata": {
        "id": "xbxDT38hSTBL"
      },
      "source": [
        "from keras.layers import GlobalAveragePooling2D"
      ],
      "execution_count": null,
      "outputs": []
    },
    {
      "cell_type": "code",
      "metadata": {
        "id": "oJxQ-lscS4tO"
      },
      "source": [
        "from keras.layers import BatchNormalization"
      ],
      "execution_count": null,
      "outputs": []
    },
    {
      "cell_type": "code",
      "metadata": {
        "id": "oo2f72tqS9xP"
      },
      "source": [
        ""
      ],
      "execution_count": null,
      "outputs": []
    }
  ]
}