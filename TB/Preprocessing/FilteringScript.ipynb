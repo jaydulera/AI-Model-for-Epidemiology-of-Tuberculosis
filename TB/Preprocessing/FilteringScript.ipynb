{
 "cells": [
  {
   "cell_type": "code",
   "execution_count": 1,
   "metadata": {},
   "outputs": [],
   "source": [
    "import pandas as pd\n",
    "import numpy as np\n"
   ]
  },
  {
   "cell_type": "code",
   "execution_count": 2,
   "metadata": {},
   "outputs": [],
   "source": [
    "import os\n",
    "import glob"
   ]
  },
  {
   "cell_type": "code",
   "execution_count": 3,
   "metadata": {},
   "outputs": [],
   "source": [
    "path = r'./West Bengal/'\n",
    "all_files = glob.glob(path + \"/*.csv\")\n",
    "li = []\n",
    "for filename in all_files:\n",
    "    df = pd.read_csv(filename, index_col=None, header=0)\n",
    "    li.append(df)"
   ]
  },
  {
   "cell_type": "code",
   "execution_count": 4,
   "metadata": {},
   "outputs": [],
   "source": [
    "dx = pd.read_csv(\"Climate.csv\")\n"
   ]
  },
  {
   "cell_type": "code",
   "execution_count": 5,
   "metadata": {},
   "outputs": [],
   "source": [
    "for df in li:\n",
    "    df['STATE'] = df['STATE'].str.upper()\n",
    "    df['DISTRICT'] = df['DISTRICT'].str.upper()\n",
    "    df.rename(columns = {'STATE':'State','DISTRICT':'District','QTR':'quarter','YR':'year'}, inplace = True) \n",
    "    result1 = pd.merge(dx,df, on=['District','year','quarter'])\n",
    "    result1.drop(\"State_y\",inplace=True,axis=1)\n",
    "    result1.to_csv(\"./West BengalFinal/\"+df.District.unique()[0]+'.csv')"
   ]
  }
 ],
 "metadata": {
  "kernelspec": {
   "display_name": "Python 3",
   "language": "python",
   "name": "python3"
  },
  "language_info": {
   "codemirror_mode": {
    "name": "ipython",
    "version": 3
   },
   "file_extension": ".py",
   "mimetype": "text/x-python",
   "name": "python",
   "nbconvert_exporter": "python",
   "pygments_lexer": "ipython3",
   "version": "3.7.6"
  }
 },
 "nbformat": 4,
 "nbformat_minor": 4
}
