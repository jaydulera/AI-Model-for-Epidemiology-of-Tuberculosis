{
 "cells": [
  {
   "cell_type": "code",
   "execution_count": 1,
   "metadata": {},
   "outputs": [],
   "source": [
    "import pandas as pd"
   ]
  },
  {
   "cell_type": "code",
   "execution_count": 2,
   "metadata": {},
   "outputs": [],
   "source": [
    "barpeta = pd.read_csv(\"BARPETA - BARPETA.csv.csv\")"
   ]
  },
  {
   "cell_type": "code",
   "execution_count": 3,
   "metadata": {},
   "outputs": [],
   "source": [
    "bongaigaon = pd.read_excel(\"BONGAIGAON.xlsx\")"
   ]
  },
  {
   "cell_type": "code",
   "execution_count": 4,
   "metadata": {},
   "outputs": [],
   "source": [
    "cachar = pd.read_excel(\"CACHAR.xlsx\")"
   ]
  },
  {
   "cell_type": "code",
   "execution_count": 5,
   "metadata": {},
   "outputs": [],
   "source": [
    "darrang = pd.read_excel(\"DARRANG.xlsx\")"
   ]
  },
  {
   "cell_type": "code",
   "execution_count": 6,
   "metadata": {},
   "outputs": [],
   "source": [
    "dhemaji = pd.read_excel(\"DHEMAJI.xlsx\")"
   ]
  },
  {
   "cell_type": "code",
   "execution_count": 7,
   "metadata": {},
   "outputs": [],
   "source": [
    "dhubri = pd.read_excel(\"DHUBRI.xlsx\")"
   ]
  },
  {
   "cell_type": "code",
   "execution_count": 8,
   "metadata": {},
   "outputs": [],
   "source": [
    "dibrugarh = pd.read_excel(\"DIBRUGARH.xlsx\")"
   ]
  },
  {
   "cell_type": "code",
   "execution_count": 9,
   "metadata": {},
   "outputs": [],
   "source": [
    "goalpara = pd.read_excel(\"GOALPARA.xlsx\")"
   ]
  },
  {
   "cell_type": "code",
   "execution_count": 10,
   "metadata": {},
   "outputs": [],
   "source": [
    "golaghat = pd.read_excel(\"GOLAGHAT.xlsx\")"
   ]
  },
  {
   "cell_type": "code",
   "execution_count": 11,
   "metadata": {},
   "outputs": [],
   "source": [
    "hailakandi = pd.read_excel(\"HAILAKANDI.xlsx\")"
   ]
  },
  {
   "cell_type": "code",
   "execution_count": 12,
   "metadata": {},
   "outputs": [],
   "source": [
    "jorhat = pd.read_excel(\"JORHAT.xlsx\")"
   ]
  },
  {
   "cell_type": "code",
   "execution_count": 13,
   "metadata": {},
   "outputs": [],
   "source": [
    "kamrup = pd.read_excel(\"KAMRUP.xlsx\")"
   ]
  },
  {
   "cell_type": "code",
   "execution_count": 14,
   "metadata": {},
   "outputs": [],
   "source": [
    "karbi_anglong = pd.read_excel(\"KARBI_ANGLONG FINAL.xlsx\")"
   ]
  },
  {
   "cell_type": "code",
   "execution_count": 15,
   "metadata": {},
   "outputs": [],
   "source": [
    "karimganj = pd.read_excel(\"KARIMGANJ.xlsx\")"
   ]
  },
  {
   "cell_type": "code",
   "execution_count": 16,
   "metadata": {},
   "outputs": [],
   "source": [
    "kokrajhar = pd.read_excel(\"KOKRAJHAR.xlsx\")"
   ]
  },
  {
   "cell_type": "code",
   "execution_count": 17,
   "metadata": {},
   "outputs": [],
   "source": [
    "lakhimpur = pd.read_excel(\"LAKHIMPUR.xlsx\")"
   ]
  },
  {
   "cell_type": "code",
   "execution_count": 18,
   "metadata": {},
   "outputs": [],
   "source": [
    "marigaon = pd.read_excel(\"MARIGAON.xlsx\")"
   ]
  },
  {
   "cell_type": "code",
   "execution_count": 19,
   "metadata": {},
   "outputs": [],
   "source": [
    "nagaon = pd.read_excel(\"NAGAON.xlsx\")"
   ]
  },
  {
   "cell_type": "code",
   "execution_count": 20,
   "metadata": {},
   "outputs": [],
   "source": [
    "nalbari = pd.read_excel(\"NALBARI.xlsx\")"
   ]
  },
  {
   "cell_type": "code",
   "execution_count": 21,
   "metadata": {},
   "outputs": [],
   "source": [
    "north_cachar_hills = pd.read_excel(\"NORTH_CACHAR_HILLS.xlsx\")"
   ]
  },
  {
   "cell_type": "code",
   "execution_count": 22,
   "metadata": {},
   "outputs": [],
   "source": [
    "sibsagar = pd.read_excel(\"SIBSAGAR.xlsx\")"
   ]
  },
  {
   "cell_type": "code",
   "execution_count": 23,
   "metadata": {},
   "outputs": [],
   "source": [
    "sonitpur = pd.read_excel(\"SONITPUR.xlsx\")"
   ]
  },
  {
   "cell_type": "code",
   "execution_count": 24,
   "metadata": {},
   "outputs": [],
   "source": [
    "tinsukia = pd.read_excel(\"TINSUKIA.xlsx\")"
   ]
  },
  {
   "cell_type": "code",
   "execution_count": 25,
   "metadata": {},
   "outputs": [],
   "source": [
    "amritsar = pd.read_excel(\"AMRITSAR.xlsx\")"
   ]
  },
  {
   "cell_type": "code",
   "execution_count": 26,
   "metadata": {},
   "outputs": [],
   "source": [
    "barnala = pd.read_excel(\"BARNALA.xlsx\")"
   ]
  },
  {
   "cell_type": "code",
   "execution_count": 27,
   "metadata": {},
   "outputs": [],
   "source": [
    "bathinda = pd.read_excel(\"BATHINDA.xlsx\")"
   ]
  },
  {
   "cell_type": "code",
   "execution_count": 28,
   "metadata": {},
   "outputs": [],
   "source": [
    "faridkot = pd.read_excel(\"FARIDKOT.xlsx\")"
   ]
  },
  {
   "cell_type": "code",
   "execution_count": 29,
   "metadata": {},
   "outputs": [],
   "source": [
    "firozpur = pd.read_excel(\"FIROZPUR.xlsx\")"
   ]
  },
  {
   "cell_type": "code",
   "execution_count": 30,
   "metadata": {},
   "outputs": [],
   "source": [
    "gurdaspur = pd.read_excel(\"GURDASPUR.xlsx\")"
   ]
  },
  {
   "cell_type": "code",
   "execution_count": 31,
   "metadata": {},
   "outputs": [],
   "source": [
    "hoshiarpur = pd.read_excel(\"HOSHIARPUR.xlsx\")"
   ]
  },
  {
   "cell_type": "code",
   "execution_count": 32,
   "metadata": {},
   "outputs": [],
   "source": [
    "jalandhar = pd.read_excel(\"JALANDHAR.xlsx\")"
   ]
  },
  {
   "cell_type": "code",
   "execution_count": 33,
   "metadata": {},
   "outputs": [],
   "source": [
    "kapurthala = pd.read_excel(\"KAPURTHALA.xlsx\")"
   ]
  },
  {
   "cell_type": "code",
   "execution_count": 34,
   "metadata": {},
   "outputs": [],
   "source": [
    "ludhiana = pd.read_excel(\"LUDHIANA.xlsx\")"
   ]
  },
  {
   "cell_type": "code",
   "execution_count": 35,
   "metadata": {},
   "outputs": [],
   "source": [
    "mansa_final = pd.read_excel(\"MANSA-FINAL.xlsx\")"
   ]
  },
  {
   "cell_type": "code",
   "execution_count": 36,
   "metadata": {},
   "outputs": [],
   "source": [
    "moga = pd.read_excel(\"MOGA.xlsx\")"
   ]
  },
  {
   "cell_type": "code",
   "execution_count": 37,
   "metadata": {},
   "outputs": [],
   "source": [
    "mohali = pd.read_excel(\"MOHALI.xlsx\")"
   ]
  },
  {
   "cell_type": "code",
   "execution_count": 38,
   "metadata": {},
   "outputs": [],
   "source": [
    "muktsar = pd.read_excel(\"MUKTSAR.xlsx\")"
   ]
  },
  {
   "cell_type": "code",
   "execution_count": 39,
   "metadata": {},
   "outputs": [],
   "source": [
    "nawansahr = pd.read_excel(\"NAWANSHAHR.xlsx\")"
   ]
  },
  {
   "cell_type": "code",
   "execution_count": 40,
   "metadata": {},
   "outputs": [],
   "source": [
    "patiala = pd.read_excel(\"PATIALA.xlsx\")"
   ]
  },
  {
   "cell_type": "code",
   "execution_count": 41,
   "metadata": {},
   "outputs": [],
   "source": [
    "rupnagar = pd.read_excel(\"RUPNAGAR.xlsx\")"
   ]
  },
  {
   "cell_type": "code",
   "execution_count": 42,
   "metadata": {},
   "outputs": [],
   "source": [
    "sangrur = pd.read_excel(\"SANGRUR.xlsx\")"
   ]
  },
  {
   "cell_type": "code",
   "execution_count": 43,
   "metadata": {},
   "outputs": [],
   "source": [
    "df = pd.DataFrame(barpeta)"
   ]
  },
  {
   "cell_type": "code",
   "execution_count": 47,
   "metadata": {},
   "outputs": [],
   "source": [
    "Assam = pd.concat([df , bongaigaon , cachar , darrang , dhemaji , dhubri , dibrugarh , goalpara , golaghat , hailakandi , jorhat , kamrup , karbi_anglong , karimganj , kokrajhar , lakhimpur , marigaon , nagaon , nalbari , north_cachar_hills , sibsagar , sonitpur , tinsukia])"
   ]
  },
  {
   "cell_type": "code",
   "execution_count": 48,
   "metadata": {},
   "outputs": [],
   "source": [
    "df = pd.DataFrame(amritsar)"
   ]
  },
  {
   "cell_type": "code",
   "execution_count": 52,
   "metadata": {},
   "outputs": [],
   "source": [
    "Punjab = pd.concat([df , barnala , bathinda , faridkot , firozpur , gurdaspur , hoshiarpur , jalandhar , kapurthala , ludhiana , mansa_final , moga , mohali , muktsar , nawansahr , patiala , rupnagar , sangrur])"
   ]
  },
  {
   "cell_type": "code",
   "execution_count": 54,
   "metadata": {},
   "outputs": [],
   "source": [
    "Train = pd.concat([Assam , Punjab])"
   ]
  },
  {
   "cell_type": "code",
   "execution_count": 55,
   "metadata": {},
   "outputs": [
    {
     "data": {
      "text/html": [
       "<div>\n",
       "<style scoped>\n",
       "    .dataframe tbody tr th:only-of-type {\n",
       "        vertical-align: middle;\n",
       "    }\n",
       "\n",
       "    .dataframe tbody tr th {\n",
       "        vertical-align: top;\n",
       "    }\n",
       "\n",
       "    .dataframe thead th {\n",
       "        text-align: right;\n",
       "    }\n",
       "</style>\n",
       "<table border=\"1\" class=\"dataframe\">\n",
       "  <thead>\n",
       "    <tr style=\"text-align: right;\">\n",
       "      <th></th>\n",
       "      <th>Unnamed: 0</th>\n",
       "      <th>STATE</th>\n",
       "      <th>DISTRICT</th>\n",
       "      <th>QTR</th>\n",
       "      <th>YR</th>\n",
       "      <th>NSP Male/ NewMicConfMale</th>\n",
       "      <th>NSP Female/ NewMicConf Female</th>\n",
       "      <th>NSP Total/ NewMicConf Total</th>\n",
       "      <th>NEP Male</th>\n",
       "      <th>NEP Female</th>\n",
       "      <th>...</th>\n",
       "      <th>35-44 yrs NSP(NewAll207+) Female</th>\n",
       "      <th>45-54 yrs NSP(NewAll207+) Male</th>\n",
       "      <th>45-54 yrs NSP(NewAll207+) Female</th>\n",
       "      <th>55-64 yrs NSP(NewAll207+) Male</th>\n",
       "      <th>55-64 yrs NSP(NewAll207+) Female</th>\n",
       "      <th>65 &amp; above yrs NSP(NewAll207+) Male</th>\n",
       "      <th>65 &amp; above yrs NSP(NewAll207+) Female</th>\n",
       "      <th>Total Failure</th>\n",
       "      <th>SumOfHIV_Tested</th>\n",
       "      <th>SumOfHIV_infected</th>\n",
       "    </tr>\n",
       "  </thead>\n",
       "  <tbody>\n",
       "    <tr>\n",
       "      <th>0</th>\n",
       "      <td>0</td>\n",
       "      <td>Assam</td>\n",
       "      <td>BARPETA</td>\n",
       "      <td>1</td>\n",
       "      <td>2008</td>\n",
       "      <td>128</td>\n",
       "      <td>56</td>\n",
       "      <td>184</td>\n",
       "      <td>20</td>\n",
       "      <td>20</td>\n",
       "      <td>...</td>\n",
       "      <td>10</td>\n",
       "      <td>19</td>\n",
       "      <td>5</td>\n",
       "      <td>15</td>\n",
       "      <td>5</td>\n",
       "      <td>12</td>\n",
       "      <td>2</td>\n",
       "      <td>2</td>\n",
       "      <td>0</td>\n",
       "      <td>0</td>\n",
       "    </tr>\n",
       "    <tr>\n",
       "      <th>1</th>\n",
       "      <td>1</td>\n",
       "      <td>Assam</td>\n",
       "      <td>BARPETA</td>\n",
       "      <td>2</td>\n",
       "      <td>2008</td>\n",
       "      <td>168</td>\n",
       "      <td>48</td>\n",
       "      <td>216</td>\n",
       "      <td>36</td>\n",
       "      <td>25</td>\n",
       "      <td>...</td>\n",
       "      <td>10</td>\n",
       "      <td>30</td>\n",
       "      <td>5</td>\n",
       "      <td>24</td>\n",
       "      <td>6</td>\n",
       "      <td>24</td>\n",
       "      <td>2</td>\n",
       "      <td>9</td>\n",
       "      <td>0</td>\n",
       "      <td>0</td>\n",
       "    </tr>\n",
       "    <tr>\n",
       "      <th>2</th>\n",
       "      <td>2</td>\n",
       "      <td>Assam</td>\n",
       "      <td>BARPETA</td>\n",
       "      <td>3</td>\n",
       "      <td>2008</td>\n",
       "      <td>132</td>\n",
       "      <td>40</td>\n",
       "      <td>172</td>\n",
       "      <td>32</td>\n",
       "      <td>18</td>\n",
       "      <td>...</td>\n",
       "      <td>10</td>\n",
       "      <td>28</td>\n",
       "      <td>2</td>\n",
       "      <td>13</td>\n",
       "      <td>1</td>\n",
       "      <td>16</td>\n",
       "      <td>2</td>\n",
       "      <td>8</td>\n",
       "      <td>0</td>\n",
       "      <td>0</td>\n",
       "    </tr>\n",
       "    <tr>\n",
       "      <th>3</th>\n",
       "      <td>3</td>\n",
       "      <td>Assam</td>\n",
       "      <td>BARPETA</td>\n",
       "      <td>4</td>\n",
       "      <td>2008</td>\n",
       "      <td>134</td>\n",
       "      <td>38</td>\n",
       "      <td>172</td>\n",
       "      <td>19</td>\n",
       "      <td>12</td>\n",
       "      <td>...</td>\n",
       "      <td>7</td>\n",
       "      <td>22</td>\n",
       "      <td>3</td>\n",
       "      <td>18</td>\n",
       "      <td>5</td>\n",
       "      <td>6</td>\n",
       "      <td>1</td>\n",
       "      <td>8</td>\n",
       "      <td>0</td>\n",
       "      <td>0</td>\n",
       "    </tr>\n",
       "    <tr>\n",
       "      <th>4</th>\n",
       "      <td>4</td>\n",
       "      <td>Assam</td>\n",
       "      <td>BARPETA</td>\n",
       "      <td>1</td>\n",
       "      <td>2009</td>\n",
       "      <td>145</td>\n",
       "      <td>39</td>\n",
       "      <td>184</td>\n",
       "      <td>27</td>\n",
       "      <td>22</td>\n",
       "      <td>...</td>\n",
       "      <td>5</td>\n",
       "      <td>23</td>\n",
       "      <td>7</td>\n",
       "      <td>19</td>\n",
       "      <td>2</td>\n",
       "      <td>23</td>\n",
       "      <td>1</td>\n",
       "      <td>5</td>\n",
       "      <td>20</td>\n",
       "      <td>0</td>\n",
       "    </tr>\n",
       "  </tbody>\n",
       "</table>\n",
       "<p>5 rows × 27 columns</p>\n",
       "</div>"
      ],
      "text/plain": [
       "   Unnamed: 0  STATE DISTRICT  QTR    YR  NSP Male/ NewMicConfMale  \\\n",
       "0           0  Assam  BARPETA    1  2008                       128   \n",
       "1           1  Assam  BARPETA    2  2008                       168   \n",
       "2           2  Assam  BARPETA    3  2008                       132   \n",
       "3           3  Assam  BARPETA    4  2008                       134   \n",
       "4           4  Assam  BARPETA    1  2009                       145   \n",
       "\n",
       "   NSP Female/ NewMicConf Female  NSP Total/ NewMicConf Total  NEP Male  \\\n",
       "0                             56                          184        20   \n",
       "1                             48                          216        36   \n",
       "2                             40                          172        32   \n",
       "3                             38                          172        19   \n",
       "4                             39                          184        27   \n",
       "\n",
       "   NEP Female  ...  35-44 yrs NSP(NewAll207+) Female  \\\n",
       "0          20  ...                                10   \n",
       "1          25  ...                                10   \n",
       "2          18  ...                                10   \n",
       "3          12  ...                                 7   \n",
       "4          22  ...                                 5   \n",
       "\n",
       "   45-54 yrs NSP(NewAll207+) Male  45-54 yrs NSP(NewAll207+) Female  \\\n",
       "0                              19                                 5   \n",
       "1                              30                                 5   \n",
       "2                              28                                 2   \n",
       "3                              22                                 3   \n",
       "4                              23                                 7   \n",
       "\n",
       "   55-64 yrs NSP(NewAll207+) Male  55-64 yrs NSP(NewAll207+) Female  \\\n",
       "0                              15                                 5   \n",
       "1                              24                                 6   \n",
       "2                              13                                 1   \n",
       "3                              18                                 5   \n",
       "4                              19                                 2   \n",
       "\n",
       "   65 & above yrs NSP(NewAll207+) Male  65 & above yrs NSP(NewAll207+) Female  \\\n",
       "0                                   12                                      2   \n",
       "1                                   24                                      2   \n",
       "2                                   16                                      2   \n",
       "3                                    6                                      1   \n",
       "4                                   23                                      1   \n",
       "\n",
       "   Total Failure  SumOfHIV_Tested  SumOfHIV_infected  \n",
       "0              2                0                  0  \n",
       "1              9                0                  0  \n",
       "2              8                0                  0  \n",
       "3              8                0                  0  \n",
       "4              5               20                  0  \n",
       "\n",
       "[5 rows x 27 columns]"
      ]
     },
     "execution_count": 55,
     "metadata": {},
     "output_type": "execute_result"
    }
   ],
   "source": [
    "Train.head()"
   ]
  },
  {
   "cell_type": "code",
   "execution_count": 57,
   "metadata": {},
   "outputs": [],
   "source": [
    "Train.drop('Unnamed: 0' , axis = 1 , inplace = True)"
   ]
  },
  {
   "cell_type": "code",
   "execution_count": 58,
   "metadata": {},
   "outputs": [
    {
     "data": {
      "text/html": [
       "<div>\n",
       "<style scoped>\n",
       "    .dataframe tbody tr th:only-of-type {\n",
       "        vertical-align: middle;\n",
       "    }\n",
       "\n",
       "    .dataframe tbody tr th {\n",
       "        vertical-align: top;\n",
       "    }\n",
       "\n",
       "    .dataframe thead th {\n",
       "        text-align: right;\n",
       "    }\n",
       "</style>\n",
       "<table border=\"1\" class=\"dataframe\">\n",
       "  <thead>\n",
       "    <tr style=\"text-align: right;\">\n",
       "      <th></th>\n",
       "      <th>STATE</th>\n",
       "      <th>DISTRICT</th>\n",
       "      <th>QTR</th>\n",
       "      <th>YR</th>\n",
       "      <th>NSP Male/ NewMicConfMale</th>\n",
       "      <th>NSP Female/ NewMicConf Female</th>\n",
       "      <th>NSP Total/ NewMicConf Total</th>\n",
       "      <th>NEP Male</th>\n",
       "      <th>NEP Female</th>\n",
       "      <th>0-14 yrs NSP(NewAll207+) Male</th>\n",
       "      <th>...</th>\n",
       "      <th>35-44 yrs NSP(NewAll207+) Female</th>\n",
       "      <th>45-54 yrs NSP(NewAll207+) Male</th>\n",
       "      <th>45-54 yrs NSP(NewAll207+) Female</th>\n",
       "      <th>55-64 yrs NSP(NewAll207+) Male</th>\n",
       "      <th>55-64 yrs NSP(NewAll207+) Female</th>\n",
       "      <th>65 &amp; above yrs NSP(NewAll207+) Male</th>\n",
       "      <th>65 &amp; above yrs NSP(NewAll207+) Female</th>\n",
       "      <th>Total Failure</th>\n",
       "      <th>SumOfHIV_Tested</th>\n",
       "      <th>SumOfHIV_infected</th>\n",
       "    </tr>\n",
       "  </thead>\n",
       "  <tbody>\n",
       "    <tr>\n",
       "      <th>0</th>\n",
       "      <td>Assam</td>\n",
       "      <td>BARPETA</td>\n",
       "      <td>1</td>\n",
       "      <td>2008</td>\n",
       "      <td>128</td>\n",
       "      <td>56</td>\n",
       "      <td>184</td>\n",
       "      <td>20</td>\n",
       "      <td>20</td>\n",
       "      <td>3</td>\n",
       "      <td>...</td>\n",
       "      <td>10</td>\n",
       "      <td>19</td>\n",
       "      <td>5</td>\n",
       "      <td>15</td>\n",
       "      <td>5</td>\n",
       "      <td>12</td>\n",
       "      <td>2</td>\n",
       "      <td>2</td>\n",
       "      <td>0</td>\n",
       "      <td>0</td>\n",
       "    </tr>\n",
       "    <tr>\n",
       "      <th>1</th>\n",
       "      <td>Assam</td>\n",
       "      <td>BARPETA</td>\n",
       "      <td>2</td>\n",
       "      <td>2008</td>\n",
       "      <td>168</td>\n",
       "      <td>48</td>\n",
       "      <td>216</td>\n",
       "      <td>36</td>\n",
       "      <td>25</td>\n",
       "      <td>0</td>\n",
       "      <td>...</td>\n",
       "      <td>10</td>\n",
       "      <td>30</td>\n",
       "      <td>5</td>\n",
       "      <td>24</td>\n",
       "      <td>6</td>\n",
       "      <td>24</td>\n",
       "      <td>2</td>\n",
       "      <td>9</td>\n",
       "      <td>0</td>\n",
       "      <td>0</td>\n",
       "    </tr>\n",
       "    <tr>\n",
       "      <th>2</th>\n",
       "      <td>Assam</td>\n",
       "      <td>BARPETA</td>\n",
       "      <td>3</td>\n",
       "      <td>2008</td>\n",
       "      <td>132</td>\n",
       "      <td>40</td>\n",
       "      <td>172</td>\n",
       "      <td>32</td>\n",
       "      <td>18</td>\n",
       "      <td>0</td>\n",
       "      <td>...</td>\n",
       "      <td>10</td>\n",
       "      <td>28</td>\n",
       "      <td>2</td>\n",
       "      <td>13</td>\n",
       "      <td>1</td>\n",
       "      <td>16</td>\n",
       "      <td>2</td>\n",
       "      <td>8</td>\n",
       "      <td>0</td>\n",
       "      <td>0</td>\n",
       "    </tr>\n",
       "    <tr>\n",
       "      <th>3</th>\n",
       "      <td>Assam</td>\n",
       "      <td>BARPETA</td>\n",
       "      <td>4</td>\n",
       "      <td>2008</td>\n",
       "      <td>134</td>\n",
       "      <td>38</td>\n",
       "      <td>172</td>\n",
       "      <td>19</td>\n",
       "      <td>12</td>\n",
       "      <td>0</td>\n",
       "      <td>...</td>\n",
       "      <td>7</td>\n",
       "      <td>22</td>\n",
       "      <td>3</td>\n",
       "      <td>18</td>\n",
       "      <td>5</td>\n",
       "      <td>6</td>\n",
       "      <td>1</td>\n",
       "      <td>8</td>\n",
       "      <td>0</td>\n",
       "      <td>0</td>\n",
       "    </tr>\n",
       "    <tr>\n",
       "      <th>4</th>\n",
       "      <td>Assam</td>\n",
       "      <td>BARPETA</td>\n",
       "      <td>1</td>\n",
       "      <td>2009</td>\n",
       "      <td>145</td>\n",
       "      <td>39</td>\n",
       "      <td>184</td>\n",
       "      <td>27</td>\n",
       "      <td>22</td>\n",
       "      <td>2</td>\n",
       "      <td>...</td>\n",
       "      <td>5</td>\n",
       "      <td>23</td>\n",
       "      <td>7</td>\n",
       "      <td>19</td>\n",
       "      <td>2</td>\n",
       "      <td>23</td>\n",
       "      <td>1</td>\n",
       "      <td>5</td>\n",
       "      <td>20</td>\n",
       "      <td>0</td>\n",
       "    </tr>\n",
       "  </tbody>\n",
       "</table>\n",
       "<p>5 rows × 26 columns</p>\n",
       "</div>"
      ],
      "text/plain": [
       "   STATE DISTRICT  QTR    YR  NSP Male/ NewMicConfMale  \\\n",
       "0  Assam  BARPETA    1  2008                       128   \n",
       "1  Assam  BARPETA    2  2008                       168   \n",
       "2  Assam  BARPETA    3  2008                       132   \n",
       "3  Assam  BARPETA    4  2008                       134   \n",
       "4  Assam  BARPETA    1  2009                       145   \n",
       "\n",
       "   NSP Female/ NewMicConf Female  NSP Total/ NewMicConf Total  NEP Male  \\\n",
       "0                             56                          184        20   \n",
       "1                             48                          216        36   \n",
       "2                             40                          172        32   \n",
       "3                             38                          172        19   \n",
       "4                             39                          184        27   \n",
       "\n",
       "   NEP Female  0-14 yrs NSP(NewAll207+) Male  ...  \\\n",
       "0          20                              3  ...   \n",
       "1          25                              0  ...   \n",
       "2          18                              0  ...   \n",
       "3          12                              0  ...   \n",
       "4          22                              2  ...   \n",
       "\n",
       "   35-44 yrs NSP(NewAll207+) Female  45-54 yrs NSP(NewAll207+) Male  \\\n",
       "0                                10                              19   \n",
       "1                                10                              30   \n",
       "2                                10                              28   \n",
       "3                                 7                              22   \n",
       "4                                 5                              23   \n",
       "\n",
       "   45-54 yrs NSP(NewAll207+) Female  55-64 yrs NSP(NewAll207+) Male  \\\n",
       "0                                 5                              15   \n",
       "1                                 5                              24   \n",
       "2                                 2                              13   \n",
       "3                                 3                              18   \n",
       "4                                 7                              19   \n",
       "\n",
       "   55-64 yrs NSP(NewAll207+) Female  65 & above yrs NSP(NewAll207+) Male  \\\n",
       "0                                 5                                   12   \n",
       "1                                 6                                   24   \n",
       "2                                 1                                   16   \n",
       "3                                 5                                    6   \n",
       "4                                 2                                   23   \n",
       "\n",
       "   65 & above yrs NSP(NewAll207+) Female  Total Failure  SumOfHIV_Tested  \\\n",
       "0                                      2              2                0   \n",
       "1                                      2              9                0   \n",
       "2                                      2              8                0   \n",
       "3                                      1              8                0   \n",
       "4                                      1              5               20   \n",
       "\n",
       "   SumOfHIV_infected  \n",
       "0                  0  \n",
       "1                  0  \n",
       "2                  0  \n",
       "3                  0  \n",
       "4                  0  \n",
       "\n",
       "[5 rows x 26 columns]"
      ]
     },
     "execution_count": 58,
     "metadata": {},
     "output_type": "execute_result"
    }
   ],
   "source": [
    "Train.head()"
   ]
  },
  {
   "cell_type": "code",
   "execution_count": 59,
   "metadata": {},
   "outputs": [],
   "source": [
    "Train.to_csv(r'Downloads/TB/Iteration2/Train.csv' , index = False)"
   ]
  },
  {
   "cell_type": "code",
   "execution_count": 60,
   "metadata": {},
   "outputs": [],
   "source": [
    "state = pd.get_dummies(Train['STATE'])"
   ]
  },
  {
   "cell_type": "code",
   "execution_count": 61,
   "metadata": {},
   "outputs": [
    {
     "data": {
      "text/html": [
       "<div>\n",
       "<style scoped>\n",
       "    .dataframe tbody tr th:only-of-type {\n",
       "        vertical-align: middle;\n",
       "    }\n",
       "\n",
       "    .dataframe tbody tr th {\n",
       "        vertical-align: top;\n",
       "    }\n",
       "\n",
       "    .dataframe thead th {\n",
       "        text-align: right;\n",
       "    }\n",
       "</style>\n",
       "<table border=\"1\" class=\"dataframe\">\n",
       "  <thead>\n",
       "    <tr style=\"text-align: right;\">\n",
       "      <th></th>\n",
       "      <th>Assam</th>\n",
       "      <th>Punjab</th>\n",
       "    </tr>\n",
       "  </thead>\n",
       "  <tbody>\n",
       "    <tr>\n",
       "      <th>0</th>\n",
       "      <td>1</td>\n",
       "      <td>0</td>\n",
       "    </tr>\n",
       "    <tr>\n",
       "      <th>1</th>\n",
       "      <td>1</td>\n",
       "      <td>0</td>\n",
       "    </tr>\n",
       "    <tr>\n",
       "      <th>2</th>\n",
       "      <td>1</td>\n",
       "      <td>0</td>\n",
       "    </tr>\n",
       "    <tr>\n",
       "      <th>3</th>\n",
       "      <td>1</td>\n",
       "      <td>0</td>\n",
       "    </tr>\n",
       "    <tr>\n",
       "      <th>4</th>\n",
       "      <td>1</td>\n",
       "      <td>0</td>\n",
       "    </tr>\n",
       "  </tbody>\n",
       "</table>\n",
       "</div>"
      ],
      "text/plain": [
       "   Assam  Punjab\n",
       "0      1       0\n",
       "1      1       0\n",
       "2      1       0\n",
       "3      1       0\n",
       "4      1       0"
      ]
     },
     "execution_count": 61,
     "metadata": {},
     "output_type": "execute_result"
    }
   ],
   "source": [
    "state.head()"
   ]
  },
  {
   "cell_type": "code",
   "execution_count": 62,
   "metadata": {},
   "outputs": [],
   "source": [
    "district = pd.get_dummies(Train['DISTRICT'])"
   ]
  },
  {
   "cell_type": "code",
   "execution_count": 63,
   "metadata": {},
   "outputs": [
    {
     "data": {
      "text/html": [
       "<div>\n",
       "<style scoped>\n",
       "    .dataframe tbody tr th:only-of-type {\n",
       "        vertical-align: middle;\n",
       "    }\n",
       "\n",
       "    .dataframe tbody tr th {\n",
       "        vertical-align: top;\n",
       "    }\n",
       "\n",
       "    .dataframe thead th {\n",
       "        text-align: right;\n",
       "    }\n",
       "</style>\n",
       "<table border=\"1\" class=\"dataframe\">\n",
       "  <thead>\n",
       "    <tr style=\"text-align: right;\">\n",
       "      <th></th>\n",
       "      <th>AMRITSAR</th>\n",
       "      <th>BARNALA</th>\n",
       "      <th>BARPETA</th>\n",
       "      <th>BATHINDA</th>\n",
       "      <th>BONGAIGAON</th>\n",
       "      <th>CACHAR</th>\n",
       "      <th>DARRANG</th>\n",
       "      <th>DHEMAJI</th>\n",
       "      <th>DHUBRI</th>\n",
       "      <th>DIBRUGARH</th>\n",
       "      <th>...</th>\n",
       "      <th>NALBARI</th>\n",
       "      <th>NAWANSHAHR</th>\n",
       "      <th>NORTH CACHAR HILLS</th>\n",
       "      <th>NORTH_CACHAR_HILLS</th>\n",
       "      <th>PATIALA</th>\n",
       "      <th>RUPNAGAR</th>\n",
       "      <th>SANGRUR</th>\n",
       "      <th>SIBSAGAR</th>\n",
       "      <th>SONITPUR</th>\n",
       "      <th>TINSUKIA</th>\n",
       "    </tr>\n",
       "  </thead>\n",
       "  <tbody>\n",
       "    <tr>\n",
       "      <th>0</th>\n",
       "      <td>0</td>\n",
       "      <td>0</td>\n",
       "      <td>1</td>\n",
       "      <td>0</td>\n",
       "      <td>0</td>\n",
       "      <td>0</td>\n",
       "      <td>0</td>\n",
       "      <td>0</td>\n",
       "      <td>0</td>\n",
       "      <td>0</td>\n",
       "      <td>...</td>\n",
       "      <td>0</td>\n",
       "      <td>0</td>\n",
       "      <td>0</td>\n",
       "      <td>0</td>\n",
       "      <td>0</td>\n",
       "      <td>0</td>\n",
       "      <td>0</td>\n",
       "      <td>0</td>\n",
       "      <td>0</td>\n",
       "      <td>0</td>\n",
       "    </tr>\n",
       "    <tr>\n",
       "      <th>1</th>\n",
       "      <td>0</td>\n",
       "      <td>0</td>\n",
       "      <td>1</td>\n",
       "      <td>0</td>\n",
       "      <td>0</td>\n",
       "      <td>0</td>\n",
       "      <td>0</td>\n",
       "      <td>0</td>\n",
       "      <td>0</td>\n",
       "      <td>0</td>\n",
       "      <td>...</td>\n",
       "      <td>0</td>\n",
       "      <td>0</td>\n",
       "      <td>0</td>\n",
       "      <td>0</td>\n",
       "      <td>0</td>\n",
       "      <td>0</td>\n",
       "      <td>0</td>\n",
       "      <td>0</td>\n",
       "      <td>0</td>\n",
       "      <td>0</td>\n",
       "    </tr>\n",
       "    <tr>\n",
       "      <th>2</th>\n",
       "      <td>0</td>\n",
       "      <td>0</td>\n",
       "      <td>1</td>\n",
       "      <td>0</td>\n",
       "      <td>0</td>\n",
       "      <td>0</td>\n",
       "      <td>0</td>\n",
       "      <td>0</td>\n",
       "      <td>0</td>\n",
       "      <td>0</td>\n",
       "      <td>...</td>\n",
       "      <td>0</td>\n",
       "      <td>0</td>\n",
       "      <td>0</td>\n",
       "      <td>0</td>\n",
       "      <td>0</td>\n",
       "      <td>0</td>\n",
       "      <td>0</td>\n",
       "      <td>0</td>\n",
       "      <td>0</td>\n",
       "      <td>0</td>\n",
       "    </tr>\n",
       "    <tr>\n",
       "      <th>3</th>\n",
       "      <td>0</td>\n",
       "      <td>0</td>\n",
       "      <td>1</td>\n",
       "      <td>0</td>\n",
       "      <td>0</td>\n",
       "      <td>0</td>\n",
       "      <td>0</td>\n",
       "      <td>0</td>\n",
       "      <td>0</td>\n",
       "      <td>0</td>\n",
       "      <td>...</td>\n",
       "      <td>0</td>\n",
       "      <td>0</td>\n",
       "      <td>0</td>\n",
       "      <td>0</td>\n",
       "      <td>0</td>\n",
       "      <td>0</td>\n",
       "      <td>0</td>\n",
       "      <td>0</td>\n",
       "      <td>0</td>\n",
       "      <td>0</td>\n",
       "    </tr>\n",
       "    <tr>\n",
       "      <th>4</th>\n",
       "      <td>0</td>\n",
       "      <td>0</td>\n",
       "      <td>1</td>\n",
       "      <td>0</td>\n",
       "      <td>0</td>\n",
       "      <td>0</td>\n",
       "      <td>0</td>\n",
       "      <td>0</td>\n",
       "      <td>0</td>\n",
       "      <td>0</td>\n",
       "      <td>...</td>\n",
       "      <td>0</td>\n",
       "      <td>0</td>\n",
       "      <td>0</td>\n",
       "      <td>0</td>\n",
       "      <td>0</td>\n",
       "      <td>0</td>\n",
       "      <td>0</td>\n",
       "      <td>0</td>\n",
       "      <td>0</td>\n",
       "      <td>0</td>\n",
       "    </tr>\n",
       "  </tbody>\n",
       "</table>\n",
       "<p>5 rows × 45 columns</p>\n",
       "</div>"
      ],
      "text/plain": [
       "   AMRITSAR  BARNALA  BARPETA  BATHINDA  BONGAIGAON  CACHAR  DARRANG  DHEMAJI  \\\n",
       "0         0        0        1         0           0       0        0        0   \n",
       "1         0        0        1         0           0       0        0        0   \n",
       "2         0        0        1         0           0       0        0        0   \n",
       "3         0        0        1         0           0       0        0        0   \n",
       "4         0        0        1         0           0       0        0        0   \n",
       "\n",
       "   DHUBRI  DIBRUGARH  ...  NALBARI  NAWANSHAHR  NORTH CACHAR HILLS  \\\n",
       "0       0          0  ...        0           0                   0   \n",
       "1       0          0  ...        0           0                   0   \n",
       "2       0          0  ...        0           0                   0   \n",
       "3       0          0  ...        0           0                   0   \n",
       "4       0          0  ...        0           0                   0   \n",
       "\n",
       "   NORTH_CACHAR_HILLS  PATIALA  RUPNAGAR  SANGRUR  SIBSAGAR  SONITPUR  \\\n",
       "0                   0        0         0        0         0         0   \n",
       "1                   0        0         0        0         0         0   \n",
       "2                   0        0         0        0         0         0   \n",
       "3                   0        0         0        0         0         0   \n",
       "4                   0        0         0        0         0         0   \n",
       "\n",
       "   TINSUKIA  \n",
       "0         0  \n",
       "1         0  \n",
       "2         0  \n",
       "3         0  \n",
       "4         0  \n",
       "\n",
       "[5 rows x 45 columns]"
      ]
     },
     "execution_count": 63,
     "metadata": {},
     "output_type": "execute_result"
    }
   ],
   "source": [
    "district.head()"
   ]
  },
  {
   "cell_type": "code",
   "execution_count": 65,
   "metadata": {},
   "outputs": [],
   "source": [
    "training_dataset = pd.concat([Train , state , district] , axis = 1)"
   ]
  },
  {
   "cell_type": "code",
   "execution_count": 67,
   "metadata": {},
   "outputs": [],
   "source": [
    "training_dataset.drop(['STATE' , 'DISTRICT'] , axis = 1 , inplace = True)"
   ]
  },
  {
   "cell_type": "code",
   "execution_count": 68,
   "metadata": {},
   "outputs": [
    {
     "data": {
      "text/html": [
       "<div>\n",
       "<style scoped>\n",
       "    .dataframe tbody tr th:only-of-type {\n",
       "        vertical-align: middle;\n",
       "    }\n",
       "\n",
       "    .dataframe tbody tr th {\n",
       "        vertical-align: top;\n",
       "    }\n",
       "\n",
       "    .dataframe thead th {\n",
       "        text-align: right;\n",
       "    }\n",
       "</style>\n",
       "<table border=\"1\" class=\"dataframe\">\n",
       "  <thead>\n",
       "    <tr style=\"text-align: right;\">\n",
       "      <th></th>\n",
       "      <th>QTR</th>\n",
       "      <th>YR</th>\n",
       "      <th>NSP Male/ NewMicConfMale</th>\n",
       "      <th>NSP Female/ NewMicConf Female</th>\n",
       "      <th>NSP Total/ NewMicConf Total</th>\n",
       "      <th>NEP Male</th>\n",
       "      <th>NEP Female</th>\n",
       "      <th>0-14 yrs NSP(NewAll207+) Male</th>\n",
       "      <th>0-14 yrs NSP(NewAll207+) Female</th>\n",
       "      <th>15-24 yrs NSP(NewAll207+) Male</th>\n",
       "      <th>...</th>\n",
       "      <th>NALBARI</th>\n",
       "      <th>NAWANSHAHR</th>\n",
       "      <th>NORTH CACHAR HILLS</th>\n",
       "      <th>NORTH_CACHAR_HILLS</th>\n",
       "      <th>PATIALA</th>\n",
       "      <th>RUPNAGAR</th>\n",
       "      <th>SANGRUR</th>\n",
       "      <th>SIBSAGAR</th>\n",
       "      <th>SONITPUR</th>\n",
       "      <th>TINSUKIA</th>\n",
       "    </tr>\n",
       "  </thead>\n",
       "  <tbody>\n",
       "    <tr>\n",
       "      <th>0</th>\n",
       "      <td>1</td>\n",
       "      <td>2008</td>\n",
       "      <td>128</td>\n",
       "      <td>56</td>\n",
       "      <td>184</td>\n",
       "      <td>20</td>\n",
       "      <td>20</td>\n",
       "      <td>3</td>\n",
       "      <td>5</td>\n",
       "      <td>26</td>\n",
       "      <td>...</td>\n",
       "      <td>0</td>\n",
       "      <td>0</td>\n",
       "      <td>0</td>\n",
       "      <td>0</td>\n",
       "      <td>0</td>\n",
       "      <td>0</td>\n",
       "      <td>0</td>\n",
       "      <td>0</td>\n",
       "      <td>0</td>\n",
       "      <td>0</td>\n",
       "    </tr>\n",
       "    <tr>\n",
       "      <th>1</th>\n",
       "      <td>2</td>\n",
       "      <td>2008</td>\n",
       "      <td>168</td>\n",
       "      <td>48</td>\n",
       "      <td>216</td>\n",
       "      <td>36</td>\n",
       "      <td>25</td>\n",
       "      <td>0</td>\n",
       "      <td>4</td>\n",
       "      <td>26</td>\n",
       "      <td>...</td>\n",
       "      <td>0</td>\n",
       "      <td>0</td>\n",
       "      <td>0</td>\n",
       "      <td>0</td>\n",
       "      <td>0</td>\n",
       "      <td>0</td>\n",
       "      <td>0</td>\n",
       "      <td>0</td>\n",
       "      <td>0</td>\n",
       "      <td>0</td>\n",
       "    </tr>\n",
       "    <tr>\n",
       "      <th>2</th>\n",
       "      <td>3</td>\n",
       "      <td>2008</td>\n",
       "      <td>132</td>\n",
       "      <td>40</td>\n",
       "      <td>172</td>\n",
       "      <td>32</td>\n",
       "      <td>18</td>\n",
       "      <td>0</td>\n",
       "      <td>4</td>\n",
       "      <td>22</td>\n",
       "      <td>...</td>\n",
       "      <td>0</td>\n",
       "      <td>0</td>\n",
       "      <td>0</td>\n",
       "      <td>0</td>\n",
       "      <td>0</td>\n",
       "      <td>0</td>\n",
       "      <td>0</td>\n",
       "      <td>0</td>\n",
       "      <td>0</td>\n",
       "      <td>0</td>\n",
       "    </tr>\n",
       "    <tr>\n",
       "      <th>3</th>\n",
       "      <td>4</td>\n",
       "      <td>2008</td>\n",
       "      <td>134</td>\n",
       "      <td>38</td>\n",
       "      <td>172</td>\n",
       "      <td>19</td>\n",
       "      <td>12</td>\n",
       "      <td>0</td>\n",
       "      <td>1</td>\n",
       "      <td>29</td>\n",
       "      <td>...</td>\n",
       "      <td>0</td>\n",
       "      <td>0</td>\n",
       "      <td>0</td>\n",
       "      <td>0</td>\n",
       "      <td>0</td>\n",
       "      <td>0</td>\n",
       "      <td>0</td>\n",
       "      <td>0</td>\n",
       "      <td>0</td>\n",
       "      <td>0</td>\n",
       "    </tr>\n",
       "    <tr>\n",
       "      <th>4</th>\n",
       "      <td>1</td>\n",
       "      <td>2009</td>\n",
       "      <td>145</td>\n",
       "      <td>39</td>\n",
       "      <td>184</td>\n",
       "      <td>27</td>\n",
       "      <td>22</td>\n",
       "      <td>2</td>\n",
       "      <td>0</td>\n",
       "      <td>24</td>\n",
       "      <td>...</td>\n",
       "      <td>0</td>\n",
       "      <td>0</td>\n",
       "      <td>0</td>\n",
       "      <td>0</td>\n",
       "      <td>0</td>\n",
       "      <td>0</td>\n",
       "      <td>0</td>\n",
       "      <td>0</td>\n",
       "      <td>0</td>\n",
       "      <td>0</td>\n",
       "    </tr>\n",
       "  </tbody>\n",
       "</table>\n",
       "<p>5 rows × 71 columns</p>\n",
       "</div>"
      ],
      "text/plain": [
       "   QTR    YR  NSP Male/ NewMicConfMale  NSP Female/ NewMicConf Female  \\\n",
       "0    1  2008                       128                             56   \n",
       "1    2  2008                       168                             48   \n",
       "2    3  2008                       132                             40   \n",
       "3    4  2008                       134                             38   \n",
       "4    1  2009                       145                             39   \n",
       "\n",
       "   NSP Total/ NewMicConf Total  NEP Male  NEP Female  \\\n",
       "0                          184        20          20   \n",
       "1                          216        36          25   \n",
       "2                          172        32          18   \n",
       "3                          172        19          12   \n",
       "4                          184        27          22   \n",
       "\n",
       "   0-14 yrs NSP(NewAll207+) Male  0-14 yrs NSP(NewAll207+) Female  \\\n",
       "0                              3                                5   \n",
       "1                              0                                4   \n",
       "2                              0                                4   \n",
       "3                              0                                1   \n",
       "4                              2                                0   \n",
       "\n",
       "   15-24 yrs NSP(NewAll207+) Male  ...  NALBARI  NAWANSHAHR  \\\n",
       "0                              26  ...        0           0   \n",
       "1                              26  ...        0           0   \n",
       "2                              22  ...        0           0   \n",
       "3                              29  ...        0           0   \n",
       "4                              24  ...        0           0   \n",
       "\n",
       "   NORTH CACHAR HILLS  NORTH_CACHAR_HILLS  PATIALA  RUPNAGAR  SANGRUR  \\\n",
       "0                   0                   0        0         0        0   \n",
       "1                   0                   0        0         0        0   \n",
       "2                   0                   0        0         0        0   \n",
       "3                   0                   0        0         0        0   \n",
       "4                   0                   0        0         0        0   \n",
       "\n",
       "   SIBSAGAR  SONITPUR  TINSUKIA  \n",
       "0         0         0         0  \n",
       "1         0         0         0  \n",
       "2         0         0         0  \n",
       "3         0         0         0  \n",
       "4         0         0         0  \n",
       "\n",
       "[5 rows x 71 columns]"
      ]
     },
     "execution_count": 68,
     "metadata": {},
     "output_type": "execute_result"
    }
   ],
   "source": [
    "training_dataset.head()"
   ]
  },
  {
   "cell_type": "code",
   "execution_count": 69,
   "metadata": {},
   "outputs": [
    {
     "data": {
      "text/plain": [
       "Index(['QTR', 'YR', 'NSP Male/ NewMicConfMale',\n",
       "       'NSP Female/ NewMicConf Female', 'NSP Total/ NewMicConf Total',\n",
       "       'NEP Male', 'NEP Female', '0-14 yrs NSP(NewAll207+) Male',\n",
       "       '0-14 yrs NSP(NewAll207+) Female', '15-24 yrs NSP(NewAll207+) Male',\n",
       "       '15-24 yrs NSP(NewAll207+) Female', '25-34 yrs NSP(NewAll207+) Male',\n",
       "       '25-34 yrs NSP(NewAll207+) Female', '35-44 yrs NSP(NewAll207+) Male',\n",
       "       '35-44 yrs NSP(NewAll207+) Female', '45-54 yrs NSP(NewAll207+) Male',\n",
       "       '45-54 yrs NSP(NewAll207+) Female', '55-64 yrs NSP(NewAll207+) Male',\n",
       "       '55-64 yrs NSP(NewAll207+) Female',\n",
       "       '65 & above yrs NSP(NewAll207+) Male',\n",
       "       '65 & above yrs NSP(NewAll207+) Female', 'Total Failure',\n",
       "       'SumOfHIV_Tested', 'SumOfHIV_infected', 'Assam', 'Punjab', 'AMRITSAR',\n",
       "       'BARNALA', 'BARPETA', 'BATHINDA', 'BONGAIGAON', 'CACHAR', 'DARRANG',\n",
       "       'DHEMAJI', 'DHUBRI', 'DIBRUGARH', 'FARIDKOT', 'FIROZPUR', 'GOALPARA',\n",
       "       'GOLAGHAT', 'GURDASPUR', 'HAILAKANDI', 'HOSHIARPUR', 'JALANDHAR',\n",
       "       'JORHAT', 'KAMRUP', 'KAPURTHALA', 'KARBI ANGLONG', 'KARBI_ANGLONG',\n",
       "       'KARIMGANJ', 'KOKRAJHAR', 'LAKHIMPUR', 'LUDHIANA', 'MANSA', 'MANSA-PN',\n",
       "       'MANSA-PU', 'MARIGAON', 'MOGA', 'MOHALI', 'MUKTSAR', 'NAGAON',\n",
       "       'NALBARI', 'NAWANSHAHR', 'NORTH CACHAR HILLS', 'NORTH_CACHAR_HILLS',\n",
       "       'PATIALA', 'RUPNAGAR', 'SANGRUR', 'SIBSAGAR', 'SONITPUR', 'TINSUKIA'],\n",
       "      dtype='object')"
      ]
     },
     "execution_count": 69,
     "metadata": {},
     "output_type": "execute_result"
    }
   ],
   "source": [
    "training_dataset.columns"
   ]
  },
  {
   "cell_type": "code",
   "execution_count": 71,
   "metadata": {},
   "outputs": [],
   "source": [
    "training_dataset.to_csv(r'Downloads/TB/Iteration2/Training_Dataset.csv' , index = False)"
   ]
  },
  {
   "cell_type": "code",
   "execution_count": null,
   "metadata": {},
   "outputs": [],
   "source": []
  }
 ],
 "metadata": {
  "kernelspec": {
   "display_name": "Python 3",
   "language": "python",
   "name": "python3"
  },
  "language_info": {
   "codemirror_mode": {
    "name": "ipython",
    "version": 3
   },
   "file_extension": ".py",
   "mimetype": "text/x-python",
   "name": "python",
   "nbconvert_exporter": "python",
   "pygments_lexer": "ipython3",
   "version": "3.7.6"
  }
 },
 "nbformat": 4,
 "nbformat_minor": 4
}
