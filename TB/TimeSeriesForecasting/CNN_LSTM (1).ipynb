{
  "nbformat": 4,
  "nbformat_minor": 0,
  "metadata": {
    "colab": {
      "name": "CNN|LSTM.ipynb",
      "provenance": []
    },
    "kernelspec": {
      "name": "python3",
      "display_name": "Python 3"
    }
  },
  "cells": [
    {
      "cell_type": "code",
      "metadata": {
        "id": "lSBYAbqUvjrb"
      },
      "source": [
        "import pandas as pd"
      ],
      "execution_count": null,
      "outputs": []
    },
    {
      "cell_type": "code",
      "metadata": {
        "id": "KTPdZLZbvq4W"
      },
      "source": [
        "df = pd.read_csv(\"Anantapur.csv\")"
      ],
      "execution_count": null,
      "outputs": []
    },
    {
      "cell_type": "code",
      "metadata": {
        "id": "8qMczESdwQv3",
        "colab": {
          "base_uri": "https://localhost:8080/",
          "height": 350
        },
        "outputId": "fca1cfdb-fba8-41d8-b349-f9901db3180f"
      },
      "source": [
        "df.head()"
      ],
      "execution_count": null,
      "outputs": [
        {
          "output_type": "execute_result",
          "data": {
            "text/html": [
              "<div>\n",
              "<style scoped>\n",
              "    .dataframe tbody tr th:only-of-type {\n",
              "        vertical-align: middle;\n",
              "    }\n",
              "\n",
              "    .dataframe tbody tr th {\n",
              "        vertical-align: top;\n",
              "    }\n",
              "\n",
              "    .dataframe thead th {\n",
              "        text-align: right;\n",
              "    }\n",
              "</style>\n",
              "<table border=\"1\" class=\"dataframe\">\n",
              "  <thead>\n",
              "    <tr style=\"text-align: right;\">\n",
              "      <th></th>\n",
              "      <th>STATE</th>\n",
              "      <th>DISTRICT</th>\n",
              "      <th>QTR</th>\n",
              "      <th>YR</th>\n",
              "      <th>NSP Male/ NewMicConfMale</th>\n",
              "      <th>NSP Female/ NewMicConf Female</th>\n",
              "      <th>NSP Total/ NewMicConf Total</th>\n",
              "      <th>Relapse Male</th>\n",
              "      <th>Relapse Female</th>\n",
              "      <th>NSN Male/NewClinDiag Male</th>\n",
              "      <th>NSN Female/NewClinDiag Female</th>\n",
              "      <th>NEP Male</th>\n",
              "      <th>NEP Female</th>\n",
              "      <th>0-14 yrs NSP(NewAll207+) Male</th>\n",
              "      <th>0-14 yrs NSP(NewAll207+) Female</th>\n",
              "      <th>15-24 yrs NSP(NewAll207+) Male</th>\n",
              "      <th>15-24 yrs NSP(NewAll207+) Female</th>\n",
              "      <th>25-34 yrs NSP(NewAll207+) Male</th>\n",
              "      <th>25-34 yrs NSP(NewAll207+) Female</th>\n",
              "      <th>35-44 yrs NSP(NewAll207+) Male</th>\n",
              "      <th>35-44 yrs NSP(NewAll207+) Female</th>\n",
              "      <th>45-54 yrs NSP(NewAll207+) Male</th>\n",
              "      <th>45-54 yrs NSP(NewAll207+) Female</th>\n",
              "      <th>55-64 yrs NSP(NewAll207+) Male</th>\n",
              "      <th>55-64 yrs NSP(NewAll207+) Female</th>\n",
              "      <th>65 &amp; above yrs NSP(NewAll207+) Male</th>\n",
              "      <th>65 &amp; above yrs NSP(NewAll207+) Female</th>\n",
              "      <th>SumOfHIV_Tested</th>\n",
              "      <th>SumOfHIV_infected</th>\n",
              "    </tr>\n",
              "  </thead>\n",
              "  <tbody>\n",
              "    <tr>\n",
              "      <th>0</th>\n",
              "      <td>Andhra Pradesh</td>\n",
              "      <td>ANANTAPUR</td>\n",
              "      <td>1</td>\n",
              "      <td>2008</td>\n",
              "      <td>529</td>\n",
              "      <td>181</td>\n",
              "      <td>710</td>\n",
              "      <td>82</td>\n",
              "      <td>12</td>\n",
              "      <td>319</td>\n",
              "      <td>132</td>\n",
              "      <td>105</td>\n",
              "      <td>73</td>\n",
              "      <td>2.0</td>\n",
              "      <td>3.0</td>\n",
              "      <td>64.0</td>\n",
              "      <td>46.0</td>\n",
              "      <td>89.0</td>\n",
              "      <td>49.0</td>\n",
              "      <td>98.0</td>\n",
              "      <td>32.0</td>\n",
              "      <td>118.0</td>\n",
              "      <td>30.0</td>\n",
              "      <td>105.0</td>\n",
              "      <td>16.0</td>\n",
              "      <td>53.0</td>\n",
              "      <td>5.0</td>\n",
              "      <td>199.0</td>\n",
              "      <td>50.0</td>\n",
              "    </tr>\n",
              "    <tr>\n",
              "      <th>1</th>\n",
              "      <td>Andhra Pradesh</td>\n",
              "      <td>ANANTAPUR</td>\n",
              "      <td>2</td>\n",
              "      <td>2008</td>\n",
              "      <td>524</td>\n",
              "      <td>204</td>\n",
              "      <td>728</td>\n",
              "      <td>70</td>\n",
              "      <td>21</td>\n",
              "      <td>201</td>\n",
              "      <td>129</td>\n",
              "      <td>89</td>\n",
              "      <td>84</td>\n",
              "      <td>2.0</td>\n",
              "      <td>9.0</td>\n",
              "      <td>63.0</td>\n",
              "      <td>46.0</td>\n",
              "      <td>79.0</td>\n",
              "      <td>49.0</td>\n",
              "      <td>100.0</td>\n",
              "      <td>45.0</td>\n",
              "      <td>118.0</td>\n",
              "      <td>24.0</td>\n",
              "      <td>104.0</td>\n",
              "      <td>23.0</td>\n",
              "      <td>58.0</td>\n",
              "      <td>8.0</td>\n",
              "      <td>170.0</td>\n",
              "      <td>68.0</td>\n",
              "    </tr>\n",
              "    <tr>\n",
              "      <th>2</th>\n",
              "      <td>Andhra Pradesh</td>\n",
              "      <td>ANANTAPUR</td>\n",
              "      <td>3</td>\n",
              "      <td>2008</td>\n",
              "      <td>502</td>\n",
              "      <td>162</td>\n",
              "      <td>664</td>\n",
              "      <td>75</td>\n",
              "      <td>15</td>\n",
              "      <td>179</td>\n",
              "      <td>112</td>\n",
              "      <td>91</td>\n",
              "      <td>73</td>\n",
              "      <td>1.0</td>\n",
              "      <td>4.0</td>\n",
              "      <td>63.0</td>\n",
              "      <td>20.0</td>\n",
              "      <td>76.0</td>\n",
              "      <td>50.0</td>\n",
              "      <td>107.0</td>\n",
              "      <td>35.0</td>\n",
              "      <td>108.0</td>\n",
              "      <td>28.0</td>\n",
              "      <td>102.0</td>\n",
              "      <td>18.0</td>\n",
              "      <td>45.0</td>\n",
              "      <td>7.0</td>\n",
              "      <td>263.0</td>\n",
              "      <td>73.0</td>\n",
              "    </tr>\n",
              "    <tr>\n",
              "      <th>3</th>\n",
              "      <td>Andhra Pradesh</td>\n",
              "      <td>ANANTAPUR</td>\n",
              "      <td>4</td>\n",
              "      <td>2008</td>\n",
              "      <td>481</td>\n",
              "      <td>194</td>\n",
              "      <td>675</td>\n",
              "      <td>55</td>\n",
              "      <td>22</td>\n",
              "      <td>193</td>\n",
              "      <td>113</td>\n",
              "      <td>90</td>\n",
              "      <td>62</td>\n",
              "      <td>0.0</td>\n",
              "      <td>3.0</td>\n",
              "      <td>57.0</td>\n",
              "      <td>50.0</td>\n",
              "      <td>70.0</td>\n",
              "      <td>46.0</td>\n",
              "      <td>86.0</td>\n",
              "      <td>41.0</td>\n",
              "      <td>116.0</td>\n",
              "      <td>21.0</td>\n",
              "      <td>78.0</td>\n",
              "      <td>21.0</td>\n",
              "      <td>74.0</td>\n",
              "      <td>12.0</td>\n",
              "      <td>369.0</td>\n",
              "      <td>72.0</td>\n",
              "    </tr>\n",
              "    <tr>\n",
              "      <th>4</th>\n",
              "      <td>Andhra Pradesh</td>\n",
              "      <td>ANANTAPUR</td>\n",
              "      <td>1</td>\n",
              "      <td>2009</td>\n",
              "      <td>527</td>\n",
              "      <td>195</td>\n",
              "      <td>722</td>\n",
              "      <td>73</td>\n",
              "      <td>14</td>\n",
              "      <td>249</td>\n",
              "      <td>127</td>\n",
              "      <td>94</td>\n",
              "      <td>73</td>\n",
              "      <td>4.0</td>\n",
              "      <td>6.0</td>\n",
              "      <td>50.0</td>\n",
              "      <td>42.0</td>\n",
              "      <td>104.0</td>\n",
              "      <td>51.0</td>\n",
              "      <td>94.0</td>\n",
              "      <td>32.0</td>\n",
              "      <td>109.0</td>\n",
              "      <td>34.0</td>\n",
              "      <td>102.0</td>\n",
              "      <td>25.0</td>\n",
              "      <td>64.0</td>\n",
              "      <td>5.0</td>\n",
              "      <td>605.0</td>\n",
              "      <td>109.0</td>\n",
              "    </tr>\n",
              "  </tbody>\n",
              "</table>\n",
              "</div>"
            ],
            "text/plain": [
              "            STATE   DISTRICT  ...  SumOfHIV_Tested  SumOfHIV_infected\n",
              "0  Andhra Pradesh  ANANTAPUR  ...            199.0               50.0\n",
              "1  Andhra Pradesh  ANANTAPUR  ...            170.0               68.0\n",
              "2  Andhra Pradesh  ANANTAPUR  ...            263.0               73.0\n",
              "3  Andhra Pradesh  ANANTAPUR  ...            369.0               72.0\n",
              "4  Andhra Pradesh  ANANTAPUR  ...            605.0              109.0\n",
              "\n",
              "[5 rows x 29 columns]"
            ]
          },
          "metadata": {
            "tags": []
          },
          "execution_count": 3
        }
      ]
    },
    {
      "cell_type": "code",
      "metadata": {
        "id": "LwV-BsfzwS7E"
      },
      "source": [
        "raw_seq = df['NSP Total/ NewMicConf Total']"
      ],
      "execution_count": null,
      "outputs": []
    },
    {
      "cell_type": "code",
      "metadata": {
        "id": "C_2n-PDrwc2K",
        "colab": {
          "base_uri": "https://localhost:8080/"
        },
        "outputId": "c848ca63-c96c-4514-b562-dc2f6377a100"
      },
      "source": [
        "raw_seq"
      ],
      "execution_count": null,
      "outputs": [
        {
          "output_type": "execute_result",
          "data": {
            "text/plain": [
              "0     710\n",
              "1     728\n",
              "2     664\n",
              "3     675\n",
              "4     722\n",
              "5     703\n",
              "6     645\n",
              "7     564\n",
              "8     613\n",
              "9     729\n",
              "10    630\n",
              "11    628\n",
              "12    641\n",
              "13    643\n",
              "14    588\n",
              "15    585\n",
              "16    601\n",
              "17    577\n",
              "18    495\n",
              "19    541\n",
              "20    626\n",
              "21    603\n",
              "22    437\n",
              "23    590\n",
              "24    627\n",
              "25    671\n",
              "26    599\n",
              "27    551\n",
              "28    539\n",
              "29    632\n",
              "30    500\n",
              "31    598\n",
              "32    654\n",
              "33    646\n",
              "34    580\n",
              "35    651\n",
              "36    626\n",
              "37    723\n",
              "38    547\n",
              "39    550\n",
              "40    560\n",
              "41    775\n",
              "42    669\n",
              "43    757\n",
              "Name: NSP Total/ NewMicConf Total, dtype: int64"
            ]
          },
          "metadata": {
            "tags": []
          },
          "execution_count": 5
        }
      ]
    },
    {
      "cell_type": "code",
      "metadata": {
        "id": "hp4UDZR1weaK"
      },
      "source": [
        "from numpy import array\n",
        "from keras.models import Sequential\n",
        "from keras.layers import Dense\n",
        "from keras.layers import Flatten\n",
        "from keras.layers.convolutional import Conv1D\n",
        "from keras.layers.convolutional import MaxPooling1D"
      ],
      "execution_count": null,
      "outputs": []
    },
    {
      "cell_type": "code",
      "metadata": {
        "id": "VHX2mlRHwk9o"
      },
      "source": [
        "def split_sequence(sequence, n_steps):\n",
        "\tX, y = list(), list()\n",
        "\tfor i in range(len(sequence)):\n",
        "\t\t# find the end of this pattern\n",
        "\t\tend_ix = i + n_steps\n",
        "\t\t# check if we are beyond the sequence\n",
        "\t\tif end_ix > len(sequence)-1:\n",
        "\t\t\tbreak\n",
        "\t\t# gather input and output parts of the pattern\n",
        "\t\tseq_x, seq_y = sequence[i:end_ix], sequence[end_ix]\n",
        "\t\tX.append(seq_x)\n",
        "\t\ty.append(seq_y)\n",
        "\treturn array(X), array(y)"
      ],
      "execution_count": null,
      "outputs": []
    },
    {
      "cell_type": "code",
      "metadata": {
        "id": "WpLa0noBwo17"
      },
      "source": [
        "n_steps = 8"
      ],
      "execution_count": null,
      "outputs": []
    },
    {
      "cell_type": "code",
      "metadata": {
        "id": "YOJlkigrwsJm"
      },
      "source": [
        "X, y = split_sequence(raw_seq, n_steps)"
      ],
      "execution_count": null,
      "outputs": []
    },
    {
      "cell_type": "code",
      "metadata": {
        "id": "PlOxwB-Pww1d"
      },
      "source": [
        "n_features = 1"
      ],
      "execution_count": null,
      "outputs": []
    },
    {
      "cell_type": "code",
      "metadata": {
        "id": "4WlKcaHaw0Z0"
      },
      "source": [
        "X = X.reshape((X.shape[0], X.shape[1], n_features))\n"
      ],
      "execution_count": null,
      "outputs": []
    },
    {
      "cell_type": "code",
      "metadata": {
        "id": "gRhLpHuuw2mS"
      },
      "source": [
        "model = Sequential()\n",
        "model.add(Conv1D(filters=64, kernel_size=2, activation='relu', input_shape=(n_steps, n_features)))\n",
        "model.add(MaxPooling1D(pool_size=2))\n",
        "model.add(Flatten())\n",
        "model.add(Dense(50, activation='relu'))\n",
        "model.add(Dense(1))\n",
        "model.compile(optimizer='adam', loss='mse')"
      ],
      "execution_count": null,
      "outputs": []
    },
    {
      "cell_type": "code",
      "metadata": {
        "id": "gr7OL9VIw6vk",
        "colab": {
          "base_uri": "https://localhost:8080/"
        },
        "outputId": "fbefb1b2-18cd-4e85-f1ff-39af17e40037"
      },
      "source": [
        "model.fit(X, y, epochs=1000, verbose=0)"
      ],
      "execution_count": null,
      "outputs": [
        {
          "output_type": "execute_result",
          "data": {
            "text/plain": [
              "<tensorflow.python.keras.callbacks.History at 0x7fddc01aad30>"
            ]
          },
          "metadata": {
            "tags": []
          },
          "execution_count": 13
        }
      ]
    },
    {
      "cell_type": "code",
      "metadata": {
        "id": "ZQLuUJT5xG6S"
      },
      "source": [
        "resArray = list(X[-1])"
      ],
      "execution_count": null,
      "outputs": []
    },
    {
      "cell_type": "code",
      "metadata": {
        "id": "U3y4z-IWxpRx"
      },
      "source": [
        "for i in range(0 , 24):\n",
        "  abc = resArray[i:i+8]\n",
        "  x_input = array(abc).astype('float32')\n",
        "  x_input = x_input.reshape((1, n_steps, n_features))\n",
        "  resArray.append(model.predict(x_input, verbose=0))\n"
      ],
      "execution_count": null,
      "outputs": []
    },
    {
      "cell_type": "code",
      "metadata": {
        "id": "AmucUHiAz3MT",
        "colab": {
          "base_uri": "https://localhost:8080/"
        },
        "outputId": "cb00d6c5-0c7c-4b14-b74f-0abbcb12b71d"
      },
      "source": [
        "resArray"
      ],
      "execution_count": null,
      "outputs": [
        {
          "output_type": "execute_result",
          "data": {
            "text/plain": [
              "[array([651]),\n",
              " array([626]),\n",
              " array([723]),\n",
              " array([547]),\n",
              " array([550]),\n",
              " array([560]),\n",
              " array([775]),\n",
              " array([669]),\n",
              " array([[722.40106]], dtype=float32),\n",
              " array([[778.87006]], dtype=float32),\n",
              " array([[651.75806]], dtype=float32),\n",
              " array([[544.67303]], dtype=float32),\n",
              " array([[678.8515]], dtype=float32),\n",
              " array([[709.249]], dtype=float32),\n",
              " array([[800.9693]], dtype=float32),\n",
              " array([[647.97174]], dtype=float32),\n",
              " array([[671.9367]], dtype=float32),\n",
              " array([[702.83984]], dtype=float32),\n",
              " array([[734.7544]], dtype=float32),\n",
              " array([[656.745]], dtype=float32),\n",
              " array([[654.76324]], dtype=float32),\n",
              " array([[724.23865]], dtype=float32),\n",
              " array([[707.0778]], dtype=float32),\n",
              " array([[613.35376]], dtype=float32),\n",
              " array([[618.6506]], dtype=float32),\n",
              " array([[681.85767]], dtype=float32),\n",
              " array([[680.41064]], dtype=float32),\n",
              " array([[618.6273]], dtype=float32),\n",
              " array([[627.8301]], dtype=float32),\n",
              " array([[636.0207]], dtype=float32),\n",
              " array([[642.02966]], dtype=float32),\n",
              " array([[579.2543]], dtype=float32)]"
            ]
          },
          "metadata": {
            "tags": []
          },
          "execution_count": 16
        }
      ]
    },
    {
      "cell_type": "code",
      "metadata": {
        "id": "rGYTaVGP2sTD"
      },
      "source": [
        "import matplotlib.pyplot as plt"
      ],
      "execution_count": null,
      "outputs": []
    },
    {
      "cell_type": "code",
      "metadata": {
        "id": "d9Vkiezs2y0_"
      },
      "source": [
        "range1 = pd.date_range(start='1/1/2008', periods=44, freq='Q')"
      ],
      "execution_count": null,
      "outputs": []
    },
    {
      "cell_type": "code",
      "metadata": {
        "id": "ywLyYPXN3bSt"
      },
      "source": [
        "range2 = pd.date_range(start='1/1/2019', periods=24, freq='Q')"
      ],
      "execution_count": null,
      "outputs": []
    },
    {
      "cell_type": "code",
      "metadata": {
        "id": "ONJvCQPk306o",
        "colab": {
          "base_uri": "https://localhost:8080/"
        },
        "outputId": "efd1972d-3c36-4da0-be28-8a94d6ea8dcc"
      },
      "source": [
        "range2"
      ],
      "execution_count": null,
      "outputs": [
        {
          "output_type": "execute_result",
          "data": {
            "text/plain": [
              "DatetimeIndex(['2019-03-31', '2019-06-30', '2019-09-30', '2019-12-31',\n",
              "               '2020-03-31', '2020-06-30', '2020-09-30', '2020-12-31',\n",
              "               '2021-03-31', '2021-06-30', '2021-09-30', '2021-12-31',\n",
              "               '2022-03-31', '2022-06-30', '2022-09-30', '2022-12-31',\n",
              "               '2023-03-31', '2023-06-30', '2023-09-30', '2023-12-31',\n",
              "               '2024-03-31', '2024-06-30', '2024-09-30', '2024-12-31'],\n",
              "              dtype='datetime64[ns]', freq='Q-DEC')"
            ]
          },
          "metadata": {
            "tags": []
          },
          "execution_count": 66
        }
      ]
    },
    {
      "cell_type": "code",
      "metadata": {
        "id": "BtNDB3BT31_4",
        "colab": {
          "base_uri": "https://localhost:8080/",
          "height": 282
        },
        "outputId": "23baf49f-c25d-4674-94bd-c9c532c04aba"
      },
      "source": [
        "plt.plot(range1 , raw_seq)\n",
        "plt.plot(range2 , res , 'r')"
      ],
      "execution_count": null,
      "outputs": [
        {
          "output_type": "execute_result",
          "data": {
            "text/plain": [
              "[<matplotlib.lines.Line2D at 0x7fddbd1d7f28>]"
            ]
          },
          "metadata": {
            "tags": []
          },
          "execution_count": 23
        },
        {
          "output_type": "display_data",
          "data": {
            "image/png": "[encoded data removed]",
            "text/plain": [
              "<Figure size 432x288 with 1 Axes>"
            ]
          },
          "metadata": {
            "tags": [],
            "needs_background": "light"
          }
        }
      ]
    },
    {
      "cell_type": "code",
      "metadata": {
        "id": "RWbF2oap39Q3"
      },
      "source": [
        "output = resArray[8:]"
      ],
      "execution_count": null,
      "outputs": []
    },
    {
      "cell_type": "code",
      "metadata": {
        "id": "KfZ5mIRS6gPh"
      },
      "source": [
        "output = array(output)"
      ],
      "execution_count": null,
      "outputs": []
    },
    {
      "cell_type": "code",
      "metadata": {
        "id": "TC6MbkkK6hhw"
      },
      "source": [
        "res = output.flatten()"
      ],
      "execution_count": null,
      "outputs": []
    },
    {
      "cell_type": "code",
      "metadata": {
        "id": "bzMFRb_o69Ji",
        "colab": {
          "base_uri": "https://localhost:8080/"
        },
        "outputId": "b8960ae3-6909-4ba5-c11a-6bb345274cd8"
      },
      "source": [
        "res"
      ],
      "execution_count": null,
      "outputs": [
        {
          "output_type": "execute_result",
          "data": {
            "text/plain": [
              "array([736.48193, 707.3424 , 698.1117 , 680.513  , 662.3854 , 648.72766,\n",
              "       632.0849 , 617.47034, 602.8616 , 588.37823, 574.6117 , 560.9253 ,\n",
              "       547.72614, 534.805  , 522.21344, 509.95047, 497.98157, 486.32257,\n",
              "       474.9517 , 463.86774, 453.0622 , 442.5274 , 432.25757, 422.24542],\n",
              "      dtype=float32)"
            ]
          },
          "metadata": {
            "tags": []
          },
          "execution_count": 94
        }
      ]
    },
    {
      "cell_type": "code",
      "metadata": {
        "id": "tqAi0-Uh7ADp"
      },
      "source": [
        ""
      ],
      "execution_count": null,
      "outputs": []
    }
  ]
}