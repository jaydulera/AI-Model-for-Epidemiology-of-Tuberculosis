{
  "nbformat": 4,
  "nbformat_minor": 0,
  "metadata": {
    "colab": {
      "name": "Copy of Forecast.ipynb",
      "provenance": []
    },
    "kernelspec": {
      "display_name": "Python 3",
      "name": "python3"
    }
  },
  "cells": [
    {
      "cell_type": "code",
      "metadata": {
        "id": "5Nv8pNRwxQvo"
      },
      "source": [
        "import pandas as pd"
      ],
      "execution_count": null,
      "outputs": []
    },
    {
      "cell_type": "code",
      "metadata": {
        "id": "RaBVwkhcxSXY",
        "colab": {
          "background_save": true
        }
      },
      "source": [
        "from numpy import array\n",
        "from keras.models import Sequential\n",
        "from keras.layers import Dense\n",
        "from keras.layers import Flatten\n",
        "from keras.layers.convolutional import Conv1D\n",
        "from keras.layers.convolutional import MaxPooling1D"
      ],
      "execution_count": null,
      "outputs": []
    },
    {
      "cell_type": "code",
      "metadata": {
        "id": "inQor4dfxVUE"
      },
      "source": [
        "def split_sequence(sequence, n_steps):\n",
        "\tX, y = list(), list()\n",
        "\tfor i in range(len(sequence)):\n",
        "\t\t# find the end of this pattern\n",
        "\t\tend_ix = i + n_steps\n",
        "\t\t# check if we are beyond the sequence\n",
        "\t\tif end_ix > len(sequence)-1:\n",
        "\t\t\tbreak\n",
        "\t\t# gather input and output parts of the pattern\n",
        "\t\tseq_x, seq_y = sequence[i:end_ix], sequence[end_ix]\n",
        "\t\tX.append(seq_x)\n",
        "\t\ty.append(seq_y)\n",
        "\treturn array(X), array(y)"
      ],
      "execution_count": null,
      "outputs": []
    },
    {
      "cell_type": "code",
      "metadata": {
        "id": "HHDcSjVHxaj0"
      },
      "source": [
        "df = pd.read_csv(\"Anantapur.csv\")"
      ],
      "execution_count": null,
      "outputs": []
    },
    {
      "cell_type": "code",
      "metadata": {
        "id": "XWZ2DOSYxp_F",
        "colab": {
          "base_uri": "https://localhost:8080/",
          "height": 350
        },
        "outputId": "bd46bc82-df76-471b-d286-a62e176de2b7"
      },
      "source": [
        "df.head()"
      ],
      "execution_count": null,
      "outputs": [
        {
          "output_type": "execute_result",
          "data": {
            "text/html": [
              "<div>\n",
              "<style scoped>\n",
              "    .dataframe tbody tr th:only-of-type {\n",
              "        vertical-align: middle;\n",
              "    }\n",
              "\n",
              "    .dataframe tbody tr th {\n",
              "        vertical-align: top;\n",
              "    }\n",
              "\n",
              "    .dataframe thead th {\n",
              "        text-align: right;\n",
              "    }\n",
              "</style>\n",
              "<table border=\"1\" class=\"dataframe\">\n",
              "  <thead>\n",
              "    <tr style=\"text-align: right;\">\n",
              "      <th></th>\n",
              "      <th>STATE</th>\n",
              "      <th>DISTRICT</th>\n",
              "      <th>QTR</th>\n",
              "      <th>YR</th>\n",
              "      <th>NSP Male/ NewMicConfMale</th>\n",
              "      <th>NSP Female/ NewMicConf Female</th>\n",
              "      <th>NSP Total/ NewMicConf Total</th>\n",
              "      <th>Relapse Male</th>\n",
              "      <th>Relapse Female</th>\n",
              "      <th>NSN Male/NewClinDiag Male</th>\n",
              "      <th>NSN Female/NewClinDiag Female</th>\n",
              "      <th>NEP Male</th>\n",
              "      <th>NEP Female</th>\n",
              "      <th>0-14 yrs NSP(NewAll207+) Male</th>\n",
              "      <th>0-14 yrs NSP(NewAll207+) Female</th>\n",
              "      <th>15-24 yrs NSP(NewAll207+) Male</th>\n",
              "      <th>15-24 yrs NSP(NewAll207+) Female</th>\n",
              "      <th>25-34 yrs NSP(NewAll207+) Male</th>\n",
              "      <th>25-34 yrs NSP(NewAll207+) Female</th>\n",
              "      <th>35-44 yrs NSP(NewAll207+) Male</th>\n",
              "      <th>35-44 yrs NSP(NewAll207+) Female</th>\n",
              "      <th>45-54 yrs NSP(NewAll207+) Male</th>\n",
              "      <th>45-54 yrs NSP(NewAll207+) Female</th>\n",
              "      <th>55-64 yrs NSP(NewAll207+) Male</th>\n",
              "      <th>55-64 yrs NSP(NewAll207+) Female</th>\n",
              "      <th>65 &amp; above yrs NSP(NewAll207+) Male</th>\n",
              "      <th>65 &amp; above yrs NSP(NewAll207+) Female</th>\n",
              "      <th>SumOfHIV_Tested</th>\n",
              "      <th>SumOfHIV_infected</th>\n",
              "    </tr>\n",
              "  </thead>\n",
              "  <tbody>\n",
              "    <tr>\n",
              "      <th>0</th>\n",
              "      <td>Andhra Pradesh</td>\n",
              "      <td>ANANTAPUR</td>\n",
              "      <td>1</td>\n",
              "      <td>2008</td>\n",
              "      <td>529</td>\n",
              "      <td>181</td>\n",
              "      <td>710</td>\n",
              "      <td>82</td>\n",
              "      <td>12</td>\n",
              "      <td>319</td>\n",
              "      <td>132</td>\n",
              "      <td>105</td>\n",
              "      <td>73</td>\n",
              "      <td>2.0</td>\n",
              "      <td>3.0</td>\n",
              "      <td>64.0</td>\n",
              "      <td>46.0</td>\n",
              "      <td>89.0</td>\n",
              "      <td>49.0</td>\n",
              "      <td>98.0</td>\n",
              "      <td>32.0</td>\n",
              "      <td>118.0</td>\n",
              "      <td>30.0</td>\n",
              "      <td>105.0</td>\n",
              "      <td>16.0</td>\n",
              "      <td>53.0</td>\n",
              "      <td>5.0</td>\n",
              "      <td>199.0</td>\n",
              "      <td>50.0</td>\n",
              "    </tr>\n",
              "    <tr>\n",
              "      <th>1</th>\n",
              "      <td>Andhra Pradesh</td>\n",
              "      <td>ANANTAPUR</td>\n",
              "      <td>2</td>\n",
              "      <td>2008</td>\n",
              "      <td>524</td>\n",
              "      <td>204</td>\n",
              "      <td>728</td>\n",
              "      <td>70</td>\n",
              "      <td>21</td>\n",
              "      <td>201</td>\n",
              "      <td>129</td>\n",
              "      <td>89</td>\n",
              "      <td>84</td>\n",
              "      <td>2.0</td>\n",
              "      <td>9.0</td>\n",
              "      <td>63.0</td>\n",
              "      <td>46.0</td>\n",
              "      <td>79.0</td>\n",
              "      <td>49.0</td>\n",
              "      <td>100.0</td>\n",
              "      <td>45.0</td>\n",
              "      <td>118.0</td>\n",
              "      <td>24.0</td>\n",
              "      <td>104.0</td>\n",
              "      <td>23.0</td>\n",
              "      <td>58.0</td>\n",
              "      <td>8.0</td>\n",
              "      <td>170.0</td>\n",
              "      <td>68.0</td>\n",
              "    </tr>\n",
              "    <tr>\n",
              "      <th>2</th>\n",
              "      <td>Andhra Pradesh</td>\n",
              "      <td>ANANTAPUR</td>\n",
              "      <td>3</td>\n",
              "      <td>2008</td>\n",
              "      <td>502</td>\n",
              "      <td>162</td>\n",
              "      <td>664</td>\n",
              "      <td>75</td>\n",
              "      <td>15</td>\n",
              "      <td>179</td>\n",
              "      <td>112</td>\n",
              "      <td>91</td>\n",
              "      <td>73</td>\n",
              "      <td>1.0</td>\n",
              "      <td>4.0</td>\n",
              "      <td>63.0</td>\n",
              "      <td>20.0</td>\n",
              "      <td>76.0</td>\n",
              "      <td>50.0</td>\n",
              "      <td>107.0</td>\n",
              "      <td>35.0</td>\n",
              "      <td>108.0</td>\n",
              "      <td>28.0</td>\n",
              "      <td>102.0</td>\n",
              "      <td>18.0</td>\n",
              "      <td>45.0</td>\n",
              "      <td>7.0</td>\n",
              "      <td>263.0</td>\n",
              "      <td>73.0</td>\n",
              "    </tr>\n",
              "    <tr>\n",
              "      <th>3</th>\n",
              "      <td>Andhra Pradesh</td>\n",
              "      <td>ANANTAPUR</td>\n",
              "      <td>4</td>\n",
              "      <td>2008</td>\n",
              "      <td>481</td>\n",
              "      <td>194</td>\n",
              "      <td>675</td>\n",
              "      <td>55</td>\n",
              "      <td>22</td>\n",
              "      <td>193</td>\n",
              "      <td>113</td>\n",
              "      <td>90</td>\n",
              "      <td>62</td>\n",
              "      <td>0.0</td>\n",
              "      <td>3.0</td>\n",
              "      <td>57.0</td>\n",
              "      <td>50.0</td>\n",
              "      <td>70.0</td>\n",
              "      <td>46.0</td>\n",
              "      <td>86.0</td>\n",
              "      <td>41.0</td>\n",
              "      <td>116.0</td>\n",
              "      <td>21.0</td>\n",
              "      <td>78.0</td>\n",
              "      <td>21.0</td>\n",
              "      <td>74.0</td>\n",
              "      <td>12.0</td>\n",
              "      <td>369.0</td>\n",
              "      <td>72.0</td>\n",
              "    </tr>\n",
              "    <tr>\n",
              "      <th>4</th>\n",
              "      <td>Andhra Pradesh</td>\n",
              "      <td>ANANTAPUR</td>\n",
              "      <td>1</td>\n",
              "      <td>2009</td>\n",
              "      <td>527</td>\n",
              "      <td>195</td>\n",
              "      <td>722</td>\n",
              "      <td>73</td>\n",
              "      <td>14</td>\n",
              "      <td>249</td>\n",
              "      <td>127</td>\n",
              "      <td>94</td>\n",
              "      <td>73</td>\n",
              "      <td>4.0</td>\n",
              "      <td>6.0</td>\n",
              "      <td>50.0</td>\n",
              "      <td>42.0</td>\n",
              "      <td>104.0</td>\n",
              "      <td>51.0</td>\n",
              "      <td>94.0</td>\n",
              "      <td>32.0</td>\n",
              "      <td>109.0</td>\n",
              "      <td>34.0</td>\n",
              "      <td>102.0</td>\n",
              "      <td>25.0</td>\n",
              "      <td>64.0</td>\n",
              "      <td>5.0</td>\n",
              "      <td>605.0</td>\n",
              "      <td>109.0</td>\n",
              "    </tr>\n",
              "  </tbody>\n",
              "</table>\n",
              "</div>"
            ],
            "text/plain": [
              "            STATE   DISTRICT  ...  SumOfHIV_Tested  SumOfHIV_infected\n",
              "0  Andhra Pradesh  ANANTAPUR  ...            199.0               50.0\n",
              "1  Andhra Pradesh  ANANTAPUR  ...            170.0               68.0\n",
              "2  Andhra Pradesh  ANANTAPUR  ...            263.0               73.0\n",
              "3  Andhra Pradesh  ANANTAPUR  ...            369.0               72.0\n",
              "4  Andhra Pradesh  ANANTAPUR  ...            605.0              109.0\n",
              "\n",
              "[5 rows x 29 columns]"
            ]
          },
          "metadata": {
            "tags": []
          },
          "execution_count": 5
        }
      ]
    },
    {
      "cell_type": "code",
      "metadata": {
        "id": "6TshZ3UlxrQ1"
      },
      "source": [
        "raw_seq = df['NSP Total/ NewMicConf Total']"
      ],
      "execution_count": null,
      "outputs": []
    },
    {
      "cell_type": "code",
      "metadata": {
        "id": "7Vs3nRLrxz0Q"
      },
      "source": [
        "n_steps = 8"
      ],
      "execution_count": null,
      "outputs": []
    },
    {
      "cell_type": "code",
      "metadata": {
        "id": "bCIAUaa7x9sm"
      },
      "source": [
        "X, y = split_sequence(raw_seq, n_steps)"
      ],
      "execution_count": null,
      "outputs": []
    },
    {
      "cell_type": "code",
      "metadata": {
        "id": "ciG2UeeFx_gY"
      },
      "source": [
        "n_features = 1"
      ],
      "execution_count": null,
      "outputs": []
    },
    {
      "cell_type": "code",
      "metadata": {
        "id": "Kyc955AiyBd2"
      },
      "source": [
        "X = X.reshape((X.shape[0], X.shape[1], n_features))"
      ],
      "execution_count": null,
      "outputs": []
    },
    {
      "cell_type": "code",
      "metadata": {
        "id": "jEykW-nsyD8c"
      },
      "source": [
        "model = Sequential()\n",
        "model.add(Conv1D(filters=64, kernel_size=2, activation='relu', input_shape=(n_steps, n_features)))\n",
        "model.add(MaxPooling1D(pool_size=2))\n",
        "model.add(Flatten())\n",
        "model.add(Dense(50, activation='relu'))\n",
        "model.add(Dense(1))\n",
        "model.compile(optimizer='adam', loss='mse')"
      ],
      "execution_count": null,
      "outputs": []
    },
    {
      "cell_type": "code",
      "metadata": {
        "id": "9tWzf0RWyF6_",
        "colab": {
          "base_uri": "https://localhost:8080/"
        },
        "outputId": "25ef7372-120a-4b4a-b1eb-91f773f14960"
      },
      "source": [
        "model.fit(X, y, epochs=1000, verbose=0)"
      ],
      "execution_count": null,
      "outputs": [
        {
          "output_type": "execute_result",
          "data": {
            "text/plain": [
              "<tensorflow.python.keras.callbacks.History at 0x7faf9fcfbfd0>"
            ]
          },
          "metadata": {
            "tags": []
          },
          "execution_count": 13
        }
      ]
    },
    {
      "cell_type": "code",
      "metadata": {
        "id": "7_Tpz-7ZyITD"
      },
      "source": [
        "resArray = list(X[-1])"
      ],
      "execution_count": null,
      "outputs": []
    },
    {
      "cell_type": "code",
      "metadata": {
        "id": "WYO9ZOviyMai"
      },
      "source": [
        "for i in range(0 , 24):\n",
        "  abc = resArray[i:i+8]\n",
        "  x_input = array(abc).astype('float32')\n",
        "  x_input = x_input.reshape((1, n_steps, n_features))\n",
        "  resArray.append(model.predict(x_input, verbose=0))\n"
      ],
      "execution_count": null,
      "outputs": []
    },
    {
      "cell_type": "code",
      "metadata": {
        "id": "pzayQibPyPBg"
      },
      "source": [
        "range1 = pd.date_range(start='1/1/2008', periods=44, freq='Q')"
      ],
      "execution_count": null,
      "outputs": []
    },
    {
      "cell_type": "code",
      "metadata": {
        "id": "62j9TJZvyS3R"
      },
      "source": [
        "range2 = pd.date_range(start='1/1/2019', periods=24, freq='Q')"
      ],
      "execution_count": null,
      "outputs": []
    },
    {
      "cell_type": "code",
      "metadata": {
        "id": "lExA-2NnyUoT"
      },
      "source": [
        "output = array(resArray[8:]).flatten()"
      ],
      "execution_count": null,
      "outputs": []
    },
    {
      "cell_type": "code",
      "metadata": {
        "id": "hVwNrzhQybF8"
      },
      "source": [
        "import matplotlib.pyplot as plt"
      ],
      "execution_count": null,
      "outputs": []
    },
    {
      "cell_type": "code",
      "metadata": {
        "id": "cceMIIxMyf0u"
      },
      "source": [
        "plt.plot(range1 , raw_seq)\n",
        "plt.plot(range2 , output , 'r')"
      ],
      "execution_count": null,
      "outputs": []
    },
    {
      "cell_type": "code",
      "metadata": {
        "id": "X7WROuzeyiFA"
      },
      "source": [
        "result = pd.DataFrame(output , columns = ['NSP Total'])"
      ],
      "execution_count": null,
      "outputs": []
    },
    {
      "cell_type": "code",
      "metadata": {
        "id": "-v1twf--y4Th"
      },
      "source": [
        "result['Year'] = range2"
      ],
      "execution_count": null,
      "outputs": []
    },
    {
      "cell_type": "code",
      "metadata": {
        "id": "-xxnUa86zPjs"
      },
      "source": [
        "raw_seq2 = df['Relapse Male'] + df['Relapse Female']"
      ],
      "execution_count": null,
      "outputs": []
    },
    {
      "cell_type": "code",
      "metadata": {
        "id": "jsmRIbRS0vgU"
      },
      "source": [
        "X2, y2 = split_sequence(raw_seq2, n_steps)"
      ],
      "execution_count": null,
      "outputs": []
    },
    {
      "cell_type": "code",
      "metadata": {
        "id": "KZMvJegs1LTo"
      },
      "source": [
        "X2 = X2.reshape((X2.shape[0], X2.shape[1], n_features))"
      ],
      "execution_count": null,
      "outputs": []
    },
    {
      "cell_type": "code",
      "metadata": {
        "id": "K3tSV8lw06LQ",
        "colab": {
          "base_uri": "https://localhost:8080/"
        },
        "outputId": "576c66e5-0c7f-4b6c-f885-fdc45709f8c0"
      },
      "source": [
        "model.fit(X2, y2, epochs=1000, verbose=0)"
      ],
      "execution_count": null,
      "outputs": [
        {
          "output_type": "execute_result",
          "data": {
            "text/plain": [
              "<tensorflow.python.keras.callbacks.History at 0x7faf9c29b978>"
            ]
          },
          "metadata": {
            "tags": []
          },
          "execution_count": 35
        }
      ]
    },
    {
      "cell_type": "code",
      "metadata": {
        "id": "CbmiZZNx1Bbo"
      },
      "source": [
        "resArray2 = list(X2[-1])"
      ],
      "execution_count": null,
      "outputs": []
    },
    {
      "cell_type": "code",
      "metadata": {
        "id": "kQ-0F_Zi1VJD"
      },
      "source": [
        "for i in range(0 , 24):\n",
        "  abc = resArray2[i:i+8]\n",
        "  x_input = array(abc).astype('float32')\n",
        "  x_input = x_input.reshape((1, n_steps, n_features))\n",
        "  resArray2.append(model.predict(x_input, verbose=0))\n"
      ],
      "execution_count": null,
      "outputs": []
    },
    {
      "cell_type": "code",
      "metadata": {
        "id": "LiESxlil1gs1"
      },
      "source": [
        "output = array(resArray2[8:]).flatten()"
      ],
      "execution_count": null,
      "outputs": []
    },
    {
      "cell_type": "code",
      "metadata": {
        "id": "L2T-jEK91kip"
      },
      "source": [
        "result['Relapse Total'] = output"
      ],
      "execution_count": null,
      "outputs": []
    },
    {
      "cell_type": "code",
      "metadata": {
        "id": "JO9qZa2c1sI6"
      },
      "source": [
        "raw_seq3 = df['NSN Male/NewClinDiag Male'] + df['NSN Female/NewClinDiag Female']"
      ],
      "execution_count": null,
      "outputs": []
    },
    {
      "cell_type": "code",
      "metadata": {
        "id": "QlS4Fkvg1-_J"
      },
      "source": [
        "X3, y3 = split_sequence(raw_seq3, n_steps)"
      ],
      "execution_count": null,
      "outputs": []
    },
    {
      "cell_type": "code",
      "metadata": {
        "id": "mioGbv4T2EM0"
      },
      "source": [
        "X3 = X3.reshape((X3.shape[0], X3.shape[1], n_features))"
      ],
      "execution_count": null,
      "outputs": []
    },
    {
      "cell_type": "code",
      "metadata": {
        "id": "6gb8ktVJ2L0o",
        "colab": {
          "base_uri": "https://localhost:8080/"
        },
        "outputId": "90c7065b-229e-43b7-f9f9-6a94d7cbcd8a"
      },
      "source": [
        "model.fit(X3, y3, epochs=1000, verbose=0)"
      ],
      "execution_count": null,
      "outputs": [
        {
          "output_type": "execute_result",
          "data": {
            "text/plain": [
              "<tensorflow.python.keras.callbacks.History at 0x7faf9b1d0f98>"
            ]
          },
          "metadata": {
            "tags": []
          },
          "execution_count": 47
        }
      ]
    },
    {
      "cell_type": "code",
      "metadata": {
        "id": "lJQODskp2Q1r"
      },
      "source": [
        "resArray3 = list(X3[-1])"
      ],
      "execution_count": null,
      "outputs": []
    },
    {
      "cell_type": "code",
      "metadata": {
        "id": "nISSjzQ72ZLB"
      },
      "source": [
        "for i in range(0 , 24):\n",
        "  abc = resArray3[i:i+8]\n",
        "  x_input = array(abc).astype('float32')\n",
        "  x_input = x_input.reshape((1, n_steps, n_features))\n",
        "  resArray3.append(model.predict(x_input, verbose=0))\n"
      ],
      "execution_count": null,
      "outputs": []
    },
    {
      "cell_type": "code",
      "metadata": {
        "id": "UrhrP_ss2j6g"
      },
      "source": [
        "output = array(resArray3[8:]).flatten()"
      ],
      "execution_count": null,
      "outputs": []
    },
    {
      "cell_type": "code",
      "metadata": {
        "id": "wSoMB8262q7p"
      },
      "source": [
        "result['NSN Total'] = output"
      ],
      "execution_count": null,
      "outputs": []
    },
    {
      "cell_type": "code",
      "metadata": {
        "id": "0UPhoi382wD9"
      },
      "source": [
        "result['State'] = 'Andhra Pradesh'"
      ],
      "execution_count": null,
      "outputs": []
    },
    {
      "cell_type": "code",
      "metadata": {
        "id": "9IXRVoUX2xRy"
      },
      "source": [
        "result['District'] = 'Anantapur'"
      ],
      "execution_count": null,
      "outputs": []
    },
    {
      "cell_type": "code",
      "metadata": {
        "id": "5C_JnkoC2-z9",
        "colab": {
          "base_uri": "https://localhost:8080/",
          "height": 758
        },
        "outputId": "dfa0cc5b-6a23-47ea-f216-4c06a5e27e23"
      },
      "source": [
        "result"
      ],
      "execution_count": null,
      "outputs": [
        {
          "output_type": "execute_result",
          "data": {
            "text/html": [
              "<div>\n",
              "<style scoped>\n",
              "    .dataframe tbody tr th:only-of-type {\n",
              "        vertical-align: middle;\n",
              "    }\n",
              "\n",
              "    .dataframe tbody tr th {\n",
              "        vertical-align: top;\n",
              "    }\n",
              "\n",
              "    .dataframe thead th {\n",
              "        text-align: right;\n",
              "    }\n",
              "</style>\n",
              "<table border=\"1\" class=\"dataframe\">\n",
              "  <thead>\n",
              "    <tr style=\"text-align: right;\">\n",
              "      <th></th>\n",
              "      <th>NSP Total</th>\n",
              "      <th>Year</th>\n",
              "      <th>Relapse Total</th>\n",
              "      <th>NSN Total</th>\n",
              "      <th>State</th>\n",
              "      <th>District</th>\n",
              "    </tr>\n",
              "  </thead>\n",
              "  <tbody>\n",
              "    <tr>\n",
              "      <th>0</th>\n",
              "      <td>717.975586</td>\n",
              "      <td>2019-03-31</td>\n",
              "      <td>51.212509</td>\n",
              "      <td>222.665756</td>\n",
              "      <td>Andhra Pradesh</td>\n",
              "      <td>Anantapur</td>\n",
              "    </tr>\n",
              "    <tr>\n",
              "      <th>1</th>\n",
              "      <td>769.906433</td>\n",
              "      <td>2019-06-30</td>\n",
              "      <td>53.407024</td>\n",
              "      <td>231.116425</td>\n",
              "      <td>Andhra Pradesh</td>\n",
              "      <td>Anantapur</td>\n",
              "    </tr>\n",
              "    <tr>\n",
              "      <th>2</th>\n",
              "      <td>662.807373</td>\n",
              "      <td>2019-09-30</td>\n",
              "      <td>44.404057</td>\n",
              "      <td>228.770691</td>\n",
              "      <td>Andhra Pradesh</td>\n",
              "      <td>Anantapur</td>\n",
              "    </tr>\n",
              "    <tr>\n",
              "      <th>3</th>\n",
              "      <td>561.690735</td>\n",
              "      <td>2019-12-31</td>\n",
              "      <td>40.368797</td>\n",
              "      <td>331.477448</td>\n",
              "      <td>Andhra Pradesh</td>\n",
              "      <td>Anantapur</td>\n",
              "    </tr>\n",
              "    <tr>\n",
              "      <th>4</th>\n",
              "      <td>697.235168</td>\n",
              "      <td>2020-03-31</td>\n",
              "      <td>47.737610</td>\n",
              "      <td>260.660431</td>\n",
              "      <td>Andhra Pradesh</td>\n",
              "      <td>Anantapur</td>\n",
              "    </tr>\n",
              "    <tr>\n",
              "      <th>5</th>\n",
              "      <td>727.795166</td>\n",
              "      <td>2020-06-30</td>\n",
              "      <td>42.549442</td>\n",
              "      <td>305.552338</td>\n",
              "      <td>Andhra Pradesh</td>\n",
              "      <td>Anantapur</td>\n",
              "    </tr>\n",
              "    <tr>\n",
              "      <th>6</th>\n",
              "      <td>794.640808</td>\n",
              "      <td>2020-09-30</td>\n",
              "      <td>41.691280</td>\n",
              "      <td>296.155029</td>\n",
              "      <td>Andhra Pradesh</td>\n",
              "      <td>Anantapur</td>\n",
              "    </tr>\n",
              "    <tr>\n",
              "      <th>7</th>\n",
              "      <td>649.653870</td>\n",
              "      <td>2020-12-31</td>\n",
              "      <td>38.951332</td>\n",
              "      <td>210.888855</td>\n",
              "      <td>Andhra Pradesh</td>\n",
              "      <td>Anantapur</td>\n",
              "    </tr>\n",
              "    <tr>\n",
              "      <th>8</th>\n",
              "      <td>666.399780</td>\n",
              "      <td>2021-03-31</td>\n",
              "      <td>41.525036</td>\n",
              "      <td>252.662216</td>\n",
              "      <td>Andhra Pradesh</td>\n",
              "      <td>Anantapur</td>\n",
              "    </tr>\n",
              "    <tr>\n",
              "      <th>9</th>\n",
              "      <td>704.539124</td>\n",
              "      <td>2021-06-30</td>\n",
              "      <td>37.621136</td>\n",
              "      <td>223.972961</td>\n",
              "      <td>Andhra Pradesh</td>\n",
              "      <td>Anantapur</td>\n",
              "    </tr>\n",
              "    <tr>\n",
              "      <th>10</th>\n",
              "      <td>731.209961</td>\n",
              "      <td>2021-09-30</td>\n",
              "      <td>33.491161</td>\n",
              "      <td>261.272644</td>\n",
              "      <td>Andhra Pradesh</td>\n",
              "      <td>Anantapur</td>\n",
              "    </tr>\n",
              "    <tr>\n",
              "      <th>11</th>\n",
              "      <td>664.444702</td>\n",
              "      <td>2021-12-31</td>\n",
              "      <td>33.207790</td>\n",
              "      <td>288.003998</td>\n",
              "      <td>Andhra Pradesh</td>\n",
              "      <td>Anantapur</td>\n",
              "    </tr>\n",
              "    <tr>\n",
              "      <th>12</th>\n",
              "      <td>651.278442</td>\n",
              "      <td>2022-03-31</td>\n",
              "      <td>34.029644</td>\n",
              "      <td>226.445755</td>\n",
              "      <td>Andhra Pradesh</td>\n",
              "      <td>Anantapur</td>\n",
              "    </tr>\n",
              "    <tr>\n",
              "      <th>13</th>\n",
              "      <td>705.311096</td>\n",
              "      <td>2022-06-30</td>\n",
              "      <td>32.236443</td>\n",
              "      <td>322.898163</td>\n",
              "      <td>Andhra Pradesh</td>\n",
              "      <td>Anantapur</td>\n",
              "    </tr>\n",
              "    <tr>\n",
              "      <th>14</th>\n",
              "      <td>691.129639</td>\n",
              "      <td>2022-09-30</td>\n",
              "      <td>27.494923</td>\n",
              "      <td>270.612488</td>\n",
              "      <td>Andhra Pradesh</td>\n",
              "      <td>Anantapur</td>\n",
              "    </tr>\n",
              "    <tr>\n",
              "      <th>15</th>\n",
              "      <td>613.325684</td>\n",
              "      <td>2022-12-31</td>\n",
              "      <td>28.108004</td>\n",
              "      <td>245.322922</td>\n",
              "      <td>Andhra Pradesh</td>\n",
              "      <td>Anantapur</td>\n",
              "    </tr>\n",
              "    <tr>\n",
              "      <th>16</th>\n",
              "      <td>613.888367</td>\n",
              "      <td>2023-03-31</td>\n",
              "      <td>28.284830</td>\n",
              "      <td>257.094666</td>\n",
              "      <td>Andhra Pradesh</td>\n",
              "      <td>Anantapur</td>\n",
              "    </tr>\n",
              "    <tr>\n",
              "      <th>17</th>\n",
              "      <td>657.978638</td>\n",
              "      <td>2023-06-30</td>\n",
              "      <td>26.260681</td>\n",
              "      <td>198.011230</td>\n",
              "      <td>Andhra Pradesh</td>\n",
              "      <td>Anantapur</td>\n",
              "    </tr>\n",
              "    <tr>\n",
              "      <th>18</th>\n",
              "      <td>653.909729</td>\n",
              "      <td>2023-09-30</td>\n",
              "      <td>23.720217</td>\n",
              "      <td>275.449799</td>\n",
              "      <td>Andhra Pradesh</td>\n",
              "      <td>Anantapur</td>\n",
              "    </tr>\n",
              "    <tr>\n",
              "      <th>19</th>\n",
              "      <td>607.019470</td>\n",
              "      <td>2023-12-31</td>\n",
              "      <td>24.129452</td>\n",
              "      <td>279.171631</td>\n",
              "      <td>Andhra Pradesh</td>\n",
              "      <td>Anantapur</td>\n",
              "    </tr>\n",
              "    <tr>\n",
              "      <th>20</th>\n",
              "      <td>608.008118</td>\n",
              "      <td>2024-03-31</td>\n",
              "      <td>23.553452</td>\n",
              "      <td>260.233704</td>\n",
              "      <td>Andhra Pradesh</td>\n",
              "      <td>Anantapur</td>\n",
              "    </tr>\n",
              "    <tr>\n",
              "      <th>21</th>\n",
              "      <td>603.772583</td>\n",
              "      <td>2024-06-30</td>\n",
              "      <td>21.619570</td>\n",
              "      <td>282.749176</td>\n",
              "      <td>Andhra Pradesh</td>\n",
              "      <td>Anantapur</td>\n",
              "    </tr>\n",
              "    <tr>\n",
              "      <th>22</th>\n",
              "      <td>605.665833</td>\n",
              "      <td>2024-09-30</td>\n",
              "      <td>19.914495</td>\n",
              "      <td>246.700882</td>\n",
              "      <td>Andhra Pradesh</td>\n",
              "      <td>Anantapur</td>\n",
              "    </tr>\n",
              "    <tr>\n",
              "      <th>23</th>\n",
              "      <td>555.612427</td>\n",
              "      <td>2024-12-31</td>\n",
              "      <td>20.578651</td>\n",
              "      <td>282.924561</td>\n",
              "      <td>Andhra Pradesh</td>\n",
              "      <td>Anantapur</td>\n",
              "    </tr>\n",
              "  </tbody>\n",
              "</table>\n",
              "</div>"
            ],
            "text/plain": [
              "     NSP Total       Year  Relapse Total   NSN Total           State   District\n",
              "0   717.975586 2019-03-31      51.212509  222.665756  Andhra Pradesh  Anantapur\n",
              "1   769.906433 2019-06-30      53.407024  231.116425  Andhra Pradesh  Anantapur\n",
              "2   662.807373 2019-09-30      44.404057  228.770691  Andhra Pradesh  Anantapur\n",
              "3   561.690735 2019-12-31      40.368797  331.477448  Andhra Pradesh  Anantapur\n",
              "4   697.235168 2020-03-31      47.737610  260.660431  Andhra Pradesh  Anantapur\n",
              "5   727.795166 2020-06-30      42.549442  305.552338  Andhra Pradesh  Anantapur\n",
              "6   794.640808 2020-09-30      41.691280  296.155029  Andhra Pradesh  Anantapur\n",
              "7   649.653870 2020-12-31      38.951332  210.888855  Andhra Pradesh  Anantapur\n",
              "8   666.399780 2021-03-31      41.525036  252.662216  Andhra Pradesh  Anantapur\n",
              "9   704.539124 2021-06-30      37.621136  223.972961  Andhra Pradesh  Anantapur\n",
              "10  731.209961 2021-09-30      33.491161  261.272644  Andhra Pradesh  Anantapur\n",
              "11  664.444702 2021-12-31      33.207790  288.003998  Andhra Pradesh  Anantapur\n",
              "12  651.278442 2022-03-31      34.029644  226.445755  Andhra Pradesh  Anantapur\n",
              "13  705.311096 2022-06-30      32.236443  322.898163  Andhra Pradesh  Anantapur\n",
              "14  691.129639 2022-09-30      27.494923  270.612488  Andhra Pradesh  Anantapur\n",
              "15  613.325684 2022-12-31      28.108004  245.322922  Andhra Pradesh  Anantapur\n",
              "16  613.888367 2023-03-31      28.284830  257.094666  Andhra Pradesh  Anantapur\n",
              "17  657.978638 2023-06-30      26.260681  198.011230  Andhra Pradesh  Anantapur\n",
              "18  653.909729 2023-09-30      23.720217  275.449799  Andhra Pradesh  Anantapur\n",
              "19  607.019470 2023-12-31      24.129452  279.171631  Andhra Pradesh  Anantapur\n",
              "20  608.008118 2024-03-31      23.553452  260.233704  Andhra Pradesh  Anantapur\n",
              "21  603.772583 2024-06-30      21.619570  282.749176  Andhra Pradesh  Anantapur\n",
              "22  605.665833 2024-09-30      19.914495  246.700882  Andhra Pradesh  Anantapur\n",
              "23  555.612427 2024-12-31      20.578651  282.924561  Andhra Pradesh  Anantapur"
            ]
          },
          "metadata": {
            "tags": []
          },
          "execution_count": 58
        }
      ]
    },
    {
      "cell_type": "code",
      "metadata": {
        "id": "9A05xc5d4QSE"
      },
      "source": [
        ""
      ],
      "execution_count": null,
      "outputs": []
    }
  ]
}