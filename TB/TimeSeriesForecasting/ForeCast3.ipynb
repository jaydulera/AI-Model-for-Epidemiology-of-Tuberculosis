{
  "nbformat": 4,
  "nbformat_minor": 0,
  "metadata": {
    "colab": {
      "name": "Copy of Copy of Forecast.ipynb",
      "provenance": []
    },
    "kernelspec": {
      "name": "python3",
      "display_name": "Python 3"
    }
  },
  "cells": [
    {
      "cell_type": "code",
      "metadata": {
        "id": "5Nv8pNRwxQvo"
      },
      "source": [
        "import pandas as pd"
      ],
      "execution_count": null,
      "outputs": []
    },
    {
      "cell_type": "code",
      "metadata": {
        "id": "RaBVwkhcxSXY"
      },
      "source": [
        "from numpy import array\n",
        "from keras.models import Sequential\n",
        "from keras.layers import Dense\n",
        "from keras.layers import Flatten\n",
        "from keras.layers.convolutional import Conv1D\n",
        "from keras.layers.convolutional import MaxPooling1D"
      ],
      "execution_count": null,
      "outputs": []
    },
    {
      "cell_type": "code",
      "metadata": {
        "id": "inQor4dfxVUE"
      },
      "source": [
        "def split_sequence(sequence, n_steps):\n",
        "\tX, y = list(), list()\n",
        "\tfor i in range(len(sequence)):\n",
        "\t\t# find the end of this pattern\n",
        "\t\tend_ix = i + n_steps\n",
        "\t\t# check if we are beyond the sequence\n",
        "\t\tif end_ix > len(sequence)-1:\n",
        "\t\t\tbreak\n",
        "\t\t# gather input and output parts of the pattern\n",
        "\t\tseq_x, seq_y = sequence[i:end_ix], sequence[end_ix]\n",
        "\t\tX.append(seq_x)\n",
        "\t\ty.append(seq_y)\n",
        "\treturn array(X), array(y)"
      ],
      "execution_count": null,
      "outputs": []
    },
    {
      "cell_type": "code",
      "metadata": {
        "id": "HHDcSjVHxaj0"
      },
      "source": [
        "df = pd.read_excel(\"Ujjain.xlsx\")"
      ],
      "execution_count": null,
      "outputs": []
    },
    {
      "cell_type": "code",
      "metadata": {
        "id": "XWZ2DOSYxp_F",
        "colab": {
          "base_uri": "https://localhost:8080/",
          "height": 266
        },
        "outputId": "db3e61a7-2613-453e-8e1d-6e6c4896fcdb"
      },
      "source": [
        "df.head()"
      ],
      "execution_count": null,
      "outputs": [
        {
          "output_type": "execute_result",
          "data": {
            "text/html": [
              "<div>\n",
              "<style scoped>\n",
              "    .dataframe tbody tr th:only-of-type {\n",
              "        vertical-align: middle;\n",
              "    }\n",
              "\n",
              "    .dataframe tbody tr th {\n",
              "        vertical-align: top;\n",
              "    }\n",
              "\n",
              "    .dataframe thead th {\n",
              "        text-align: right;\n",
              "    }\n",
              "</style>\n",
              "<table border=\"1\" class=\"dataframe\">\n",
              "  <thead>\n",
              "    <tr style=\"text-align: right;\">\n",
              "      <th></th>\n",
              "      <th>Unnamed: 0</th>\n",
              "      <th>State_x</th>\n",
              "      <th>District</th>\n",
              "      <th>year</th>\n",
              "      <th>quarter</th>\n",
              "      <th>rainfall</th>\n",
              "      <th>relative_humidity</th>\n",
              "      <th>average_temperature</th>\n",
              "      <th>NSP Male/ NewMicConfMale</th>\n",
              "      <th>NSP Female/ NewMicConf Female</th>\n",
              "      <th>NSP Total/ NewMicConf Total</th>\n",
              "      <th>Relapse Male</th>\n",
              "      <th>Relapse Female</th>\n",
              "      <th>NSN Male/NewClinDiag Male</th>\n",
              "      <th>NSN Female/NewClinDiag Female</th>\n",
              "      <th>NEP Male</th>\n",
              "      <th>NEP Female</th>\n",
              "      <th>0-14 yrs NSP(NewAll207+) Male</th>\n",
              "      <th>0-14 yrs NSP(NewAll207+) Female</th>\n",
              "      <th>15-24 yrs NSP(NewAll207+) Male</th>\n",
              "      <th>15-24 yrs NSP(NewAll207+) Female</th>\n",
              "      <th>25-34 yrs NSP(NewAll207+) Male</th>\n",
              "      <th>25-34 yrs NSP(NewAll207+) Female</th>\n",
              "      <th>35-44 yrs NSP(NewAll207+) Male</th>\n",
              "      <th>35-44 yrs NSP(NewAll207+) Female</th>\n",
              "      <th>45-54 yrs NSP(NewAll207+) Male</th>\n",
              "      <th>45-54 yrs NSP(NewAll207+) Female</th>\n",
              "      <th>55-64 yrs NSP(NewAll207+) Male</th>\n",
              "      <th>55-64 yrs NSP(NewAll207+) Female</th>\n",
              "      <th>65 &amp; above yrs NSP(NewAll207+) Male</th>\n",
              "      <th>65 &amp; above yrs NSP(NewAll207+) Female</th>\n",
              "      <th>SumOfHIV_Tested</th>\n",
              "      <th>SumOfHIV_infected</th>\n",
              "    </tr>\n",
              "  </thead>\n",
              "  <tbody>\n",
              "    <tr>\n",
              "      <th>0</th>\n",
              "      <td>0</td>\n",
              "      <td>MADHYAPRADESH</td>\n",
              "      <td>UJJAIN</td>\n",
              "      <td>2008</td>\n",
              "      <td>1</td>\n",
              "      <td>2.3</td>\n",
              "      <td>22.570452</td>\n",
              "      <td>20.850964</td>\n",
              "      <td>156</td>\n",
              "      <td>56</td>\n",
              "      <td>212</td>\n",
              "      <td>62</td>\n",
              "      <td>13</td>\n",
              "      <td>80</td>\n",
              "      <td>35</td>\n",
              "      <td>30</td>\n",
              "      <td>25</td>\n",
              "      <td>1</td>\n",
              "      <td>2</td>\n",
              "      <td>27</td>\n",
              "      <td>22</td>\n",
              "      <td>33</td>\n",
              "      <td>13</td>\n",
              "      <td>40</td>\n",
              "      <td>5</td>\n",
              "      <td>26</td>\n",
              "      <td>7</td>\n",
              "      <td>21</td>\n",
              "      <td>6</td>\n",
              "      <td>8</td>\n",
              "      <td>1</td>\n",
              "      <td>0</td>\n",
              "      <td>0</td>\n",
              "    </tr>\n",
              "    <tr>\n",
              "      <th>1</th>\n",
              "      <td>1</td>\n",
              "      <td>MADHYAPRADESH</td>\n",
              "      <td>UJJAIN</td>\n",
              "      <td>2008</td>\n",
              "      <td>2</td>\n",
              "      <td>129.5</td>\n",
              "      <td>39.599957</td>\n",
              "      <td>30.129498</td>\n",
              "      <td>159</td>\n",
              "      <td>75</td>\n",
              "      <td>234</td>\n",
              "      <td>61</td>\n",
              "      <td>14</td>\n",
              "      <td>100</td>\n",
              "      <td>63</td>\n",
              "      <td>48</td>\n",
              "      <td>33</td>\n",
              "      <td>1</td>\n",
              "      <td>3</td>\n",
              "      <td>25</td>\n",
              "      <td>19</td>\n",
              "      <td>34</td>\n",
              "      <td>30</td>\n",
              "      <td>37</td>\n",
              "      <td>12</td>\n",
              "      <td>40</td>\n",
              "      <td>9</td>\n",
              "      <td>17</td>\n",
              "      <td>0</td>\n",
              "      <td>5</td>\n",
              "      <td>2</td>\n",
              "      <td>0</td>\n",
              "      <td>0</td>\n",
              "    </tr>\n",
              "    <tr>\n",
              "      <th>2</th>\n",
              "      <td>2</td>\n",
              "      <td>MADHYAPRADESH</td>\n",
              "      <td>UJJAIN</td>\n",
              "      <td>2008</td>\n",
              "      <td>3</td>\n",
              "      <td>472.6</td>\n",
              "      <td>83.046366</td>\n",
              "      <td>26.207007</td>\n",
              "      <td>144</td>\n",
              "      <td>71</td>\n",
              "      <td>215</td>\n",
              "      <td>55</td>\n",
              "      <td>17</td>\n",
              "      <td>110</td>\n",
              "      <td>56</td>\n",
              "      <td>44</td>\n",
              "      <td>43</td>\n",
              "      <td>1</td>\n",
              "      <td>1</td>\n",
              "      <td>14</td>\n",
              "      <td>21</td>\n",
              "      <td>34</td>\n",
              "      <td>21</td>\n",
              "      <td>35</td>\n",
              "      <td>11</td>\n",
              "      <td>33</td>\n",
              "      <td>12</td>\n",
              "      <td>17</td>\n",
              "      <td>4</td>\n",
              "      <td>10</td>\n",
              "      <td>1</td>\n",
              "      <td>0</td>\n",
              "      <td>0</td>\n",
              "    </tr>\n",
              "    <tr>\n",
              "      <th>3</th>\n",
              "      <td>3</td>\n",
              "      <td>MADHYAPRADESH</td>\n",
              "      <td>UJJAIN</td>\n",
              "      <td>2008</td>\n",
              "      <td>4</td>\n",
              "      <td>19.8</td>\n",
              "      <td>44.097337</td>\n",
              "      <td>23.434229</td>\n",
              "      <td>115</td>\n",
              "      <td>67</td>\n",
              "      <td>182</td>\n",
              "      <td>39</td>\n",
              "      <td>9</td>\n",
              "      <td>104</td>\n",
              "      <td>52</td>\n",
              "      <td>31</td>\n",
              "      <td>33</td>\n",
              "      <td>0</td>\n",
              "      <td>3</td>\n",
              "      <td>16</td>\n",
              "      <td>17</td>\n",
              "      <td>27</td>\n",
              "      <td>23</td>\n",
              "      <td>27</td>\n",
              "      <td>11</td>\n",
              "      <td>24</td>\n",
              "      <td>10</td>\n",
              "      <td>10</td>\n",
              "      <td>0</td>\n",
              "      <td>11</td>\n",
              "      <td>3</td>\n",
              "      <td>0</td>\n",
              "      <td>0</td>\n",
              "    </tr>\n",
              "    <tr>\n",
              "      <th>4</th>\n",
              "      <td>4</td>\n",
              "      <td>MADHYAPRADESH</td>\n",
              "      <td>UJJAIN</td>\n",
              "      <td>2009</td>\n",
              "      <td>1</td>\n",
              "      <td>5.7</td>\n",
              "      <td>28.984723</td>\n",
              "      <td>23.201018</td>\n",
              "      <td>127</td>\n",
              "      <td>70</td>\n",
              "      <td>197</td>\n",
              "      <td>41</td>\n",
              "      <td>13</td>\n",
              "      <td>84</td>\n",
              "      <td>49</td>\n",
              "      <td>44</td>\n",
              "      <td>45</td>\n",
              "      <td>0</td>\n",
              "      <td>1</td>\n",
              "      <td>19</td>\n",
              "      <td>25</td>\n",
              "      <td>32</td>\n",
              "      <td>21</td>\n",
              "      <td>29</td>\n",
              "      <td>13</td>\n",
              "      <td>22</td>\n",
              "      <td>4</td>\n",
              "      <td>15</td>\n",
              "      <td>1</td>\n",
              "      <td>10</td>\n",
              "      <td>5</td>\n",
              "      <td>0</td>\n",
              "      <td>0</td>\n",
              "    </tr>\n",
              "  </tbody>\n",
              "</table>\n",
              "</div>"
            ],
            "text/plain": [
              "   Unnamed: 0        State_x  ... SumOfHIV_Tested  SumOfHIV_infected\n",
              "0           0  MADHYAPRADESH  ...               0                  0\n",
              "1           1  MADHYAPRADESH  ...               0                  0\n",
              "2           2  MADHYAPRADESH  ...               0                  0\n",
              "3           3  MADHYAPRADESH  ...               0                  0\n",
              "4           4  MADHYAPRADESH  ...               0                  0\n",
              "\n",
              "[5 rows x 33 columns]"
            ]
          },
          "metadata": {
            "tags": []
          },
          "execution_count": 638
        }
      ]
    },
    {
      "cell_type": "code",
      "metadata": {
        "id": "6TshZ3UlxrQ1"
      },
      "source": [
        "raw_seq = df['average_temperature']"
      ],
      "execution_count": null,
      "outputs": []
    },
    {
      "cell_type": "code",
      "metadata": {
        "id": "7Vs3nRLrxz0Q"
      },
      "source": [
        "n_steps = 8"
      ],
      "execution_count": null,
      "outputs": []
    },
    {
      "cell_type": "code",
      "metadata": {
        "id": "bCIAUaa7x9sm"
      },
      "source": [
        "X, y = split_sequence(raw_seq, n_steps)"
      ],
      "execution_count": null,
      "outputs": []
    },
    {
      "cell_type": "code",
      "metadata": {
        "id": "ciG2UeeFx_gY"
      },
      "source": [
        "n_features = 1"
      ],
      "execution_count": null,
      "outputs": []
    },
    {
      "cell_type": "code",
      "metadata": {
        "id": "Kyc955AiyBd2"
      },
      "source": [
        "X = X.reshape((X.shape[0], X.shape[1], n_features))"
      ],
      "execution_count": null,
      "outputs": []
    },
    {
      "cell_type": "code",
      "metadata": {
        "id": "jEykW-nsyD8c"
      },
      "source": [
        "model = Sequential()\n",
        "model.add(Conv1D(filters=64, kernel_size=2, activation='relu', input_shape=(n_steps, n_features)))\n",
        "model.add(MaxPooling1D(pool_size=2))\n",
        "model.add(Flatten())\n",
        "model.add(Dense(50, activation='relu'))\n",
        "model.add(Dense(1))\n",
        "model.compile(optimizer='adam', loss='mse')"
      ],
      "execution_count": null,
      "outputs": []
    },
    {
      "cell_type": "code",
      "metadata": {
        "id": "9tWzf0RWyF6_",
        "colab": {
          "base_uri": "https://localhost:8080/"
        },
        "outputId": "864ab25e-aad5-481d-a734-51e17f5505ad"
      },
      "source": [
        "model.fit(X, y, epochs=1000, verbose=0)"
      ],
      "execution_count": null,
      "outputs": [
        {
          "output_type": "execute_result",
          "data": {
            "text/plain": [
              "<tensorflow.python.keras.callbacks.History at 0x7f39672abba8>"
            ]
          },
          "metadata": {
            "tags": []
          },
          "execution_count": 677
        }
      ]
    },
    {
      "cell_type": "code",
      "metadata": {
        "id": "7_Tpz-7ZyITD"
      },
      "source": [
        "resArray = list(X[-1])"
      ],
      "execution_count": null,
      "outputs": []
    },
    {
      "cell_type": "code",
      "metadata": {
        "id": "WYO9ZOviyMai"
      },
      "source": [
        "for i in range(0 , 24):\n",
        "  abc = resArray[i:i+8]\n",
        "  x_input = array(abc).astype('float32')\n",
        "  x_input = x_input.reshape((1, n_steps, n_features))\n",
        "  resArray.append(model.predict(x_input, verbose=0))\n"
      ],
      "execution_count": null,
      "outputs": []
    },
    {
      "cell_type": "code",
      "metadata": {
        "id": "pzayQibPyPBg"
      },
      "source": [
        "range1 = pd.date_range(start='1/1/2008', periods=44, freq='Q')"
      ],
      "execution_count": null,
      "outputs": []
    },
    {
      "cell_type": "code",
      "metadata": {
        "id": "62j9TJZvyS3R"
      },
      "source": [
        "range2 = pd.date_range(start='1/1/2019', periods=24, freq='Q')"
      ],
      "execution_count": null,
      "outputs": []
    },
    {
      "cell_type": "code",
      "metadata": {
        "id": "lExA-2NnyUoT"
      },
      "source": [
        "output = array(resArray[8:]).flatten()"
      ],
      "execution_count": null,
      "outputs": []
    },
    {
      "cell_type": "code",
      "metadata": {
        "id": "hVwNrzhQybF8"
      },
      "source": [
        "import matplotlib.pyplot as plt"
      ],
      "execution_count": null,
      "outputs": []
    },
    {
      "cell_type": "code",
      "metadata": {
        "id": "cceMIIxMyf0u",
        "colab": {
          "base_uri": "https://localhost:8080/",
          "height": 284
        },
        "outputId": "ec99ec22-6782-4dbf-958c-de4669fb58b5"
      },
      "source": [
        "plt.plot(range1 , raw_seq)\n",
        "plt.plot(range2 , output , 'r')"
      ],
      "execution_count": null,
      "outputs": [
        {
          "output_type": "execute_result",
          "data": {
            "text/plain": [
              "[<matplotlib.lines.Line2D at 0x7f3965f289b0>]"
            ]
          },
          "metadata": {
            "tags": []
          },
          "execution_count": 681
        },
        {
          "output_type": "display_data",
          "data": {
            "image/png": "[encoded data removed]",
            "text/plain": [
              "<Figure size 432x288 with 1 Axes>"
            ]
          },
          "metadata": {
            "tags": [],
            "needs_background": "light"
          }
        }
      ]
    },
    {
      "cell_type": "code",
      "metadata": {
        "id": "X7WROuzeyiFA"
      },
      "source": [
        "result = pd.DataFrame(output , columns = ['NSP'])"
      ],
      "execution_count": null,
      "outputs": []
    },
    {
      "cell_type": "code",
      "metadata": {
        "id": "7EDTiZTydah9"
      },
      "source": [
        "result['Average Temperature'] = output"
      ],
      "execution_count": null,
      "outputs": []
    },
    {
      "cell_type": "code",
      "metadata": {
        "id": "-v1twf--y4Th"
      },
      "source": [
        "result['Year'] = range2"
      ],
      "execution_count": null,
      "outputs": []
    },
    {
      "cell_type": "code",
      "metadata": {
        "id": "-xxnUa86zPjs"
      },
      "source": [
        "raw_seq2 = df['Relapse Male'] + df['Relapse Female']"
      ],
      "execution_count": null,
      "outputs": []
    },
    {
      "cell_type": "code",
      "metadata": {
        "id": "jsmRIbRS0vgU"
      },
      "source": [
        "X2, y2 = split_sequence(raw_seq2, n_steps)"
      ],
      "execution_count": null,
      "outputs": []
    },
    {
      "cell_type": "code",
      "metadata": {
        "id": "KZMvJegs1LTo"
      },
      "source": [
        "X2 = X2.reshape((X2.shape[0], X2.shape[1], n_features))"
      ],
      "execution_count": null,
      "outputs": []
    },
    {
      "cell_type": "code",
      "metadata": {
        "id": "K3tSV8lw06LQ",
        "colab": {
          "base_uri": "https://localhost:8080/"
        },
        "outputId": "8129a46b-e9eb-49c3-8ad0-2aad6a8ede99"
      },
      "source": [
        "model.fit(X2, y2, epochs=1000, verbose=0)"
      ],
      "execution_count": null,
      "outputs": [
        {
          "output_type": "execute_result",
          "data": {
            "text/plain": [
              "<tensorflow.python.keras.callbacks.History at 0x7f3965f28588>"
            ]
          },
          "metadata": {
            "tags": []
          },
          "execution_count": 686
        }
      ]
    },
    {
      "cell_type": "code",
      "metadata": {
        "id": "CbmiZZNx1Bbo"
      },
      "source": [
        "resArray2 = list(X2[-1])"
      ],
      "execution_count": null,
      "outputs": []
    },
    {
      "cell_type": "code",
      "metadata": {
        "id": "kQ-0F_Zi1VJD"
      },
      "source": [
        "for i in range(0 , 24):\n",
        "  abc = resArray2[i:i+8]\n",
        "  x_input = array(abc).astype('float32')\n",
        "  x_input = x_input.reshape((1, n_steps, n_features))\n",
        "  resArray2.append(model.predict(x_input, verbose=0))\n"
      ],
      "execution_count": null,
      "outputs": []
    },
    {
      "cell_type": "code",
      "metadata": {
        "id": "LiESxlil1gs1"
      },
      "source": [
        "output = array(resArray2[8:]).flatten()"
      ],
      "execution_count": null,
      "outputs": []
    },
    {
      "cell_type": "code",
      "metadata": {
        "id": "HJ2xqIlGeoUo",
        "colab": {
          "base_uri": "https://localhost:8080/",
          "height": 282
        },
        "outputId": "7b4f61d5-021d-47d2-8119-628140dca51c"
      },
      "source": [
        "plt.plot(range1 , raw_seq2)\n",
        "plt.plot(range2 , output , 'r')"
      ],
      "execution_count": null,
      "outputs": [
        {
          "output_type": "execute_result",
          "data": {
            "text/plain": [
              "[<matplotlib.lines.Line2D at 0x7f39672c6390>]"
            ]
          },
          "metadata": {
            "tags": []
          },
          "execution_count": 690
        },
        {
          "output_type": "display_data",
          "data": {
            "image/png": "[encoded data removed]",
            "text/plain": [
              "<Figure size 432x288 with 1 Axes>"
            ]
          },
          "metadata": {
            "tags": [],
            "needs_background": "light"
          }
        }
      ]
    },
    {
      "cell_type": "code",
      "metadata": {
        "id": "L2T-jEK91kip"
      },
      "source": [
        "result['Relapse Total'] = output"
      ],
      "execution_count": null,
      "outputs": []
    },
    {
      "cell_type": "code",
      "metadata": {
        "id": "JO9qZa2c1sI6"
      },
      "source": [
        "raw_seq3 = df['NSN Male/NewClinDiag Male'] + df['NSN Female/NewClinDiag Female']"
      ],
      "execution_count": null,
      "outputs": []
    },
    {
      "cell_type": "code",
      "metadata": {
        "id": "QlS4Fkvg1-_J"
      },
      "source": [
        "X3, y3 = split_sequence(raw_seq3, n_steps)"
      ],
      "execution_count": null,
      "outputs": []
    },
    {
      "cell_type": "code",
      "metadata": {
        "id": "mioGbv4T2EM0"
      },
      "source": [
        "X3 = X3.reshape((X3.shape[0], X3.shape[1], n_features))"
      ],
      "execution_count": null,
      "outputs": []
    },
    {
      "cell_type": "code",
      "metadata": {
        "id": "6gb8ktVJ2L0o",
        "colab": {
          "base_uri": "https://localhost:8080/"
        },
        "outputId": "43ba1b89-2903-4238-a093-38120e87be2c"
      },
      "source": [
        "model.fit(X3, y3, epochs=1000, verbose=0)"
      ],
      "execution_count": null,
      "outputs": [
        {
          "output_type": "execute_result",
          "data": {
            "text/plain": [
              "<tensorflow.python.keras.callbacks.History at 0x7f396a120c18>"
            ]
          },
          "metadata": {
            "tags": []
          },
          "execution_count": 700
        }
      ]
    },
    {
      "cell_type": "code",
      "metadata": {
        "id": "lJQODskp2Q1r"
      },
      "source": [
        "resArray3 = list(X3[-1])"
      ],
      "execution_count": null,
      "outputs": []
    },
    {
      "cell_type": "code",
      "metadata": {
        "id": "nISSjzQ72ZLB"
      },
      "source": [
        "for i in range(0 , 24):\n",
        "  abc = resArray3[i:i+8]\n",
        "  x_input = array(abc).astype('float32')\n",
        "  x_input = x_input.reshape((1, n_steps, n_features))\n",
        "  resArray3.append(model.predict(x_input, verbose=0))\n"
      ],
      "execution_count": null,
      "outputs": []
    },
    {
      "cell_type": "code",
      "metadata": {
        "id": "UrhrP_ss2j6g"
      },
      "source": [
        "output = array(resArray3[8:]).flatten()"
      ],
      "execution_count": null,
      "outputs": []
    },
    {
      "cell_type": "code",
      "metadata": {
        "id": "MIPDRGptflgX",
        "colab": {
          "base_uri": "https://localhost:8080/",
          "height": 282
        },
        "outputId": "529b1cc2-0864-4e4d-92ea-3b41c1fb8339"
      },
      "source": [
        "plt.plot(range1 , raw_seq3)\n",
        "plt.plot(range2 , output , 'r')"
      ],
      "execution_count": null,
      "outputs": [
        {
          "output_type": "execute_result",
          "data": {
            "text/plain": [
              "[<matplotlib.lines.Line2D at 0x7f396a103c88>]"
            ]
          },
          "metadata": {
            "tags": []
          },
          "execution_count": 704
        },
        {
          "output_type": "display_data",
          "data": {
            "image/png": "[encoded data removed]",
            "text/plain": [
              "<Figure size 432x288 with 1 Axes>"
            ]
          },
          "metadata": {
            "tags": [],
            "needs_background": "light"
          }
        }
      ]
    },
    {
      "cell_type": "code",
      "metadata": {
        "id": "wSoMB8262q7p"
      },
      "source": [
        "result['NSN Total'] = output"
      ],
      "execution_count": null,
      "outputs": []
    },
    {
      "cell_type": "code",
      "metadata": {
        "id": "0UPhoi382wD9"
      },
      "source": [
        "result['State'] = 'Madhya Pradesh'"
      ],
      "execution_count": null,
      "outputs": []
    },
    {
      "cell_type": "code",
      "metadata": {
        "id": "9IXRVoUX2xRy"
      },
      "source": [
        "result['District'] = 'Ujjain'"
      ],
      "execution_count": null,
      "outputs": []
    },
    {
      "cell_type": "code",
      "metadata": {
        "id": "5C_JnkoC2-z9"
      },
      "source": [
        "result = result[['State' , 'District' , 'Year' , 'Rainfall' , 'Relative Humidity' , 'Average Temperature' , 'NSP' , 'Relapse Total' , 'NSN Total']]"
      ],
      "execution_count": null,
      "outputs": []
    },
    {
      "cell_type": "code",
      "metadata": {
        "id": "9A05xc5d4QSE"
      },
      "source": [
        "result.to_csv('UjjainPred.csv' , index = False)"
      ],
      "execution_count": null,
      "outputs": []
    },
    {
      "cell_type": "code",
      "metadata": {
        "id": "r3S70PefhNSk",
        "colab": {
          "base_uri": "https://localhost:8080/",
          "height": 758
        },
        "outputId": "1f83ffe1-a0d6-4b6a-8273-c8d37b7c3a39"
      },
      "source": [
        "result"
      ],
      "execution_count": null,
      "outputs": [
        {
          "output_type": "execute_result",
          "data": {
            "text/html": [
              "<div>\n",
              "<style scoped>\n",
              "    .dataframe tbody tr th:only-of-type {\n",
              "        vertical-align: middle;\n",
              "    }\n",
              "\n",
              "    .dataframe tbody tr th {\n",
              "        vertical-align: top;\n",
              "    }\n",
              "\n",
              "    .dataframe thead th {\n",
              "        text-align: right;\n",
              "    }\n",
              "</style>\n",
              "<table border=\"1\" class=\"dataframe\">\n",
              "  <thead>\n",
              "    <tr style=\"text-align: right;\">\n",
              "      <th></th>\n",
              "      <th>NSP</th>\n",
              "      <th>Year</th>\n",
              "      <th>Rainfall</th>\n",
              "      <th>Relative Humidity</th>\n",
              "      <th>Average Temperature</th>\n",
              "    </tr>\n",
              "  </thead>\n",
              "  <tbody>\n",
              "    <tr>\n",
              "      <th>0</th>\n",
              "      <td>384.874176</td>\n",
              "      <td>2019-03-31</td>\n",
              "      <td>13.286482</td>\n",
              "      <td>64.152527</td>\n",
              "      <td>21.252214</td>\n",
              "    </tr>\n",
              "    <tr>\n",
              "      <th>1</th>\n",
              "      <td>395.872589</td>\n",
              "      <td>2019-06-30</td>\n",
              "      <td>39.747833</td>\n",
              "      <td>34.333740</td>\n",
              "      <td>19.608793</td>\n",
              "    </tr>\n",
              "    <tr>\n",
              "      <th>2</th>\n",
              "      <td>452.609222</td>\n",
              "      <td>2019-09-30</td>\n",
              "      <td>134.148087</td>\n",
              "      <td>22.644094</td>\n",
              "      <td>32.788448</td>\n",
              "    </tr>\n",
              "    <tr>\n",
              "      <th>3</th>\n",
              "      <td>476.930481</td>\n",
              "      <td>2019-12-31</td>\n",
              "      <td>964.951294</td>\n",
              "      <td>80.038467</td>\n",
              "      <td>28.468248</td>\n",
              "    </tr>\n",
              "    <tr>\n",
              "      <th>4</th>\n",
              "      <td>442.740295</td>\n",
              "      <td>2020-03-31</td>\n",
              "      <td>33.192051</td>\n",
              "      <td>57.581493</td>\n",
              "      <td>21.257965</td>\n",
              "    </tr>\n",
              "    <tr>\n",
              "      <th>5</th>\n",
              "      <td>437.703979</td>\n",
              "      <td>2020-06-30</td>\n",
              "      <td>46.507729</td>\n",
              "      <td>37.740322</td>\n",
              "      <td>19.289560</td>\n",
              "    </tr>\n",
              "    <tr>\n",
              "      <th>6</th>\n",
              "      <td>459.177887</td>\n",
              "      <td>2020-09-30</td>\n",
              "      <td>156.529449</td>\n",
              "      <td>25.662203</td>\n",
              "      <td>33.102337</td>\n",
              "    </tr>\n",
              "    <tr>\n",
              "      <th>7</th>\n",
              "      <td>475.568146</td>\n",
              "      <td>2020-12-31</td>\n",
              "      <td>1225.593140</td>\n",
              "      <td>81.912079</td>\n",
              "      <td>28.561802</td>\n",
              "    </tr>\n",
              "    <tr>\n",
              "      <th>8</th>\n",
              "      <td>442.911591</td>\n",
              "      <td>2021-03-31</td>\n",
              "      <td>8.795707</td>\n",
              "      <td>61.314632</td>\n",
              "      <td>20.922325</td>\n",
              "    </tr>\n",
              "    <tr>\n",
              "      <th>9</th>\n",
              "      <td>446.522064</td>\n",
              "      <td>2021-06-30</td>\n",
              "      <td>30.184031</td>\n",
              "      <td>37.472862</td>\n",
              "      <td>18.906992</td>\n",
              "    </tr>\n",
              "    <tr>\n",
              "      <th>10</th>\n",
              "      <td>459.741394</td>\n",
              "      <td>2021-09-30</td>\n",
              "      <td>210.162384</td>\n",
              "      <td>26.799665</td>\n",
              "      <td>33.319447</td>\n",
              "    </tr>\n",
              "    <tr>\n",
              "      <th>11</th>\n",
              "      <td>469.747528</td>\n",
              "      <td>2021-12-31</td>\n",
              "      <td>1549.928833</td>\n",
              "      <td>80.651329</td>\n",
              "      <td>28.849066</td>\n",
              "    </tr>\n",
              "    <tr>\n",
              "      <th>12</th>\n",
              "      <td>456.037170</td>\n",
              "      <td>2022-03-31</td>\n",
              "      <td>45.538445</td>\n",
              "      <td>60.706421</td>\n",
              "      <td>20.809362</td>\n",
              "    </tr>\n",
              "    <tr>\n",
              "      <th>13</th>\n",
              "      <td>453.050476</td>\n",
              "      <td>2022-06-30</td>\n",
              "      <td>34.617886</td>\n",
              "      <td>39.424263</td>\n",
              "      <td>18.743097</td>\n",
              "    </tr>\n",
              "    <tr>\n",
              "      <th>14</th>\n",
              "      <td>459.406647</td>\n",
              "      <td>2022-09-30</td>\n",
              "      <td>173.416870</td>\n",
              "      <td>27.078941</td>\n",
              "      <td>33.845470</td>\n",
              "    </tr>\n",
              "    <tr>\n",
              "      <th>15</th>\n",
              "      <td>465.365540</td>\n",
              "      <td>2022-12-31</td>\n",
              "      <td>1711.540405</td>\n",
              "      <td>79.609657</td>\n",
              "      <td>29.183767</td>\n",
              "    </tr>\n",
              "    <tr>\n",
              "      <th>16</th>\n",
              "      <td>456.636780</td>\n",
              "      <td>2023-03-31</td>\n",
              "      <td>-61.765667</td>\n",
              "      <td>60.602936</td>\n",
              "      <td>20.919706</td>\n",
              "    </tr>\n",
              "    <tr>\n",
              "      <th>17</th>\n",
              "      <td>455.363068</td>\n",
              "      <td>2023-06-30</td>\n",
              "      <td>54.437149</td>\n",
              "      <td>38.993607</td>\n",
              "      <td>18.736130</td>\n",
              "    </tr>\n",
              "    <tr>\n",
              "      <th>18</th>\n",
              "      <td>458.327393</td>\n",
              "      <td>2023-09-30</td>\n",
              "      <td>493.472687</td>\n",
              "      <td>28.101225</td>\n",
              "      <td>34.466656</td>\n",
              "    </tr>\n",
              "    <tr>\n",
              "      <th>19</th>\n",
              "      <td>462.259125</td>\n",
              "      <td>2023-12-31</td>\n",
              "      <td>2473.700928</td>\n",
              "      <td>78.233795</td>\n",
              "      <td>29.677696</td>\n",
              "    </tr>\n",
              "    <tr>\n",
              "      <th>20</th>\n",
              "      <td>457.054871</td>\n",
              "      <td>2024-03-31</td>\n",
              "      <td>224.923157</td>\n",
              "      <td>60.127323</td>\n",
              "      <td>21.009281</td>\n",
              "    </tr>\n",
              "    <tr>\n",
              "      <th>21</th>\n",
              "      <td>455.256104</td>\n",
              "      <td>2024-06-30</td>\n",
              "      <td>31.875587</td>\n",
              "      <td>39.213451</td>\n",
              "      <td>18.797733</td>\n",
              "    </tr>\n",
              "    <tr>\n",
              "      <th>22</th>\n",
              "      <td>456.620972</td>\n",
              "      <td>2024-09-30</td>\n",
              "      <td>-354.171814</td>\n",
              "      <td>27.866478</td>\n",
              "      <td>35.201096</td>\n",
              "    </tr>\n",
              "    <tr>\n",
              "      <th>23</th>\n",
              "      <td>459.060974</td>\n",
              "      <td>2024-12-31</td>\n",
              "      <td>1509.911499</td>\n",
              "      <td>76.206154</td>\n",
              "      <td>30.239355</td>\n",
              "    </tr>\n",
              "  </tbody>\n",
              "</table>\n",
              "</div>"
            ],
            "text/plain": [
              "           NSP       Year     Rainfall  Relative Humidity  Average Temperature\n",
              "0   384.874176 2019-03-31    13.286482          64.152527            21.252214\n",
              "1   395.872589 2019-06-30    39.747833          34.333740            19.608793\n",
              "2   452.609222 2019-09-30   134.148087          22.644094            32.788448\n",
              "3   476.930481 2019-12-31   964.951294          80.038467            28.468248\n",
              "4   442.740295 2020-03-31    33.192051          57.581493            21.257965\n",
              "5   437.703979 2020-06-30    46.507729          37.740322            19.289560\n",
              "6   459.177887 2020-09-30   156.529449          25.662203            33.102337\n",
              "7   475.568146 2020-12-31  1225.593140          81.912079            28.561802\n",
              "8   442.911591 2021-03-31     8.795707          61.314632            20.922325\n",
              "9   446.522064 2021-06-30    30.184031          37.472862            18.906992\n",
              "10  459.741394 2021-09-30   210.162384          26.799665            33.319447\n",
              "11  469.747528 2021-12-31  1549.928833          80.651329            28.849066\n",
              "12  456.037170 2022-03-31    45.538445          60.706421            20.809362\n",
              "13  453.050476 2022-06-30    34.617886          39.424263            18.743097\n",
              "14  459.406647 2022-09-30   173.416870          27.078941            33.845470\n",
              "15  465.365540 2022-12-31  1711.540405          79.609657            29.183767\n",
              "16  456.636780 2023-03-31   -61.765667          60.602936            20.919706\n",
              "17  455.363068 2023-06-30    54.437149          38.993607            18.736130\n",
              "18  458.327393 2023-09-30   493.472687          28.101225            34.466656\n",
              "19  462.259125 2023-12-31  2473.700928          78.233795            29.677696\n",
              "20  457.054871 2024-03-31   224.923157          60.127323            21.009281\n",
              "21  455.256104 2024-06-30    31.875587          39.213451            18.797733\n",
              "22  456.620972 2024-09-30  -354.171814          27.866478            35.201096\n",
              "23  459.060974 2024-12-31  1509.911499          76.206154            30.239355"
            ]
          },
          "metadata": {
            "tags": []
          },
          "execution_count": 545
        }
      ]
    },
    {
      "cell_type": "code",
      "metadata": {
        "id": "bua28fbHq_nf"
      },
      "source": [
        ""
      ],
      "execution_count": null,
      "outputs": []
    }
  ]
}